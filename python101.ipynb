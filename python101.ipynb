{
  "nbformat": 4,
  "nbformat_minor": 0,
  "metadata": {
    "colab": {
      "name": "python101.ipynb",
      "version": "0.3.2",
      "provenance": [],
      "include_colab_link": true
    },
    "kernelspec": {
      "name": "python3",
      "display_name": "Python 3"
    },
    "accelerator": "GPU"
  },
  "cells": [
    {
      "cell_type": "markdown",
      "metadata": {
        "id": "view-in-github",
        "colab_type": "text"
      },
      "source": [
        "<a href=\"https://colab.research.google.com/github/fikritrader/CogAlg/blob/master/python101.ipynb\" target=\"_parent\"><img src=\"https://colab.research.google.com/assets/colab-badge.svg\" alt=\"Open In Colab\"/></a>"
      ]
    },
    {
      "cell_type": "code",
      "metadata": {
        "id": "LSNfVqJO-7-U",
        "colab_type": "code",
        "outputId": "9bafb746-9673-48d2-f8f5-3c54f94062d0",
        "colab": {
          "base_uri": "https://localhost:8080/",
          "height": 34
        }
      },
      "source": [
        "print(\"hello, world\")"
      ],
      "execution_count": 0,
      "outputs": [
        {
          "output_type": "stream",
          "text": [
            "hello, world\n"
          ],
          "name": "stdout"
        }
      ]
    },
    {
      "cell_type": "code",
      "metadata": {
        "id": "sl2-YclDAdhY",
        "colab_type": "code",
        "outputId": "efa83223-f87c-4d6d-f7f3-228071762f38",
        "colab": {
          "base_uri": "https://localhost:8080/",
          "height": 34
        }
      },
      "source": [
        "# comment\n",
        "from platform import python_version\n",
        "print(\"Python Version:\", python_version())"
      ],
      "execution_count": 0,
      "outputs": [
        {
          "output_type": "stream",
          "text": [
            "Python Version: 3.6.6\n"
          ],
          "name": "stdout"
        }
      ]
    },
    {
      "cell_type": "code",
      "metadata": {
        "id": "oFFYNv3cAlo0",
        "colab_type": "code",
        "outputId": "4d494bb2-984b-4a6a-d811-d780e0489c21",
        "colab": {
          "base_uri": "https://localhost:8080/",
          "height": 102
        }
      },
      "source": [
        "# https://www.learnpython.org/en/\n",
        "# LearnPython.org interactive Python tutorial\n",
        "print(\"Hello World\")\n",
        "print(\"Hello World\\nThis is a message\")\n",
        "x = 3\n",
        "print(x)\n",
        "x = 2\n",
        "y = 3\n",
        "print(x, ' ', y)"
      ],
      "execution_count": 0,
      "outputs": [
        {
          "output_type": "stream",
          "text": [
            "Hello World\n",
            "Hello World\n",
            "This is a message\n",
            "3\n",
            "2   3\n"
          ],
          "name": "stdout"
        }
      ]
    },
    {
      "cell_type": "code",
      "metadata": {
        "id": "gRLR7SEXBJAY",
        "colab_type": "code",
        "colab": {}
      },
      "source": [
        "# Python Variables\n",
        "x = 2\n",
        "price = 2.5\n",
        "word = 'Hello'\n",
        "\n",
        "word = 'Hello'\n",
        "word = \"Hello\"\n",
        "word = '''Hello'''\n",
        "\n",
        "x = 2\n",
        "x = x + 1\n",
        "x = 5"
      ],
      "execution_count": 0,
      "outputs": []
    },
    {
      "cell_type": "code",
      "metadata": {
        "id": "7TTMZBM-BbjP",
        "colab_type": "code",
        "outputId": "d3272c2a-f402-4de7-c8c7-5d4ab3ea41f1",
        "colab": {
          "base_uri": "https://localhost:8080/",
          "height": 136
        }
      },
      "source": [
        "# Python Basic Operators\n",
        "print('7 + 2 =', 7 + 2)\n",
        "print('7 - 2 =', 7 - 2)\n",
        "print('7 * 2 =', 7 * 2)\n",
        "print('7 / 2 =', 7 / 2)\n",
        "print('7 // 2 =', 7 // 2)\n",
        "print('7 % 2 =', 7 % 2)\n",
        "print('7 ** 2 =', 7 ** 2)\n",
        "# https://www.learnpython.org/en/Basic_Operators"
      ],
      "execution_count": 0,
      "outputs": [
        {
          "output_type": "stream",
          "text": [
            "7 + 2 = 9\n",
            "7 - 2 = 5\n",
            "7 * 2 = 14\n",
            "7 / 2 = 3.5\n",
            "7 // 2 = 3\n",
            "7 % 2 = 1\n",
            "7 ** 2 = 49\n"
          ],
          "name": "stdout"
        }
      ]
    },
    {
      "cell_type": "code",
      "metadata": {
        "id": "cku5YutOB_nC",
        "colab_type": "code",
        "outputId": "d689fcc1-cd12-4f29-d5f8-ef3d054448fb",
        "colab": {
          "base_uri": "https://localhost:8080/",
          "height": 34
        }
      },
      "source": [
        "# BMI Calculator in Python\n",
        "height_cm = 170\n",
        "weight_kg = 60\n",
        "\n",
        "height_m = height_cm/100\n",
        "BMI = (weight_kg/(height_m**2))\n",
        "\n",
        "print(\"Your BMI is: \" + str(round(BMI,1)))"
      ],
      "execution_count": 0,
      "outputs": [
        {
          "output_type": "stream",
          "text": [
            "Your BMI is: 20.8\n"
          ],
          "name": "stdout"
        }
      ]
    },
    {
      "cell_type": "code",
      "metadata": {
        "id": "-PgxWOwgBr3b",
        "colab_type": "code",
        "outputId": "7977681c-c09b-4c6e-a296-6b39ed36563a",
        "colab": {
          "base_uri": "https://localhost:8080/",
          "height": 34
        }
      },
      "source": [
        "# BMI Calculator in Python\n",
        "#height_cm = float(input(\"Enter your height in cm: \"))\n",
        "#weight_kg = float(input(\"Enter your weight in kg: \"))\n",
        "height_cm = 170\n",
        "weight_kg = 60\n",
        "height_m = height_cm/100\n",
        "BMI = (weight_kg/(height_m**2))\n",
        "\n",
        "print(\"Your BMI is: \" + str(round(BMI,1)))"
      ],
      "execution_count": 0,
      "outputs": [
        {
          "output_type": "stream",
          "text": [
            "Your BMI is: 20.8\n"
          ],
          "name": "stdout"
        }
      ]
    },
    {
      "cell_type": "code",
      "metadata": {
        "id": "NQcqaeFwAxlo",
        "colab_type": "code",
        "colab": {}
      },
      "source": [
        "#name = input(\"Enter a name: \")\n",
        "#x = int(input(\"What is x? \"))\n",
        "#n = float(input(\"Write a number \"))"
      ],
      "execution_count": 0,
      "outputs": []
    },
    {
      "cell_type": "code",
      "metadata": {
        "id": "j5dmVry2ClzF",
        "colab_type": "code",
        "outputId": "d6542da1-55a6-4e34-d857-2666a9b94e7a",
        "colab": {
          "base_uri": "https://localhost:8080/",
          "height": 34
        }
      },
      "source": [
        "# How much is your $100 worth after 7 years?\n",
        "fv = 100 * 1.1 ** 7\n",
        "print('fv = ', round(fv, 2))\n",
        "# output = 194.87"
      ],
      "execution_count": 0,
      "outputs": [
        {
          "output_type": "stream",
          "text": [
            "fv =  194.87\n"
          ],
          "name": "stdout"
        }
      ]
    },
    {
      "cell_type": "code",
      "metadata": {
        "id": "wsh36fLxDKC3",
        "colab_type": "code",
        "outputId": "2a908eee-508a-4fc1-f0a6-6146381fcc99",
        "colab": {
          "base_uri": "https://localhost:8080/",
          "height": 34
        }
      },
      "source": [
        "# Future Value\n",
        "pv = 100\n",
        "r = 0.1 \n",
        "n = 7\n",
        "fv = pv * ((1 + (r)) ** n)\n",
        "print(round(fv, 2))"
      ],
      "execution_count": 0,
      "outputs": [
        {
          "output_type": "stream",
          "text": [
            "194.87\n"
          ],
          "name": "stdout"
        }
      ]
    },
    {
      "cell_type": "code",
      "metadata": {
        "id": "kHS8v68ODSvR",
        "colab_type": "code",
        "outputId": "df15628f-9797-4c1e-c9d9-76bcfec42d2c",
        "colab": {
          "base_uri": "https://localhost:8080/",
          "height": 34
        }
      },
      "source": [
        "amount = 100\n",
        "interest = 10 #10% = 0.01 * 10 \n",
        "years = 7\n",
        "\n",
        "future_value = amount * ((1 + (0.01 * interest)) ** years)\n",
        "print(round(future_value, 2))"
      ],
      "execution_count": 0,
      "outputs": [
        {
          "output_type": "stream",
          "text": [
            "194.87\n"
          ],
          "name": "stdout"
        }
      ]
    },
    {
      "cell_type": "code",
      "metadata": {
        "id": "7g-f4wrsDmqJ",
        "colab_type": "code",
        "outputId": "da2926fc-2b9b-427e-bf70-2180bf6a42e5",
        "colab": {
          "base_uri": "https://localhost:8080/",
          "height": 34
        }
      },
      "source": [
        "# Python Function def\n",
        "def getfv(pv, r, n):\n",
        "    fv = pv * ((1 + (r)) ** n)\n",
        "    return fv\n",
        "fv = getfv(100, 0.1, 7)\n",
        "print(round(fv, 2))"
      ],
      "execution_count": 0,
      "outputs": [
        {
          "output_type": "stream",
          "text": [
            "194.87\n"
          ],
          "name": "stdout"
        }
      ]
    },
    {
      "cell_type": "code",
      "metadata": {
        "id": "NFofSQgqE682",
        "colab_type": "code",
        "outputId": "c05c02a9-3ae3-478d-9ed1-abfdc1b5708d",
        "colab": {
          "base_uri": "https://localhost:8080/",
          "height": 34
        }
      },
      "source": [
        "# Python if else\n",
        "score = 80\n",
        "if score >=60 :\n",
        "    print(\"Pass\")\n",
        "else:\n",
        "    print(\"Fail\")"
      ],
      "execution_count": 0,
      "outputs": [
        {
          "output_type": "stream",
          "text": [
            "Pass\n"
          ],
          "name": "stdout"
        }
      ]
    },
    {
      "cell_type": "code",
      "metadata": {
        "id": "1kZ4NRAcFFpx",
        "colab_type": "code",
        "outputId": "e160152c-a07b-4d60-9c57-60892d941227",
        "colab": {
          "base_uri": "https://localhost:8080/",
          "height": 34
        }
      },
      "source": [
        "# Python if elif else\n",
        "score = 90\n",
        "grade = \"\"\n",
        "if score >=90:\n",
        "    grade = \"A\"\n",
        "elif score >= 80:\n",
        "    grade = \"B\"\n",
        "elif score >= 70:\n",
        "    grade = \"C\"\n",
        "elif score >= 60:\n",
        "    grade = \"D\"\n",
        "else:\n",
        "    grade = \"E\"\n",
        "print(grade)\n",
        "# grade = ”A”"
      ],
      "execution_count": 0,
      "outputs": [
        {
          "output_type": "stream",
          "text": [
            "A\n"
          ],
          "name": "stdout"
        }
      ]
    },
    {
      "cell_type": "code",
      "metadata": {
        "id": "CRqf0VkRF6iw",
        "colab_type": "code",
        "outputId": "691d9fcc-cd25-43c6-f550-34f235c98f79",
        "colab": {
          "base_uri": "https://localhost:8080/",
          "height": 187
        }
      },
      "source": [
        "for i in range(1,11):\n",
        "    print(i)"
      ],
      "execution_count": 0,
      "outputs": [
        {
          "output_type": "stream",
          "text": [
            "1\n",
            "2\n",
            "3\n",
            "4\n",
            "5\n",
            "6\n",
            "7\n",
            "8\n",
            "9\n",
            "10\n"
          ],
          "name": "stdout"
        }
      ]
    },
    {
      "cell_type": "code",
      "metadata": {
        "id": "k1X907EQF97q",
        "colab_type": "code",
        "outputId": "e8edbbc6-fac7-445a-d0ae-fa7d888ea11c",
        "colab": {
          "base_uri": "https://localhost:8080/",
          "height": 1394
        }
      },
      "source": [
        "# for loops\n",
        "for i in range(1,10):\n",
        "    for j in range(1,10):\n",
        "        print(i, ' * ' , j , ' = ', i*j)"
      ],
      "execution_count": 0,
      "outputs": [
        {
          "output_type": "stream",
          "text": [
            "1  *  1  =  1\n",
            "1  *  2  =  2\n",
            "1  *  3  =  3\n",
            "1  *  4  =  4\n",
            "1  *  5  =  5\n",
            "1  *  6  =  6\n",
            "1  *  7  =  7\n",
            "1  *  8  =  8\n",
            "1  *  9  =  9\n",
            "2  *  1  =  2\n",
            "2  *  2  =  4\n",
            "2  *  3  =  6\n",
            "2  *  4  =  8\n",
            "2  *  5  =  10\n",
            "2  *  6  =  12\n",
            "2  *  7  =  14\n",
            "2  *  8  =  16\n",
            "2  *  9  =  18\n",
            "3  *  1  =  3\n",
            "3  *  2  =  6\n",
            "3  *  3  =  9\n",
            "3  *  4  =  12\n",
            "3  *  5  =  15\n",
            "3  *  6  =  18\n",
            "3  *  7  =  21\n",
            "3  *  8  =  24\n",
            "3  *  9  =  27\n",
            "4  *  1  =  4\n",
            "4  *  2  =  8\n",
            "4  *  3  =  12\n",
            "4  *  4  =  16\n",
            "4  *  5  =  20\n",
            "4  *  6  =  24\n",
            "4  *  7  =  28\n",
            "4  *  8  =  32\n",
            "4  *  9  =  36\n",
            "5  *  1  =  5\n",
            "5  *  2  =  10\n",
            "5  *  3  =  15\n",
            "5  *  4  =  20\n",
            "5  *  5  =  25\n",
            "5  *  6  =  30\n",
            "5  *  7  =  35\n",
            "5  *  8  =  40\n",
            "5  *  9  =  45\n",
            "6  *  1  =  6\n",
            "6  *  2  =  12\n",
            "6  *  3  =  18\n",
            "6  *  4  =  24\n",
            "6  *  5  =  30\n",
            "6  *  6  =  36\n",
            "6  *  7  =  42\n",
            "6  *  8  =  48\n",
            "6  *  9  =  54\n",
            "7  *  1  =  7\n",
            "7  *  2  =  14\n",
            "7  *  3  =  21\n",
            "7  *  4  =  28\n",
            "7  *  5  =  35\n",
            "7  *  6  =  42\n",
            "7  *  7  =  49\n",
            "7  *  8  =  56\n",
            "7  *  9  =  63\n",
            "8  *  1  =  8\n",
            "8  *  2  =  16\n",
            "8  *  3  =  24\n",
            "8  *  4  =  32\n",
            "8  *  5  =  40\n",
            "8  *  6  =  48\n",
            "8  *  7  =  56\n",
            "8  *  8  =  64\n",
            "8  *  9  =  72\n",
            "9  *  1  =  9\n",
            "9  *  2  =  18\n",
            "9  *  3  =  27\n",
            "9  *  4  =  36\n",
            "9  *  5  =  45\n",
            "9  *  6  =  54\n",
            "9  *  7  =  63\n",
            "9  *  8  =  72\n",
            "9  *  9  =  81\n"
          ],
          "name": "stdout"
        }
      ]
    },
    {
      "cell_type": "code",
      "metadata": {
        "id": "J7IbtHpYGGl2",
        "colab_type": "code",
        "outputId": "4d6accd2-a976-46cf-99dd-3130fc540660",
        "colab": {
          "base_uri": "https://localhost:8080/",
          "height": 187
        }
      },
      "source": [
        "# while loops\n",
        "age = 10\n",
        "while age < 20:\n",
        "    print(age)\n",
        "    age = age + 1"
      ],
      "execution_count": 0,
      "outputs": [
        {
          "output_type": "stream",
          "text": [
            "10\n",
            "11\n",
            "12\n",
            "13\n",
            "14\n",
            "15\n",
            "16\n",
            "17\n",
            "18\n",
            "19\n"
          ],
          "name": "stdout"
        }
      ]
    },
    {
      "cell_type": "code",
      "metadata": {
        "id": "VI1DceBgGwLs",
        "colab_type": "code",
        "outputId": "1b0fbcc3-6477-4ef1-c3ec-59bbbb4c6846",
        "colab": {
          "base_uri": "https://localhost:8080/",
          "height": 34
        }
      },
      "source": [
        "# Python Funtions\n",
        "def convertCMtoM(xcm):\n",
        "    m = xcm/100\n",
        "    return m\n",
        "\n",
        "cm = 180\n",
        "m = convertCMtoM(cm)\n",
        "print(str(m))\n"
      ],
      "execution_count": 0,
      "outputs": [
        {
          "output_type": "stream",
          "text": [
            "1.8\n"
          ],
          "name": "stdout"
        }
      ]
    },
    {
      "cell_type": "code",
      "metadata": {
        "id": "7qUHkImwG2R_",
        "colab_type": "code",
        "outputId": "d6220ec2-7d41-4268-e712-dce966bcd3dc",
        "colab": {
          "base_uri": "https://localhost:8080/",
          "height": 85
        }
      },
      "source": [
        "# Python Lists []\n",
        "x = [60, 70, 80, 90]\n",
        "print(len(x))\n",
        "print(x[0])\n",
        "print(x[1])\n",
        "print(x[-1])"
      ],
      "execution_count": 0,
      "outputs": [
        {
          "output_type": "stream",
          "text": [
            "4\n",
            "60\n",
            "70\n",
            "90\n"
          ],
          "name": "stdout"
        }
      ]
    },
    {
      "cell_type": "code",
      "metadata": {
        "id": "CEZp7eBrPLFA",
        "colab_type": "code",
        "outputId": "c11d8a6a-6a2d-443e-94d5-020d672404ec",
        "colab": {
          "base_uri": "https://localhost:8080/",
          "height": 68
        }
      },
      "source": [
        "# Lists Append\n",
        "mylist = []\n",
        "mylist.append(60)\n",
        "mylist.append(70)\n",
        "mylist.append(80)\n",
        "for x in mylist:\n",
        "    print(x)"
      ],
      "execution_count": 0,
      "outputs": [
        {
          "output_type": "stream",
          "text": [
            "60\n",
            "70\n",
            "80\n"
          ],
          "name": "stdout"
        }
      ]
    },
    {
      "cell_type": "code",
      "metadata": {
        "id": "rqIaow30HBom",
        "colab_type": "code",
        "outputId": "b5082dec-7783-4987-b5e1-944ce7bc039b",
        "colab": {
          "base_uri": "https://localhost:8080/",
          "height": 85
        }
      },
      "source": [
        "# Python Tuples ()\n",
        "x = (10, 20, 30, 40, 50)\n",
        "print(x[0])\n",
        "print(x[1])\n",
        "print(x[2])\n",
        "print(x[-1])"
      ],
      "execution_count": 0,
      "outputs": [
        {
          "output_type": "stream",
          "text": [
            "10\n",
            "20\n",
            "30\n",
            "50\n"
          ],
          "name": "stdout"
        }
      ]
    },
    {
      "cell_type": "code",
      "metadata": {
        "id": "QNm2wSn9HLt7",
        "colab_type": "code",
        "outputId": "15338d4e-c047-481d-a14d-9a5eb9200fcb",
        "colab": {
          "base_uri": "https://localhost:8080/",
          "height": 34
        }
      },
      "source": [
        "# Python Dictionary {Key:Value}\n",
        "k = { 'EN':'English', 'FR':'French' }\n",
        "print(k['EN'])"
      ],
      "execution_count": 0,
      "outputs": [
        {
          "output_type": "stream",
          "text": [
            "English\n"
          ],
          "name": "stdout"
        }
      ]
    },
    {
      "cell_type": "code",
      "metadata": {
        "id": "xH0bxdkDHfQY",
        "colab_type": "code",
        "outputId": "e0c4ef9e-366e-491f-97dd-2e53a970d981",
        "colab": {
          "base_uri": "https://localhost:8080/",
          "height": 119
        }
      },
      "source": [
        "# Python Sets\n",
        "animals = {'cat', 'dog'}\n",
        "print('cat' in animals)  # Check if an element is in a set; prints \"True\"\n",
        "print('fish' in animals) # prints \"False\"\n",
        "animals.add('fish')      # Add an element to a set\n",
        "print('fish' in animals) # Prints \"True\"\n",
        "print(len(animals))      # Number of elements in a set; prints \"3\"\n",
        "animals.add('cat')       # Adding an element that is already in the set does nothing\n",
        "print(len(animals))      # Prints \"3\"\n",
        "animals.remove('cat')    # Remove an element from a set\n",
        "print(len(animals))      # Prints \"2”\n",
        "# Source: http://cs231n.github.io/python-numpy-tutorial/"
      ],
      "execution_count": 0,
      "outputs": [
        {
          "output_type": "stream",
          "text": [
            "True\n",
            "False\n",
            "True\n",
            "3\n",
            "3\n",
            "2\n"
          ],
          "name": "stdout"
        }
      ]
    },
    {
      "cell_type": "markdown",
      "metadata": {
        "id": "dLtYvtKjW62T",
        "colab_type": "text"
      },
      "source": [
        "# Python File Input / Output"
      ]
    },
    {
      "cell_type": "code",
      "metadata": {
        "id": "cHLIUSoPH3hb",
        "colab_type": "code",
        "outputId": "680ede80-e8e2-47cf-c2f5-a7a7852368dd",
        "colab": {
          "base_uri": "https://localhost:8080/",
          "height": 51
        }
      },
      "source": [
        "# Python File Input / Output\n",
        "with open('myfile.txt', 'w') as file:\n",
        "    file.write('Hello World\\nThis is Python File Input Output')\n",
        "\n",
        "with open('myfile.txt', 'r') as file:\n",
        "    text = file.read()\n",
        "print(text)"
      ],
      "execution_count": 0,
      "outputs": [
        {
          "output_type": "stream",
          "text": [
            "Hello World\n",
            "This is Python File Input Output\n"
          ],
          "name": "stdout"
        }
      ]
    },
    {
      "cell_type": "code",
      "metadata": {
        "id": "gmIIcHHSIVZZ",
        "colab_type": "code",
        "outputId": "c1113e70-aa1d-4a06-dbdb-094ec188cbe1",
        "colab": {
          "base_uri": "https://localhost:8080/",
          "height": 68
        }
      },
      "source": [
        "# Python File Input / Output\n",
        "with open('myfile.txt', 'a+') as file:\n",
        "    file.write('\\n' + 'New line')\n",
        "\n",
        "with open('myfile.txt', 'r') as file:\n",
        "    text = file.read()\n",
        "print(text)\n"
      ],
      "execution_count": 0,
      "outputs": [
        {
          "output_type": "stream",
          "text": [
            "Hello World\n",
            "This is Python File Input Output\n",
            "New line\n"
          ],
          "name": "stdout"
        }
      ]
    },
    {
      "cell_type": "code",
      "metadata": {
        "id": "oxj7DeqZH9Tm",
        "colab_type": "code",
        "outputId": "5ca879a2-f87c-44a8-ff5d-55d4e164ccb1",
        "colab": {
          "base_uri": "https://localhost:8080/",
          "height": 34
        }
      },
      "source": [
        "# !ls list files\n",
        "!ls"
      ],
      "execution_count": 0,
      "outputs": [
        {
          "output_type": "stream",
          "text": [
            "myfile.txt  sample_data\n"
          ],
          "name": "stdout"
        }
      ]
    },
    {
      "cell_type": "markdown",
      "metadata": {
        "id": "WeJ9qI-IWTmg",
        "colab_type": "text"
      },
      "source": [
        "# Pythong String and Text "
      ]
    },
    {
      "cell_type": "code",
      "metadata": {
        "id": "WATqgeSGNYFu",
        "colab_type": "code",
        "outputId": "9ce41775-a1ab-48cf-eda7-80f29e1bec8c",
        "colab": {
          "base_uri": "https://localhost:8080/",
          "height": 34
        }
      },
      "source": [
        "# String formating \n",
        "name = \"Alan\"\n",
        "age = 20\n",
        "print(\"%s is %d years old.\" % (name, age))\n",
        "# Alan is 20 years old."
      ],
      "execution_count": 0,
      "outputs": [
        {
          "output_type": "stream",
          "text": [
            "Alan is 20 years old.\n"
          ],
          "name": "stdout"
        }
      ]
    },
    {
      "cell_type": "code",
      "metadata": {
        "id": "eggolV5XN_TS",
        "colab_type": "code",
        "outputId": "38ad7c27-ca82-4d56-f06c-19a102dfe673",
        "colab": {
          "base_uri": "https://localhost:8080/",
          "height": 34
        }
      },
      "source": [
        "# String formating\n",
        "data = (\"Alan\", \"Lee\", 90.5)\n",
        "format_string = \"Hello %s %s. Your score is %s.\"\n",
        "print(format_string % data)\n",
        "# Hello Alan Lee. Your score is 90.5."
      ],
      "execution_count": 0,
      "outputs": [
        {
          "output_type": "stream",
          "text": [
            "Hello Alan Lee. Your score is 90.5.\n"
          ],
          "name": "stdout"
        }
      ]
    },
    {
      "cell_type": "code",
      "metadata": {
        "id": "wcDcy9GxQdAG",
        "colab_type": "code",
        "outputId": "0416fb81-ee7c-425a-8621-f88e17f1eb91",
        "colab": {
          "base_uri": "https://localhost:8080/",
          "height": 34
        }
      },
      "source": [
        "# Python Strings\n",
        "text = ('Put several strings within parentheses '\n",
        "        'to have them joined together.')\n",
        "print(text)\n",
        "# Put several strings within parentheses to have them joined together."
      ],
      "execution_count": 0,
      "outputs": [
        {
          "output_type": "stream",
          "text": [
            "Put several strings within parentheses to have them joined together.\n"
          ],
          "name": "stdout"
        }
      ]
    },
    {
      "cell_type": "code",
      "metadata": {
        "id": "BSJt3thzRWGX",
        "colab_type": "code",
        "outputId": "7130b447-6d35-4e99-8033-2060a95a4311",
        "colab": {
          "base_uri": "https://localhost:8080/",
          "height": 102
        }
      },
      "source": [
        "# Python Strings indexing\n",
        "word = 'Python'\n",
        "print(word[0])  # character in position 0\n",
        "#'P'\n",
        "print(word[5])  # character in position 5\n",
        "#'n'\n",
        "print(word[-1])  # last character\n",
        "#'n'\n",
        "print(word[-2])  # second-last character\n",
        "#'o'\n",
        "print(word[-6])\n",
        "#'P'"
      ],
      "execution_count": 0,
      "outputs": [
        {
          "output_type": "stream",
          "text": [
            "P\n",
            "n\n",
            "n\n",
            "o\n",
            "P\n"
          ],
          "name": "stdout"
        }
      ]
    },
    {
      "cell_type": "code",
      "metadata": {
        "id": "hmockLkVSg2O",
        "colab_type": "code",
        "outputId": "599331ab-9ed4-4a6e-ee29-687de9f6d49f",
        "colab": {
          "base_uri": "https://localhost:8080/",
          "height": 119
        }
      },
      "source": [
        "# Python Strings slicing substring\n",
        "word = 'Python'\n",
        "print(word[0:2])  # characters from position 0 (included) to 2 (excluded)\n",
        "#'Py'\n",
        "print(word[2:5])  # characters from position 2 (included) to 5 (excluded)\n",
        "#'tho'\n",
        "# Note how the start is always included, and the end always excluded. \n",
        "# This makes sure that s[:i] + s[i:] is always equal to s:\n",
        "print(word[:2] + word[2:])\n",
        "#'Python'\n",
        "\n",
        "# Slice indices have useful defaults; an omitted first index defaults to zero, \n",
        "# an omitted second index defaults to the size of the string being sliced.\n",
        "print(word[:2])   # character from the beginning to position 2 (excluded)\n",
        "#'Py'\n",
        "print(word[4:])  # characters from position 4 (included) to the end\n",
        "#'on'\n",
        "print(word[-2:])  # characters from the second-last (included) to the end\n",
        "# 'on'\n",
        "# One way to remember how slices work is to think of the indices as pointing between characters,\n",
        "#  with the left edge of the first character numbered 0. \n",
        "#  Then the right edge of the last character of a string of n characters has index n, for example:\n",
        "# +---+---+---+---+---+---+\n",
        "# | P | y | t | h | o | n |\n",
        "# +---+---+---+---+---+---+\n",
        "# 0   1   2   3   4   5   6\n",
        "# -6  -5  -4  -3  -2  -1\n",
        "# Source: https://docs.python.org/3.6/tutorial/introduction.html"
      ],
      "execution_count": 0,
      "outputs": [
        {
          "output_type": "stream",
          "text": [
            "Py\n",
            "tho\n",
            "Python\n",
            "Py\n",
            "on\n",
            "on\n"
          ],
          "name": "stdout"
        }
      ]
    },
    {
      "cell_type": "code",
      "metadata": {
        "id": "6VsiYFQw-uk1",
        "colab_type": "code",
        "outputId": "858b0e30-3617-43d2-dced-e8c525f42c4f",
        "colab": {
          "base_uri": "https://localhost:8080/",
          "height": 51
        }
      },
      "source": [
        "t1 = 'The mouse ran up the clock'\n",
        "t2 = 'The mouse ran down'\n",
        "s1 = t1.lower().split(' ')\n",
        "s2 = t2.lower().split(' ')\n",
        "terms = s1 + s2\n",
        "sortedset = sorted(set(terms))\n",
        "print('terms =', terms)\n",
        "print('sortedset =', sortedset)"
      ],
      "execution_count": 0,
      "outputs": [
        {
          "output_type": "stream",
          "text": [
            "terms = ['the', 'mouse', 'ran', 'up', 'the', 'clock', 'the', 'mouse', 'ran', 'down']\n",
            "sortedset = ['clock', 'down', 'mouse', 'ran', 'the', 'up']\n"
          ],
          "name": "stdout"
        }
      ]
    },
    {
      "cell_type": "code",
      "metadata": {
        "id": "7pxXtKXUBj2c",
        "colab_type": "code",
        "outputId": "e2aa71d4-a408-48ae-c372-ab7ee132a873",
        "colab": {
          "base_uri": "https://localhost:8080/",
          "height": 51
        }
      },
      "source": [
        "t1 = 'The mouse ran up the clock'\n",
        "t2 = 'The mouse ran down'\n",
        "s1 = t1.lower().split(' ')\n",
        "s2 = t2.lower().split(' ')\n",
        "terms = s1 + s2\n",
        "print(terms)\n",
        "\n",
        "tfdict = {}\n",
        "for term in terms:\n",
        "    if term not in tfdict:\n",
        "        tfdict[term] = 1\n",
        "    else:\n",
        "        tfdict[term] += 1\n",
        "\n",
        "a = []        \n",
        "for k,v in tfdict.items():\n",
        "    a.append('{}, {}'.format(k,v))\n",
        "\n",
        "print(a)"
      ],
      "execution_count": 0,
      "outputs": [
        {
          "output_type": "stream",
          "text": [
            "['the', 'mouse', 'ran', 'up', 'the', 'clock', 'the', 'mouse', 'ran', 'down']\n",
            "['the, 3', 'mouse, 2', 'ran, 2', 'up, 1', 'clock, 1', 'down, 1']\n"
          ],
          "name": "stdout"
        }
      ]
    },
    {
      "cell_type": "code",
      "metadata": {
        "id": "0Ii376mYWjSI",
        "colab_type": "code",
        "outputId": "7586969f-32cf-49fe-ba1a-0c42654f27e9",
        "colab": {
          "base_uri": "https://localhost:8080/",
          "height": 272
        }
      },
      "source": [
        "sorted_by_value = sorted(tfdict.items(), key=lambda kv: kv[1])\n",
        "print('sorted_by_value: ', sorted_by_value)\n",
        "\n",
        "sorted_by_value2 = sorted(tfdict, key=tfdict.get, reverse=True)\n",
        "print('sorted_by_value2: ', sorted_by_value2)\n",
        "\n",
        "sorted_by_value_reverse = sorted(tfdict.items(), key=lambda kv: kv[1], reverse=True)\n",
        "print('sorted_by_value_reverse: ', sorted_by_value_reverse)\n",
        "\n",
        "sorted_by_value_reverse_dict = dict(sorted_by_value_reverse)\n",
        "print('sorted_by_value_reverse_dict', sorted_by_value_reverse_dict)\n",
        "\n",
        "id2word = {id: word for id, word in enumerate(sorted_by_value_reverse_dict)}\n",
        "print('id2word', id2word)\n",
        "word2id = dict([(v, k) for (k, v) in id2word.items()])\n",
        "print('word2id', word2id)\n",
        "print('len_words:', len(word2id))\n",
        "\n",
        "sorted_by_key = sorted(tfdict.items(), key=lambda kv: kv[0])\n",
        "print('sorted_by_key: ', sorted_by_key)\n",
        "\n",
        "tfstring = '\\n'.join(a)\n",
        "print(tfstring)\n",
        "tf = tfdict.get('mouse')\n",
        "print(tf)"
      ],
      "execution_count": 0,
      "outputs": [
        {
          "output_type": "stream",
          "text": [
            "sorted_by_value:  [('up', 1), ('clock', 1), ('down', 1), ('mouse', 2), ('ran', 2), ('the', 3)]\n",
            "sorted_by_value2:  ['the', 'mouse', 'ran', 'up', 'clock', 'down']\n",
            "sorted_by_value_reverse:  [('the', 3), ('mouse', 2), ('ran', 2), ('up', 1), ('clock', 1), ('down', 1)]\n",
            "sorted_by_value_reverse_dict {'the': 3, 'mouse': 2, 'ran': 2, 'up': 1, 'clock': 1, 'down': 1}\n",
            "id2word {0: 'the', 1: 'mouse', 2: 'ran', 3: 'up', 4: 'clock', 5: 'down'}\n",
            "word2id {'the': 0, 'mouse': 1, 'ran': 2, 'up': 3, 'clock': 4, 'down': 5}\n",
            "len_words: 6\n",
            "sorted_by_key:  [('clock', 1), ('down', 1), ('mouse', 2), ('ran', 2), ('the', 3), ('up', 1)]\n",
            "the, 3\n",
            "mouse, 2\n",
            "ran, 2\n",
            "up, 1\n",
            "clock, 1\n",
            "down, 1\n",
            "2\n"
          ],
          "name": "stdout"
        }
      ]
    },
    {
      "cell_type": "markdown",
      "metadata": {
        "id": "EordW_s-SFZ9",
        "colab_type": "text"
      },
      "source": [
        "# Keras preprocessing text"
      ]
    },
    {
      "cell_type": "code",
      "metadata": {
        "id": "y7jE3NVjQ19I",
        "colab_type": "code",
        "outputId": "112e06bf-3803-47b6-db49-830191df5ae7",
        "colab": {
          "base_uri": "https://localhost:8080/",
          "height": 241
        }
      },
      "source": [
        "# keras.preprocessing.text Tokenizer \n",
        "from keras.preprocessing.text import Tokenizer\n",
        "# define 5 documents\n",
        "docs = ['Well done!', 'Good work', 'Great effort', 'nice work', 'Excellent!']\n",
        "# create the tokenizer\n",
        "t = Tokenizer()\n",
        "# fit the tokenizer on the documents\n",
        "t.fit_on_texts(docs)\n",
        "print('docs:', docs)\n",
        "print('word_counts:', t.word_counts)\n",
        "print('document_count:', t.document_count)\n",
        "print('word_index:', t.word_index)\n",
        "print('word_docs:', t.word_docs)\n",
        "# integer encode documents\n",
        "texts_to_matrix = t.texts_to_matrix(docs, mode='count')\n",
        "print('texts_to_matrix:')\n",
        "print(texts_to_matrix)"
      ],
      "execution_count": 0,
      "outputs": [
        {
          "output_type": "stream",
          "text": [
            "Using TensorFlow backend.\n"
          ],
          "name": "stderr"
        },
        {
          "output_type": "stream",
          "text": [
            "docs: ['Well done!', 'Good work', 'Great effort', 'nice work', 'Excellent!']\n",
            "word_counts: OrderedDict([('well', 1), ('done', 1), ('good', 1), ('work', 2), ('great', 1), ('effort', 1), ('nice', 1), ('excellent', 1)])\n",
            "document_count: 5\n",
            "word_index: {'work': 1, 'well': 2, 'done': 3, 'good': 4, 'great': 5, 'effort': 6, 'nice': 7, 'excellent': 8}\n",
            "word_docs: {'done': 1, 'well': 1, 'work': 2, 'good': 1, 'great': 1, 'effort': 1, 'nice': 1, 'excellent': 1}\n",
            "texts_to_matrix:\n",
            "[[0. 0. 1. 1. 0. 0. 0. 0. 0.]\n",
            " [0. 1. 0. 0. 1. 0. 0. 0. 0.]\n",
            " [0. 0. 0. 0. 0. 1. 1. 0. 0.]\n",
            " [0. 1. 0. 0. 0. 0. 0. 1. 0.]\n",
            " [0. 0. 0. 0. 0. 0. 0. 0. 1.]]\n"
          ],
          "name": "stdout"
        }
      ]
    },
    {
      "cell_type": "code",
      "metadata": {
        "id": "rHnI9P8PRCtB",
        "colab_type": "code",
        "outputId": "f202fe75-4ddb-45dc-8494-d76f1b4ebffb",
        "colab": {
          "base_uri": "https://localhost:8080/",
          "height": 309
        }
      },
      "source": [
        "# keras.preprocessing.text Tokenizer TF-IDF\n",
        "from keras.preprocessing.text import Tokenizer\n",
        "# define 5 documents\n",
        "docs = ['Well done!', 'Good work', 'Great effort', 'nice work', 'Excellent!']\n",
        "# create the tokenizer\n",
        "t = Tokenizer()\n",
        "# fit the tokenizer on the documents\n",
        "t.fit_on_texts(docs)\n",
        "print('docs:', docs)\n",
        "print('word_counts:', t.word_counts)\n",
        "print('document_count:', t.document_count)\n",
        "print('word_index:', t.word_index)\n",
        "print('word_docs:', t.word_docs)\n",
        "# tfidf encode documents\n",
        "texts_to_matrix = t.texts_to_matrix(docs, mode='tfidf')\n",
        "print('texts_to_matrix:')\n",
        "print(texts_to_matrix)"
      ],
      "execution_count": 0,
      "outputs": [
        {
          "output_type": "stream",
          "text": [
            "docs: ['Well done!', 'Good work', 'Great effort', 'nice work', 'Excellent!']\n",
            "word_counts: OrderedDict([('well', 1), ('done', 1), ('good', 1), ('work', 2), ('great', 1), ('effort', 1), ('nice', 1), ('excellent', 1)])\n",
            "document_count: 5\n",
            "word_index: {'work': 1, 'well': 2, 'done': 3, 'good': 4, 'great': 5, 'effort': 6, 'nice': 7, 'excellent': 8}\n",
            "word_docs: {'done': 1, 'well': 1, 'work': 2, 'good': 1, 'great': 1, 'effort': 1, 'nice': 1, 'excellent': 1}\n",
            "texts_to_matrix:\n",
            "[[0.         0.         1.25276297 1.25276297 0.         0.\n",
            "  0.         0.         0.        ]\n",
            " [0.         0.98082925 0.         0.         1.25276297 0.\n",
            "  0.         0.         0.        ]\n",
            " [0.         0.         0.         0.         0.         1.25276297\n",
            "  1.25276297 0.         0.        ]\n",
            " [0.         0.98082925 0.         0.         0.         0.\n",
            "  0.         1.25276297 0.        ]\n",
            " [0.         0.         0.         0.         0.         0.\n",
            "  0.         0.         1.25276297]]\n"
          ],
          "name": "stdout"
        }
      ]
    },
    {
      "cell_type": "code",
      "metadata": {
        "id": "YSxBQGgFRiYc",
        "colab_type": "code",
        "colab": {}
      },
      "source": [
        ""
      ],
      "execution_count": 0,
      "outputs": []
    },
    {
      "cell_type": "markdown",
      "metadata": {
        "id": "7syPDFg_Rjvv",
        "colab_type": "text"
      },
      "source": [
        "# Python Programming"
      ]
    },
    {
      "cell_type": "code",
      "metadata": {
        "id": "yf0874vYVSHH",
        "colab_type": "code",
        "outputId": "2bd17219-debf-4175-fd66-e7aa8768ebdb",
        "colab": {
          "base_uri": "https://localhost:8080/",
          "height": 204
        }
      },
      "source": [
        "# Fibonacci series: the sum of two elements defines the next\n",
        "a, b = 0, 1\n",
        "while b < 100:\n",
        "    print(a, \"+\" , b, '=' , a+b)\n",
        "    a, b = b, a+b"
      ],
      "execution_count": 0,
      "outputs": [
        {
          "output_type": "stream",
          "text": [
            "0 + 1 = 1\n",
            "1 + 1 = 2\n",
            "1 + 2 = 3\n",
            "2 + 3 = 5\n",
            "3 + 5 = 8\n",
            "5 + 8 = 13\n",
            "8 + 13 = 21\n",
            "13 + 21 = 34\n",
            "21 + 34 = 55\n",
            "34 + 55 = 89\n",
            "55 + 89 = 144\n"
          ],
          "name": "stdout"
        }
      ]
    },
    {
      "cell_type": "code",
      "metadata": {
        "id": "dMrirDaqWFOH",
        "colab_type": "code",
        "outputId": "491bffa0-f963-4c2e-9537-703731a16bf0",
        "colab": {
          "base_uri": "https://localhost:8080/",
          "height": 34
        }
      },
      "source": [
        "a, b = 0, 1\n",
        "while a < 100:\n",
        "    print(a, end = ', ')\n",
        "    a, b = b, a+b\n",
        "# 1, 1, 2, 3, 5, 8, 13, 21, 34, 55, 89,"
      ],
      "execution_count": 0,
      "outputs": [
        {
          "output_type": "stream",
          "text": [
            "0, 1, 1, 2, 3, 5, 8, 13, 21, 34, 55, 89, "
          ],
          "name": "stdout"
        }
      ]
    },
    {
      "cell_type": "code",
      "metadata": {
        "id": "ZpEyOxoTXd_J",
        "colab_type": "code",
        "outputId": "9e327aea-68f0-4593-fdfa-f4051aafc7d2",
        "colab": {
          "base_uri": "https://localhost:8080/",
          "height": 34
        }
      },
      "source": [
        "# Fibonacci series up to n\n",
        "def fibonacci(n):\n",
        "    result = []\n",
        "    a, b = 0, 1\n",
        "    while a < n:\n",
        "        result.append(a)\n",
        "        a, b = b, a+b\n",
        "    return result\n",
        "f100 = fibonacci(100)\n",
        "print(f100)\n",
        "#[0, 1, 1, 2, 3, 5, 8, 13, 21, 34, 55, 89]"
      ],
      "execution_count": 0,
      "outputs": [
        {
          "output_type": "stream",
          "text": [
            "[0, 1, 1, 2, 3, 5, 8, 13, 21, 34, 55, 89]\n"
          ],
          "name": "stdout"
        }
      ]
    },
    {
      "cell_type": "code",
      "metadata": {
        "id": "8iBbx55wlJ67",
        "colab_type": "code",
        "outputId": "49b43357-8a78-4b4e-cf0b-28f6e9a60684",
        "colab": {
          "base_uri": "https://localhost:8080/",
          "height": 68
        }
      },
      "source": [
        "# Python Functions zip *zip \n",
        "# zip: Make an iterator that aggregates elements from each of the iterables. Returns an iterator of tuples.\n",
        "x = [1, 2, 3]\n",
        "y = [4, 5, 6]\n",
        "zipped = zip(x, y)\n",
        "print(list(zipped))\n",
        "#[(1, 4), (2, 5), (3, 6)]\n",
        "x2, y2 = zip(*zip(x, y))\n",
        "print('x2:', list(x2))\n",
        "print('y2:', list(y2))\n",
        "# Source: https://docs.python.org/3.6/library/functions.html#zip"
      ],
      "execution_count": 0,
      "outputs": [
        {
          "output_type": "stream",
          "text": [
            "[(1, 4), (2, 5), (3, 6)]\n",
            "x2: [1, 2, 3]\n",
            "y2: [4, 5, 6]\n"
          ],
          "name": "stdout"
        }
      ]
    },
    {
      "cell_type": "code",
      "metadata": {
        "id": "iTf9jC219mEl",
        "colab_type": "code",
        "outputId": "177bdc82-0d1b-411d-9367-90e7e3902456",
        "colab": {
          "base_uri": "https://localhost:8080/",
          "height": 68
        }
      },
      "source": [
        "questions = ['q1', 'q2', 'q3']\n",
        "answers = ['a1', 'a2', 'a3']\n",
        "for q, a in zip(questions, answers):\n",
        "    print('What is your {0}?  It is {1}.'.format(q, a))"
      ],
      "execution_count": 0,
      "outputs": [
        {
          "output_type": "stream",
          "text": [
            "What is your q1?  It is a1.\n",
            "What is your q2?  It is a2.\n",
            "What is your q3?  It is a3.\n"
          ],
          "name": "stdout"
        }
      ]
    },
    {
      "cell_type": "code",
      "metadata": {
        "id": "4Nkpo-erw39G",
        "colab_type": "code",
        "outputId": "73fd5210-1039-49eb-a444-7e4a2ce32469",
        "colab": {
          "base_uri": "https://localhost:8080/",
          "height": 34
        }
      },
      "source": [
        "squares = []\n",
        "for x in range(10):\n",
        "    squares.append(x**2)\n",
        "squares\n",
        "#[0, 1, 4, 9, 16, 25, 36, 49, 64, 81]"
      ],
      "execution_count": 0,
      "outputs": [
        {
          "output_type": "execute_result",
          "data": {
            "text/plain": [
              "[0, 1, 4, 9, 16, 25, 36, 49, 64, 81]"
            ]
          },
          "metadata": {
            "tags": []
          },
          "execution_count": 42
        }
      ]
    },
    {
      "cell_type": "code",
      "metadata": {
        "id": "WQPFgE5j3oVn",
        "colab_type": "code",
        "outputId": "02f2fd27-70b8-4195-d534-3edfe190784a",
        "colab": {
          "base_uri": "https://localhost:8080/",
          "height": 34
        }
      },
      "source": [
        "squares = list(map(lambda x: x**2, range(10)))\n",
        "squares"
      ],
      "execution_count": 0,
      "outputs": [
        {
          "output_type": "execute_result",
          "data": {
            "text/plain": [
              "[0, 1, 4, 9, 16, 25, 36, 49, 64, 81]"
            ]
          },
          "metadata": {
            "tags": []
          },
          "execution_count": 43
        }
      ]
    },
    {
      "cell_type": "code",
      "metadata": {
        "id": "-I8W8n2U3vks",
        "colab_type": "code",
        "outputId": "df22411b-42ef-44b2-d4e3-8488cfe09efd",
        "colab": {
          "base_uri": "https://localhost:8080/",
          "height": 34
        }
      },
      "source": [
        "squares = [x**2 for x in range(10)]\n",
        "squares"
      ],
      "execution_count": 0,
      "outputs": [
        {
          "output_type": "execute_result",
          "data": {
            "text/plain": [
              "[0, 1, 4, 9, 16, 25, 36, 49, 64, 81]"
            ]
          },
          "metadata": {
            "tags": []
          },
          "execution_count": 44
        }
      ]
    },
    {
      "cell_type": "code",
      "metadata": {
        "id": "aanDHzGD4K1Z",
        "colab_type": "code",
        "outputId": "2202d78e-792f-419e-f1fb-92e103855dc9",
        "colab": {
          "base_uri": "https://localhost:8080/",
          "height": 34
        }
      },
      "source": [
        "squares = [x**2 for x in range(1,10)]\n",
        "squares"
      ],
      "execution_count": 0,
      "outputs": [
        {
          "output_type": "execute_result",
          "data": {
            "text/plain": [
              "[1, 4, 9, 16, 25, 36, 49, 64, 81]"
            ]
          },
          "metadata": {
            "tags": []
          },
          "execution_count": 45
        }
      ]
    },
    {
      "cell_type": "code",
      "metadata": {
        "id": "tSxtmdSc4X6s",
        "colab_type": "code",
        "outputId": "fe38e34b-55ef-4b0e-db6f-a47a86743468",
        "colab": {
          "base_uri": "https://localhost:8080/",
          "height": 51
        }
      },
      "source": [
        "a = [x for x in range(1,10)]\n",
        "print('a:      ', a)\n",
        "squares = [x**2 for x in a]\n",
        "print('squares:', squares)"
      ],
      "execution_count": 0,
      "outputs": [
        {
          "output_type": "stream",
          "text": [
            "a:       [1, 2, 3, 4, 5, 6, 7, 8, 9]\n",
            "squares: [1, 4, 9, 16, 25, 36, 49, 64, 81]\n"
          ],
          "name": "stdout"
        }
      ]
    },
    {
      "cell_type": "code",
      "metadata": {
        "id": "Il4dIQ7U7Dwo",
        "colab_type": "code",
        "outputId": "8ed11413-53e4-4215-d86f-bc03f64b059f",
        "colab": {
          "base_uri": "https://localhost:8080/",
          "height": 34
        }
      },
      "source": [
        "combs = [[x, y] for x in [1,2,3] for y in [4,1,6] if x != y]\n",
        "combs\n",
        "#[(1, 4), (1, 6), (2, 4), (2, 1), (2, 6), (3, 4), (3, 1), (3, 6)]"
      ],
      "execution_count": 0,
      "outputs": [
        {
          "output_type": "execute_result",
          "data": {
            "text/plain": [
              "[[1, 4], [1, 6], [2, 4], [2, 1], [2, 6], [3, 4], [3, 1], [3, 6]]"
            ]
          },
          "metadata": {
            "tags": []
          },
          "execution_count": 47
        }
      ]
    },
    {
      "cell_type": "markdown",
      "metadata": {
        "id": "dG45XaEVQiCh",
        "colab_type": "text"
      },
      "source": [
        "#OS, IO, files, and Google Drive"
      ]
    },
    {
      "cell_type": "code",
      "metadata": {
        "id": "S0fj0Bh2EHBj",
        "colab_type": "code",
        "outputId": "565b1b4c-7bb1-4b3d-e107-421d9c34417a",
        "colab": {
          "base_uri": "https://localhost:8080/",
          "height": 34
        }
      },
      "source": [
        "import os\n",
        "\n",
        "cwd = os.getcwd()\n",
        "print(cwd)\n",
        "#'/content'"
      ],
      "execution_count": 0,
      "outputs": [
        {
          "output_type": "stream",
          "text": [
            "/content\n"
          ],
          "name": "stdout"
        }
      ]
    },
    {
      "cell_type": "code",
      "metadata": {
        "id": "irvapl0qEySk",
        "colab_type": "code",
        "outputId": "b66ec556-b21b-45c6-8c63-e7672ee70d59",
        "colab": {
          "base_uri": "https://localhost:8080/",
          "height": 34
        }
      },
      "source": [
        "os.listdir(cwd)"
      ],
      "execution_count": 0,
      "outputs": [
        {
          "output_type": "execute_result",
          "data": {
            "text/plain": [
              "['sample_data', '.config']"
            ]
          },
          "metadata": {
            "tags": []
          },
          "execution_count": 2
        }
      ]
    },
    {
      "cell_type": "code",
      "metadata": {
        "id": "hVyOgA4rFKO0",
        "colab_type": "code",
        "outputId": "6a32f9e4-cfa1-402e-9b17-d6df9dd57ba1",
        "colab": {
          "base_uri": "https://localhost:8080/",
          "height": 136
        }
      },
      "source": [
        "path = os.path.join(cwd, 'sample_data')\n",
        "print(path)\n",
        "os.listdir(path)"
      ],
      "execution_count": 0,
      "outputs": [
        {
          "output_type": "stream",
          "text": [
            "/content/sample_data\n"
          ],
          "name": "stdout"
        },
        {
          "output_type": "execute_result",
          "data": {
            "text/plain": [
              "['mnist_test.csv',\n",
              " 'mnist_train_small.csv',\n",
              " 'README.md',\n",
              " 'california_housing_test.csv',\n",
              " 'anscombe.json',\n",
              " 'california_housing_train.csv']"
            ]
          },
          "metadata": {
            "tags": []
          },
          "execution_count": 3
        }
      ]
    },
    {
      "cell_type": "code",
      "metadata": {
        "id": "Y_PaVudRkKfg",
        "colab_type": "code",
        "outputId": "4a7b27e1-857b-4eef-f0bd-4b47d3b802c5",
        "colab": {
          "base_uri": "https://localhost:8080/",
          "height": 34
        }
      },
      "source": [
        "from google.colab import files\n",
        "\n",
        "with open('io_file_myday.txt', 'w') as f:\n",
        "    f.write('Google Colab File Write Text some content Myday')\n",
        "files.download('io_file_myday.txt')\n",
        "print('downloaded')"
      ],
      "execution_count": 0,
      "outputs": [
        {
          "output_type": "stream",
          "text": [
            "downloaded\n"
          ],
          "name": "stdout"
        }
      ]
    },
    {
      "cell_type": "code",
      "metadata": {
        "id": "UnUb2FCzi6v0",
        "colab_type": "code",
        "outputId": "a5a24cfc-8203-40e3-b90e-8be424a7b197",
        "colab": {
          "base_uri": "https://localhost:8080/",
          "height": 34
        }
      },
      "source": [
        "!ls"
      ],
      "execution_count": 0,
      "outputs": [
        {
          "output_type": "stream",
          "text": [
            "io_file_myday.txt  sample_data\n"
          ],
          "name": "stdout"
        }
      ]
    },
    {
      "cell_type": "code",
      "metadata": {
        "id": "Ttcu_lmgjLFC",
        "colab_type": "code",
        "colab": {}
      },
      "source": [
        "files.download('io_file_myday.txt')"
      ],
      "execution_count": 0,
      "outputs": []
    },
    {
      "cell_type": "code",
      "metadata": {
        "id": "NMaYSj148Yyt",
        "colab_type": "code",
        "outputId": "8dde7fd0-996f-4290-f989-1a709d015649",
        "colab": {
          "resources": {
            "http://localhost:8080/nbextensions/google.colab/files.js": {
              "data": "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",
              "ok": true,
              "headers": [
                [
                  "content-type",
                  "application/javascript"
                ]
              ],
              "status": 200,
              "status_text": ""
            }
          },
          "base_uri": "https://localhost:8080/",
          "height": 86
        }
      },
      "source": [
        "from google.colab import files\n",
        "uploaded = files.upload()\n",
        "\n",
        "for fn in uploaded.keys():\n",
        "    print('User uploaded file \"{name}\" with length {length} bytes'.format(\n",
        "        name=fn, length=len(uploaded[fn])))"
      ],
      "execution_count": 0,
      "outputs": [
        {
          "output_type": "display_data",
          "data": {
            "text/html": [
              "\n",
              "     <input type=\"file\" id=\"files-c264b759-ba67-4b9a-aa08-1aad29b22f74\" name=\"files[]\" multiple disabled />\n",
              "     <output id=\"result-c264b759-ba67-4b9a-aa08-1aad29b22f74\">\n",
              "      Upload widget is only available when the cell has been executed in the\n",
              "      current browser session. Please rerun this cell to enable.\n",
              "      </output>\n",
              "      <script src=\"/nbextensions/google.colab/files.js\"></script> "
            ],
            "text/plain": [
              "<IPython.core.display.HTML object>"
            ]
          },
          "metadata": {
            "tags": []
          }
        },
        {
          "output_type": "stream",
          "text": [
            "Saving io_file_myday.txt to io_file_myday (1).txt\n",
            "User uploaded file \"io_file_myday.txt\" with length 47 bytes\n"
          ],
          "name": "stdout"
        }
      ]
    },
    {
      "cell_type": "code",
      "metadata": {
        "id": "yb6vMdKYlV1q",
        "colab_type": "code",
        "outputId": "0fc4e87f-fc0d-4cd9-bb78-5ba8f567d9e4",
        "colab": {
          "base_uri": "https://localhost:8080/",
          "height": 85
        }
      },
      "source": [
        "! ls\n",
        "! ls sample_data"
      ],
      "execution_count": 0,
      "outputs": [
        {
          "output_type": "stream",
          "text": [
            "'io_file_myday (1).txt'   io_file_myday.txt   sample_data\n",
            "anscombe.json\t\t      mnist_test.csv\n",
            "california_housing_test.csv   mnist_train_small.csv\n",
            "california_housing_train.csv  README.md\n"
          ],
          "name": "stdout"
        }
      ]
    },
    {
      "cell_type": "code",
      "metadata": {
        "id": "KxW1zKtqmHhE",
        "colab_type": "code",
        "colab": {}
      },
      "source": [
        "from google.colab import drive\n",
        "drive.mount('/content/gdrive')"
      ],
      "execution_count": 0,
      "outputs": []
    },
    {
      "cell_type": "code",
      "metadata": {
        "id": "BPTUk7OQmVYg",
        "colab_type": "code",
        "outputId": "3e771c21-3c78-43ea-deb7-fe235d3d4237",
        "colab": {
          "base_uri": "https://localhost:8080/",
          "height": 35
        }
      },
      "source": [
        "with open('/content/gdrive/My Drive/io_test1.txt', 'w') as f:\n",
        "    f.write('Hello Google Drive!')\n",
        "files.download('/content/gdrive/My Drive/io_test1.txt')\n",
        "! cat '/content/gdrive/My Drive/io_test1.txt'"
      ],
      "execution_count": 0,
      "outputs": [
        {
          "output_type": "stream",
          "text": [
            "Hello Google Drive!"
          ],
          "name": "stdout"
        }
      ]
    },
    {
      "cell_type": "code",
      "metadata": {
        "id": "Vy34Ye2anjSP",
        "colab_type": "code",
        "outputId": "2c85d109-3a37-4442-971a-648c608eb81b",
        "colab": {
          "base_uri": "https://localhost:8080/",
          "height": 34
        }
      },
      "source": [
        "! ls"
      ],
      "execution_count": 0,
      "outputs": [
        {
          "output_type": "stream",
          "text": [
            "'io_file_myday (1).txt'   io_file_myday.txt   sample_data\n"
          ],
          "name": "stdout"
        }
      ]
    },
    {
      "cell_type": "code",
      "metadata": {
        "id": "tQl5IlrsnBah",
        "colab_type": "code",
        "outputId": "8007269b-2091-4fe4-cc6a-4fce9eaef2f5",
        "colab": {
          "base_uri": "https://localhost:8080/",
          "height": 34
        }
      },
      "source": [
        "! ls '/content/gdrive/My Drive'"
      ],
      "execution_count": 0,
      "outputs": [
        {
          "output_type": "stream",
          "text": [
            "ls: cannot access '/content/gdrive/My Drive': No such file or directory\n"
          ],
          "name": "stdout"
        }
      ]
    },
    {
      "cell_type": "code",
      "metadata": {
        "id": "qZqF07snns3B",
        "colab_type": "code",
        "outputId": "7fd109b1-02e7-4c34-8719-db0897c317f3",
        "colab": {
          "base_uri": "https://localhost:8080/",
          "height": 34
        }
      },
      "source": [
        "! ls 'gdrive'"
      ],
      "execution_count": 0,
      "outputs": [
        {
          "output_type": "stream",
          "text": [
            "'My Drive'\n"
          ],
          "name": "stdout"
        }
      ]
    },
    {
      "cell_type": "markdown",
      "metadata": {
        "id": "FNXBHGrwNEGa",
        "colab_type": "text"
      },
      "source": [
        "# Python Numpy"
      ]
    },
    {
      "cell_type": "code",
      "metadata": {
        "id": "Vtc_ouCyNI3W",
        "colab_type": "code",
        "outputId": "bae7afa8-ae82-41b1-d06d-065b06ebc6f9",
        "colab": {
          "base_uri": "https://localhost:8080/",
          "height": 35
        }
      },
      "source": [
        "v = list(range(1, 6))\n",
        "v"
      ],
      "execution_count": 0,
      "outputs": [
        {
          "output_type": "execute_result",
          "data": {
            "text/plain": [
              "[1, 2, 3, 4, 5]"
            ]
          },
          "metadata": {
            "tags": []
          },
          "execution_count": 3
        }
      ]
    },
    {
      "cell_type": "code",
      "metadata": {
        "id": "1Fj28ZBfOS2n",
        "colab_type": "code",
        "outputId": "3e9c8e53-69af-49eb-9523-91ee0e4ba097",
        "colab": {
          "base_uri": "https://localhost:8080/",
          "height": 35
        }
      },
      "source": [
        "2 * v"
      ],
      "execution_count": 0,
      "outputs": [
        {
          "output_type": "execute_result",
          "data": {
            "text/plain": [
              "[1, 2, 3, 4, 5, 1, 2, 3, 4, 5]"
            ]
          },
          "metadata": {
            "tags": []
          },
          "execution_count": 4
        }
      ]
    },
    {
      "cell_type": "code",
      "metadata": {
        "id": "KvDR3d6IEEqH",
        "colab_type": "code",
        "outputId": "6946b149-f31a-4936-cf4d-6f235ba41e31",
        "colab": {
          "base_uri": "https://localhost:8080/",
          "height": 35
        }
      },
      "source": [
        "3 * v"
      ],
      "execution_count": 0,
      "outputs": [
        {
          "output_type": "execute_result",
          "data": {
            "text/plain": [
              "[1, 2, 3, 4, 5, 1, 2, 3, 4, 5, 1, 2, 3, 4, 5]"
            ]
          },
          "metadata": {
            "tags": []
          },
          "execution_count": 5
        }
      ]
    },
    {
      "cell_type": "code",
      "metadata": {
        "id": "op-7svVIOQNP",
        "colab_type": "code",
        "outputId": "4d05ebd4-2a63-4db3-cda1-90b50d2e8e0c",
        "colab": {
          "base_uri": "https://localhost:8080/",
          "height": 35
        }
      },
      "source": [
        "import numpy as np\n",
        "v = np.arange(1, 6)\n",
        "v"
      ],
      "execution_count": 0,
      "outputs": [
        {
          "output_type": "execute_result",
          "data": {
            "text/plain": [
              "array([1, 2, 3, 4, 5])"
            ]
          },
          "metadata": {
            "tags": []
          },
          "execution_count": 7
        }
      ]
    },
    {
      "cell_type": "code",
      "metadata": {
        "id": "8lg9AGWFNv7N",
        "colab_type": "code",
        "outputId": "b3b1f70f-9aa1-4229-965f-112372240aea",
        "colab": {
          "base_uri": "https://localhost:8080/",
          "height": 35
        }
      },
      "source": [
        "10 * v"
      ],
      "execution_count": 0,
      "outputs": [
        {
          "output_type": "execute_result",
          "data": {
            "text/plain": [
              "array([10, 20, 30, 40, 50])"
            ]
          },
          "metadata": {
            "tags": []
          },
          "execution_count": 9
        }
      ]
    },
    {
      "cell_type": "code",
      "metadata": {
        "id": "wSMJSLHTEj2r",
        "colab_type": "code",
        "outputId": "625641d7-b70e-4208-8327-9ffa6a24b0f1",
        "colab": {
          "base_uri": "https://localhost:8080/",
          "height": 35
        }
      },
      "source": [
        "import numpy as np\n",
        "s = np.arange(70, 81)\n",
        "s"
      ],
      "execution_count": 0,
      "outputs": [
        {
          "output_type": "execute_result",
          "data": {
            "text/plain": [
              "array([70, 71, 72, 73, 74, 75, 76, 77, 78, 79, 80])"
            ]
          },
          "metadata": {
            "tags": []
          },
          "execution_count": 11
        }
      ]
    },
    {
      "cell_type": "code",
      "metadata": {
        "id": "bMTpA8neE62v",
        "colab_type": "code",
        "outputId": "2af21572-be93-4772-f943-45a2d5d9eb7f",
        "colab": {
          "base_uri": "https://localhost:8080/",
          "height": 35
        }
      },
      "source": [
        "20 + s"
      ],
      "execution_count": 0,
      "outputs": [
        {
          "output_type": "execute_result",
          "data": {
            "text/plain": [
              "array([ 90,  91,  92,  93,  94,  95,  96,  97,  98,  99, 100])"
            ]
          },
          "metadata": {
            "tags": []
          },
          "execution_count": 13
        }
      ]
    },
    {
      "cell_type": "code",
      "metadata": {
        "id": "dglzK2VqPJrS",
        "colab_type": "code",
        "outputId": "0b23646b-b0ae-4fcc-9c9b-fa1d0efc70c7",
        "colab": {
          "base_uri": "https://localhost:8080/",
          "height": 35
        }
      },
      "source": [
        "import numpy as np\n",
        "a = np.array([70, 80, 90])\n",
        "b = np.array([5, 8, 10])\n",
        "c = a * b\n",
        "c"
      ],
      "execution_count": 0,
      "outputs": [
        {
          "output_type": "execute_result",
          "data": {
            "text/plain": [
              "array([350, 640, 900])"
            ]
          },
          "metadata": {
            "tags": []
          },
          "execution_count": 16
        }
      ]
    },
    {
      "cell_type": "code",
      "metadata": {
        "id": "aPMY-qNHGoiF",
        "colab_type": "code",
        "outputId": "33d25adb-95d6-40d6-fbe0-f356b7c45237",
        "colab": {
          "base_uri": "https://localhost:8080/",
          "height": 52
        }
      },
      "source": [
        "import numpy as np\n",
        "\n",
        "a = np.zeros((2,3))\n",
        "a"
      ],
      "execution_count": 0,
      "outputs": [
        {
          "output_type": "execute_result",
          "data": {
            "text/plain": [
              "array([[0., 0., 0.],\n",
              "       [0., 0., 0.]])"
            ]
          },
          "metadata": {
            "tags": []
          },
          "execution_count": 18
        }
      ]
    },
    {
      "cell_type": "code",
      "metadata": {
        "id": "WtywCy9HG-74",
        "colab_type": "code",
        "outputId": "a3636248-79fe-4481-b353-43340e43175e",
        "colab": {
          "base_uri": "https://localhost:8080/",
          "height": 69
        }
      },
      "source": [
        "b = np.ones((3,4))\n",
        "b"
      ],
      "execution_count": 0,
      "outputs": [
        {
          "output_type": "execute_result",
          "data": {
            "text/plain": [
              "array([[1., 1., 1., 1.],\n",
              "       [1., 1., 1., 1.],\n",
              "       [1., 1., 1., 1.]])"
            ]
          },
          "metadata": {
            "tags": []
          },
          "execution_count": 19
        }
      ]
    },
    {
      "cell_type": "code",
      "metadata": {
        "id": "Jdk1LacWHd82",
        "colab_type": "code",
        "outputId": "aedd0682-38cc-4c5f-d213-532631d6c20c",
        "colab": {
          "base_uri": "https://localhost:8080/",
          "height": 52
        }
      },
      "source": [
        "c = np.full((2,3), 9.0)\n",
        "c"
      ],
      "execution_count": 0,
      "outputs": [
        {
          "output_type": "execute_result",
          "data": {
            "text/plain": [
              "array([[9., 9., 9.],\n",
              "       [9., 9., 9.]])"
            ]
          },
          "metadata": {
            "tags": []
          },
          "execution_count": 25
        }
      ]
    },
    {
      "cell_type": "code",
      "metadata": {
        "id": "Ivcq-bntIAiw",
        "colab_type": "code",
        "outputId": "5d0749de-6d91-4690-c110-dc358efd294c",
        "colab": {
          "base_uri": "https://localhost:8080/",
          "height": 104
        }
      },
      "source": [
        "d = np.eye(5)\n",
        "d"
      ],
      "execution_count": 0,
      "outputs": [
        {
          "output_type": "execute_result",
          "data": {
            "text/plain": [
              "array([[1., 0., 0., 0., 0.],\n",
              "       [0., 1., 0., 0., 0.],\n",
              "       [0., 0., 1., 0., 0.],\n",
              "       [0., 0., 0., 1., 0.],\n",
              "       [0., 0., 0., 0., 1.]])"
            ]
          },
          "metadata": {
            "tags": []
          },
          "execution_count": 30
        }
      ]
    },
    {
      "cell_type": "code",
      "metadata": {
        "id": "38DZX8n2IQNg",
        "colab_type": "code",
        "outputId": "d56c2865-b857-44c2-e493-ee03743f8dc8",
        "colab": {
          "base_uri": "https://localhost:8080/",
          "height": 52
        }
      },
      "source": [
        "e = np.random.random((2,3))\n",
        "e"
      ],
      "execution_count": 0,
      "outputs": [
        {
          "output_type": "execute_result",
          "data": {
            "text/plain": [
              "array([[0.50277967, 0.12866872, 0.04857427],\n",
              "       [0.06891721, 0.10934433, 0.36465135]])"
            ]
          },
          "metadata": {
            "tags": []
          },
          "execution_count": 32
        }
      ]
    },
    {
      "cell_type": "code",
      "metadata": {
        "id": "Z1V1qWfSPw9Y",
        "colab_type": "code",
        "outputId": "7e6c378b-714e-4d5a-9653-bc90954dc96d",
        "colab": {
          "base_uri": "https://localhost:8080/",
          "height": 170
        }
      },
      "source": [
        "import numpy as np\n",
        "\n",
        "a = np.zeros((2,2))  # Create an array of all zeros\n",
        "print(a)             # Prints \"[[ 0.  0.]\n",
        "                     #          [ 0.  0.]]\"\n",
        "\n",
        "b = np.ones((1,2))   # Create an array of all ones\n",
        "print(b)             # Prints \"[[ 1.  1.]]\"\n",
        "\n",
        "c = np.full((2,2), 7) # Create a constant array\n",
        "print(c)              # Prints \"[[ 7.  7.]\n",
        "                      #          [ 7.  7.]]\"\n",
        "\n",
        "d = np.eye(2)        # Create a 2x2 identity matrix\n",
        "print(d)             # Prints \"[[ 1.  0.]\n",
        "                     #          [ 0.  1.]]\"\n",
        "\n",
        "e = np.random.random((2,2)) # Create an array filled with random values\n",
        "print(e)                    # Might print \"[[ 0.91940167  0.08143941]\n",
        "                            #               [ 0.68744134  0.87236687]]”    "
      ],
      "execution_count": 0,
      "outputs": [
        {
          "output_type": "stream",
          "text": [
            "[[0. 0.]\n",
            " [0. 0.]]\n",
            "[[1. 1.]]\n",
            "[[7 7]\n",
            " [7 7]]\n",
            "[[1. 0.]\n",
            " [0. 1.]]\n",
            "[[0.35233013 0.95026303]\n",
            " [0.87931382 0.61535095]]\n"
          ],
          "name": "stdout"
        }
      ]
    },
    {
      "cell_type": "code",
      "metadata": {
        "id": "byZoRexAQ5ak",
        "colab_type": "code",
        "outputId": "637009a8-0079-4f0b-8aa1-0645bbff53b7",
        "colab": {
          "base_uri": "https://localhost:8080/",
          "height": 69
        }
      },
      "source": [
        "import numpy as np\n",
        "a = np.arange(15).reshape(3, 5)\n",
        "a"
      ],
      "execution_count": 0,
      "outputs": [
        {
          "output_type": "execute_result",
          "data": {
            "text/plain": [
              "array([[ 0,  1,  2,  3,  4],\n",
              "       [ 5,  6,  7,  8,  9],\n",
              "       [10, 11, 12, 13, 14]])"
            ]
          },
          "metadata": {
            "tags": []
          },
          "execution_count": 33
        }
      ]
    },
    {
      "cell_type": "code",
      "metadata": {
        "id": "MYh9LA3zJHcu",
        "colab_type": "code",
        "outputId": "592bea5d-b81a-4116-bcde-0a60e58bfe13",
        "colab": {
          "base_uri": "https://localhost:8080/",
          "height": 35
        }
      },
      "source": [
        "b = np.arange(15)\n",
        "b"
      ],
      "execution_count": 0,
      "outputs": [
        {
          "output_type": "execute_result",
          "data": {
            "text/plain": [
              "array([ 0,  1,  2,  3,  4,  5,  6,  7,  8,  9, 10, 11, 12, 13, 14])"
            ]
          },
          "metadata": {
            "tags": []
          },
          "execution_count": 34
        }
      ]
    },
    {
      "cell_type": "code",
      "metadata": {
        "id": "vKkUwvgaJRaa",
        "colab_type": "code",
        "outputId": "7bd51da7-0682-44b0-b0d4-d0f89f961ea3",
        "colab": {
          "base_uri": "https://localhost:8080/",
          "height": 69
        }
      },
      "source": [
        "b1 = b.reshape(3,5)\n",
        "b1"
      ],
      "execution_count": 0,
      "outputs": [
        {
          "output_type": "execute_result",
          "data": {
            "text/plain": [
              "array([[ 0,  1,  2,  3,  4],\n",
              "       [ 5,  6,  7,  8,  9],\n",
              "       [10, 11, 12, 13, 14]])"
            ]
          },
          "metadata": {
            "tags": []
          },
          "execution_count": 35
        }
      ]
    },
    {
      "cell_type": "code",
      "metadata": {
        "id": "dNP7QW2ERDBr",
        "colab_type": "code",
        "outputId": "b61a10ce-6149-4132-9f32-873ba6c50a06",
        "colab": {
          "base_uri": "https://localhost:8080/",
          "height": 35
        }
      },
      "source": [
        "a.shape"
      ],
      "execution_count": 0,
      "outputs": [
        {
          "output_type": "execute_result",
          "data": {
            "text/plain": [
              "(3, 5)"
            ]
          },
          "metadata": {
            "tags": []
          },
          "execution_count": 36
        }
      ]
    },
    {
      "cell_type": "code",
      "metadata": {
        "id": "7sV4KXHWJcQ5",
        "colab_type": "code",
        "outputId": "4c0d91a2-3352-40c5-da0d-796e20c2f9c3",
        "colab": {
          "base_uri": "https://localhost:8080/",
          "height": 35
        }
      },
      "source": [
        "b.shape"
      ],
      "execution_count": 0,
      "outputs": [
        {
          "output_type": "execute_result",
          "data": {
            "text/plain": [
              "(15,)"
            ]
          },
          "metadata": {
            "tags": []
          },
          "execution_count": 37
        }
      ]
    },
    {
      "cell_type": "code",
      "metadata": {
        "id": "cz5JJiBNJqq0",
        "colab_type": "code",
        "outputId": "5bd84737-a1ed-4f48-ece7-20f2f2844c42",
        "colab": {
          "base_uri": "https://localhost:8080/",
          "height": 35
        }
      },
      "source": [
        "list1 = [ 0,  1,  2,  3,  4,  5,  6,  7,  8,  9, 10, 11, 12, 13, 14]\n",
        "list1"
      ],
      "execution_count": 0,
      "outputs": [
        {
          "output_type": "execute_result",
          "data": {
            "text/plain": [
              "[0, 1, 2, 3, 4, 5, 6, 7, 8, 9, 10, 11, 12, 13, 14]"
            ]
          },
          "metadata": {
            "tags": []
          },
          "execution_count": 39
        }
      ]
    },
    {
      "cell_type": "code",
      "metadata": {
        "id": "55rB65N-JyJA",
        "colab_type": "code",
        "outputId": "10dc9c66-c2f9-4be0-af65-ec8befda32cd",
        "colab": {
          "base_uri": "https://localhost:8080/",
          "height": 166
        }
      },
      "source": [
        "list1.shape"
      ],
      "execution_count": 0,
      "outputs": [
        {
          "output_type": "error",
          "ename": "AttributeError",
          "evalue": "ignored",
          "traceback": [
            "\u001b[0;31m---------------------------------------------------------------------------\u001b[0m",
            "\u001b[0;31mAttributeError\u001b[0m                            Traceback (most recent call last)",
            "\u001b[0;32m<ipython-input-40-64a1c1d78292>\u001b[0m in \u001b[0;36m<module>\u001b[0;34m()\u001b[0m\n\u001b[0;32m----> 1\u001b[0;31m \u001b[0mlist1\u001b[0m\u001b[0;34m.\u001b[0m\u001b[0mshape\u001b[0m\u001b[0;34m\u001b[0m\u001b[0m\n\u001b[0m",
            "\u001b[0;31mAttributeError\u001b[0m: 'list' object has no attribute 'shape'"
          ]
        }
      ]
    },
    {
      "cell_type": "code",
      "metadata": {
        "id": "D69LoC5OJjTz",
        "colab_type": "code",
        "outputId": "c46ad0d9-99e9-414a-a1bc-80f1b39898c6",
        "colab": {
          "base_uri": "https://localhost:8080/",
          "height": 35
        }
      },
      "source": [
        "b1.shape"
      ],
      "execution_count": 0,
      "outputs": [
        {
          "output_type": "execute_result",
          "data": {
            "text/plain": [
              "(3, 5)"
            ]
          },
          "metadata": {
            "tags": []
          },
          "execution_count": 38
        }
      ]
    },
    {
      "cell_type": "code",
      "metadata": {
        "id": "4s_dEGbzRIih",
        "colab_type": "code",
        "outputId": "eb8de028-6e32-4cf4-bb4b-32578d63ea8f",
        "colab": {
          "base_uri": "https://localhost:8080/",
          "height": 35
        }
      },
      "source": [
        "a.ndim"
      ],
      "execution_count": 0,
      "outputs": [
        {
          "output_type": "execute_result",
          "data": {
            "text/plain": [
              "2"
            ]
          },
          "metadata": {
            "tags": []
          },
          "execution_count": 41
        }
      ]
    },
    {
      "cell_type": "code",
      "metadata": {
        "id": "cZlx8RgCJ5Sw",
        "colab_type": "code",
        "outputId": "e09e98ea-2680-4417-fcba-2ba0510eb257",
        "colab": {
          "base_uri": "https://localhost:8080/",
          "height": 35
        }
      },
      "source": [
        "b.ndim"
      ],
      "execution_count": 0,
      "outputs": [
        {
          "output_type": "execute_result",
          "data": {
            "text/plain": [
              "1"
            ]
          },
          "metadata": {
            "tags": []
          },
          "execution_count": 42
        }
      ]
    },
    {
      "cell_type": "code",
      "metadata": {
        "id": "4Um8xIKJRLce",
        "colab_type": "code",
        "outputId": "cc12c873-a885-455c-d5c9-46f7b2e444de",
        "colab": {
          "base_uri": "https://localhost:8080/",
          "height": 34
        }
      },
      "source": [
        "a.dtype.name"
      ],
      "execution_count": 0,
      "outputs": [
        {
          "output_type": "execute_result",
          "data": {
            "text/plain": [
              "'int64'"
            ]
          },
          "metadata": {
            "tags": []
          },
          "execution_count": 68
        }
      ]
    },
    {
      "cell_type": "code",
      "metadata": {
        "id": "jWCwaI8IRWG_",
        "colab_type": "code",
        "outputId": "0c61b98e-accb-482f-eda7-f456bd240210",
        "colab": {
          "base_uri": "https://localhost:8080/",
          "height": 34
        }
      },
      "source": [
        "import numpy as np\n",
        "a = np.array([1,2,3,4,5])\n",
        "a"
      ],
      "execution_count": 0,
      "outputs": [
        {
          "output_type": "execute_result",
          "data": {
            "text/plain": [
              "array([1, 2, 3, 4, 5])"
            ]
          },
          "metadata": {
            "tags": []
          },
          "execution_count": 69
        }
      ]
    },
    {
      "cell_type": "code",
      "metadata": {
        "id": "Edie6vUeRciK",
        "colab_type": "code",
        "outputId": "03e057ee-c198-49f0-f7f9-72120ed8c945",
        "colab": {
          "base_uri": "https://localhost:8080/",
          "height": 85
        }
      },
      "source": [
        "a = np.array([[1,2,3,4,5],[6,7,8,9,10],[11,12,13,14,15],[16,17,18,19,20]])\n",
        "a"
      ],
      "execution_count": 0,
      "outputs": [
        {
          "output_type": "execute_result",
          "data": {
            "text/plain": [
              "array([[ 1,  2,  3,  4,  5],\n",
              "       [ 6,  7,  8,  9, 10],\n",
              "       [11, 12, 13, 14, 15],\n",
              "       [16, 17, 18, 19, 20]])"
            ]
          },
          "metadata": {
            "tags": []
          },
          "execution_count": 70
        }
      ]
    },
    {
      "cell_type": "code",
      "metadata": {
        "id": "KC80Jwf_RiH7",
        "colab_type": "code",
        "outputId": "3f24d92b-10d4-4c3b-d084-9c900208205e",
        "colab": {
          "base_uri": "https://localhost:8080/",
          "height": 69
        }
      },
      "source": [
        "import numpy as np\n",
        "a = np.array([[0, 1, 2, 3], [10, 11, 12, 13], [20, 21, 22, 23]])\n",
        "a"
      ],
      "execution_count": 0,
      "outputs": [
        {
          "output_type": "execute_result",
          "data": {
            "text/plain": [
              "array([[ 0,  1,  2,  3],\n",
              "       [10, 11, 12, 13],\n",
              "       [20, 21, 22, 23]])"
            ]
          },
          "metadata": {
            "tags": []
          },
          "execution_count": 45
        }
      ]
    },
    {
      "cell_type": "code",
      "metadata": {
        "id": "B2ZrquwkMPxy",
        "colab_type": "code",
        "outputId": "6742d740-244a-4737-8b64-5de8b38d57b6",
        "colab": {
          "base_uri": "https://localhost:8080/",
          "height": 52
        }
      },
      "source": [
        "a1 = a[1:,1:]\n",
        "a1"
      ],
      "execution_count": 0,
      "outputs": [
        {
          "output_type": "execute_result",
          "data": {
            "text/plain": [
              "array([[11, 12, 13],\n",
              "       [21, 22, 23]])"
            ]
          },
          "metadata": {
            "tags": []
          },
          "execution_count": 60
        }
      ]
    },
    {
      "cell_type": "code",
      "metadata": {
        "id": "lCBMvB0fRAlf",
        "colab_type": "code",
        "outputId": "3f83795d-c1e5-4249-8bfb-19c8e555b746",
        "colab": {
          "base_uri": "https://localhost:8080/",
          "height": 35
        }
      },
      "source": [
        "a1.shape"
      ],
      "execution_count": 0,
      "outputs": [
        {
          "output_type": "execute_result",
          "data": {
            "text/plain": [
              "(2, 3)"
            ]
          },
          "metadata": {
            "tags": []
          },
          "execution_count": 62
        }
      ]
    },
    {
      "cell_type": "code",
      "metadata": {
        "id": "7Iel0HtZRxT5",
        "colab_type": "code",
        "outputId": "c4b93e8a-0e27-4cd0-9e6e-e6ba5e491a85",
        "colab": {
          "base_uri": "https://localhost:8080/",
          "height": 52
        }
      },
      "source": [
        "print(a.ndim)\n",
        "print(a.shape)"
      ],
      "execution_count": 0,
      "outputs": [
        {
          "output_type": "stream",
          "text": [
            "2\n",
            "(3, 4)\n"
          ],
          "name": "stdout"
        }
      ]
    },
    {
      "cell_type": "markdown",
      "metadata": {
        "id": "o7sC7eFjSC7s",
        "colab_type": "text"
      },
      "source": [
        "# Python Pandas"
      ]
    },
    {
      "cell_type": "code",
      "metadata": {
        "id": "BTy9czpySIuy",
        "colab_type": "code",
        "outputId": "cda358c8-9a31-4bbb-8707-f57c1fb62834",
        "colab": {
          "base_uri": "https://localhost:8080/",
          "height": 142
        }
      },
      "source": [
        "import numpy as np\n",
        "import pandas as pd\n",
        "df = pd.DataFrame({\"a\": [4, 5, 6],\n",
        "                   \"b\": [7, 8, 9],\n",
        "                   \"c\": [10, 11, 12]},\n",
        "                  index = [1, 2, 3])\n",
        "df"
      ],
      "execution_count": 0,
      "outputs": [
        {
          "output_type": "execute_result",
          "data": {
            "text/html": [
              "<div>\n",
              "<style scoped>\n",
              "    .dataframe tbody tr th:only-of-type {\n",
              "        vertical-align: middle;\n",
              "    }\n",
              "\n",
              "    .dataframe tbody tr th {\n",
              "        vertical-align: top;\n",
              "    }\n",
              "\n",
              "    .dataframe thead th {\n",
              "        text-align: right;\n",
              "    }\n",
              "</style>\n",
              "<table border=\"1\" class=\"dataframe\">\n",
              "  <thead>\n",
              "    <tr style=\"text-align: right;\">\n",
              "      <th></th>\n",
              "      <th>a</th>\n",
              "      <th>b</th>\n",
              "      <th>c</th>\n",
              "    </tr>\n",
              "  </thead>\n",
              "  <tbody>\n",
              "    <tr>\n",
              "      <th>1</th>\n",
              "      <td>4</td>\n",
              "      <td>7</td>\n",
              "      <td>10</td>\n",
              "    </tr>\n",
              "    <tr>\n",
              "      <th>2</th>\n",
              "      <td>5</td>\n",
              "      <td>8</td>\n",
              "      <td>11</td>\n",
              "    </tr>\n",
              "    <tr>\n",
              "      <th>3</th>\n",
              "      <td>6</td>\n",
              "      <td>9</td>\n",
              "      <td>12</td>\n",
              "    </tr>\n",
              "  </tbody>\n",
              "</table>\n",
              "</div>"
            ],
            "text/plain": [
              "   a  b   c\n",
              "1  4  7  10\n",
              "2  5  8  11\n",
              "3  6  9  12"
            ]
          },
          "metadata": {
            "tags": []
          },
          "execution_count": 1
        }
      ]
    },
    {
      "cell_type": "code",
      "metadata": {
        "id": "qEMq8WtSWyEI",
        "colab_type": "code",
        "outputId": "ced69d5c-2fcd-4612-87f0-463a02a25b67",
        "colab": {
          "base_uri": "https://localhost:8080/",
          "height": 141
        }
      },
      "source": [
        "import numpy as np\n",
        "import pandas as pd\n",
        "df = pd.DataFrame({\"Chinese\": [40, 50, 60],\n",
        "                   \"English\": [70, 80, 90],\n",
        "                   \"Math\": [60, 61, 62],\n",
        "                   \"Science\": [70, 71, 72]},\n",
        "                  index = [101, 102, 103])\n",
        "df"
      ],
      "execution_count": 0,
      "outputs": [
        {
          "output_type": "execute_result",
          "data": {
            "text/html": [
              "<div>\n",
              "<style scoped>\n",
              "    .dataframe tbody tr th:only-of-type {\n",
              "        vertical-align: middle;\n",
              "    }\n",
              "\n",
              "    .dataframe tbody tr th {\n",
              "        vertical-align: top;\n",
              "    }\n",
              "\n",
              "    .dataframe thead th {\n",
              "        text-align: right;\n",
              "    }\n",
              "</style>\n",
              "<table border=\"1\" class=\"dataframe\">\n",
              "  <thead>\n",
              "    <tr style=\"text-align: right;\">\n",
              "      <th></th>\n",
              "      <th>Chinese</th>\n",
              "      <th>English</th>\n",
              "      <th>Math</th>\n",
              "      <th>Science</th>\n",
              "    </tr>\n",
              "  </thead>\n",
              "  <tbody>\n",
              "    <tr>\n",
              "      <th>101</th>\n",
              "      <td>40</td>\n",
              "      <td>70</td>\n",
              "      <td>60</td>\n",
              "      <td>70</td>\n",
              "    </tr>\n",
              "    <tr>\n",
              "      <th>102</th>\n",
              "      <td>50</td>\n",
              "      <td>80</td>\n",
              "      <td>61</td>\n",
              "      <td>71</td>\n",
              "    </tr>\n",
              "    <tr>\n",
              "      <th>103</th>\n",
              "      <td>60</td>\n",
              "      <td>90</td>\n",
              "      <td>62</td>\n",
              "      <td>72</td>\n",
              "    </tr>\n",
              "  </tbody>\n",
              "</table>\n",
              "</div>"
            ],
            "text/plain": [
              "     Chinese  English  Math  Science\n",
              "101       40       70    60       70\n",
              "102       50       80    61       71\n",
              "103       60       90    62       72"
            ]
          },
          "metadata": {
            "tags": []
          },
          "execution_count": 65
        }
      ]
    },
    {
      "cell_type": "code",
      "metadata": {
        "id": "gdPknJbHXxUi",
        "colab_type": "code",
        "outputId": "f96b1310-003f-4cce-ea05-9087932a70a4",
        "colab": {
          "base_uri": "https://localhost:8080/",
          "height": 110
        }
      },
      "source": [
        "import numpy as np\n",
        "import pandas as pd\n",
        "df = pd.DataFrame({\"Chinese\": [60,61],\n",
        "                   \"English\": [70,71],\n",
        "                   \"Math\": [90,91],\n",
        "                   \"Science\": [99,100]},\n",
        "                  index = [101, 102])\n",
        "df"
      ],
      "execution_count": 0,
      "outputs": [
        {
          "output_type": "execute_result",
          "data": {
            "text/html": [
              "<div>\n",
              "<style scoped>\n",
              "    .dataframe tbody tr th:only-of-type {\n",
              "        vertical-align: middle;\n",
              "    }\n",
              "\n",
              "    .dataframe tbody tr th {\n",
              "        vertical-align: top;\n",
              "    }\n",
              "\n",
              "    .dataframe thead th {\n",
              "        text-align: right;\n",
              "    }\n",
              "</style>\n",
              "<table border=\"1\" class=\"dataframe\">\n",
              "  <thead>\n",
              "    <tr style=\"text-align: right;\">\n",
              "      <th></th>\n",
              "      <th>Chinese</th>\n",
              "      <th>English</th>\n",
              "      <th>Math</th>\n",
              "      <th>Science</th>\n",
              "    </tr>\n",
              "  </thead>\n",
              "  <tbody>\n",
              "    <tr>\n",
              "      <th>101</th>\n",
              "      <td>60</td>\n",
              "      <td>70</td>\n",
              "      <td>90</td>\n",
              "      <td>99</td>\n",
              "    </tr>\n",
              "    <tr>\n",
              "      <th>102</th>\n",
              "      <td>61</td>\n",
              "      <td>71</td>\n",
              "      <td>91</td>\n",
              "      <td>100</td>\n",
              "    </tr>\n",
              "  </tbody>\n",
              "</table>\n",
              "</div>"
            ],
            "text/plain": [
              "     Chinese  English  Math  Science\n",
              "101       60       70    90       99\n",
              "102       61       71    91      100"
            ]
          },
          "metadata": {
            "tags": []
          },
          "execution_count": 71
        }
      ]
    },
    {
      "cell_type": "code",
      "metadata": {
        "id": "Ynvg9mFVS4xx",
        "colab_type": "code",
        "outputId": "bab70599-423c-4cc0-bb20-aa8171a03531",
        "colab": {
          "base_uri": "https://localhost:8080/",
          "height": 35
        }
      },
      "source": [
        "type(df)"
      ],
      "execution_count": 0,
      "outputs": [
        {
          "output_type": "execute_result",
          "data": {
            "text/plain": [
              "pandas.core.frame.DataFrame"
            ]
          },
          "metadata": {
            "tags": []
          },
          "execution_count": 66
        }
      ]
    },
    {
      "cell_type": "code",
      "metadata": {
        "id": "5F5GnTlGXaR-",
        "colab_type": "code",
        "outputId": "91c54edd-8116-4057-9b0f-a436ed030585",
        "colab": {
          "base_uri": "https://localhost:8080/",
          "height": 87
        }
      },
      "source": [
        "df['English']"
      ],
      "execution_count": 0,
      "outputs": [
        {
          "output_type": "execute_result",
          "data": {
            "text/plain": [
              "101    70\n",
              "102    80\n",
              "103    90\n",
              "Name: English, dtype: int64"
            ]
          },
          "metadata": {
            "tags": []
          },
          "execution_count": 68
        }
      ]
    },
    {
      "cell_type": "code",
      "metadata": {
        "id": "DTx5xJ0_VGpF",
        "colab_type": "code",
        "outputId": "bd6d1b31-c818-4292-aaf1-2caa3496d576",
        "colab": {
          "base_uri": "https://localhost:8080/",
          "height": 34
        }
      },
      "source": [
        "import numpy as np\n",
        "import pandas as pd\n",
        "import matplotlib.pyplot as plt\n",
        "print('pandas imported')"
      ],
      "execution_count": 0,
      "outputs": [
        {
          "output_type": "stream",
          "text": [
            "pandas imported\n"
          ],
          "name": "stdout"
        }
      ]
    },
    {
      "cell_type": "code",
      "metadata": {
        "id": "hpip_eV5VVt1",
        "colab_type": "code",
        "outputId": "f5659ad2-3697-41a6-ce98-167237f00d37",
        "colab": {
          "base_uri": "https://localhost:8080/",
          "height": 136
        }
      },
      "source": [
        "s = pd.Series([1,3,5,np.nan,6,8])\n",
        "s"
      ],
      "execution_count": 0,
      "outputs": [
        {
          "output_type": "execute_result",
          "data": {
            "text/plain": [
              "0    1.0\n",
              "1    3.0\n",
              "2    5.0\n",
              "3    NaN\n",
              "4    6.0\n",
              "5    8.0\n",
              "dtype: float64"
            ]
          },
          "metadata": {
            "tags": []
          },
          "execution_count": 76
        }
      ]
    },
    {
      "cell_type": "code",
      "metadata": {
        "id": "-x9vYpgTVai6",
        "colab_type": "code",
        "outputId": "efc3f91a-59d2-4873-99a6-e3525101bcf1",
        "colab": {
          "base_uri": "https://localhost:8080/",
          "height": 68
        }
      },
      "source": [
        "dates = pd.date_range('20181001', periods=6)\n",
        "dates"
      ],
      "execution_count": 0,
      "outputs": [
        {
          "output_type": "execute_result",
          "data": {
            "text/plain": [
              "DatetimeIndex(['2018-10-01', '2018-10-02', '2018-10-03', '2018-10-04',\n",
              "               '2018-10-05', '2018-10-06'],\n",
              "              dtype='datetime64[ns]', freq='D')"
            ]
          },
          "metadata": {
            "tags": []
          },
          "execution_count": 77
        }
      ]
    },
    {
      "cell_type": "code",
      "metadata": {
        "id": "ZFGcT2RMWCv_",
        "colab_type": "code",
        "outputId": "029a6d1e-ffe8-43e9-fe04-e46b5e13d15b",
        "colab": {
          "base_uri": "https://localhost:8080/",
          "height": 235
        }
      },
      "source": [
        "df = pd.DataFrame(np.random.randn(6,4), index=dates, columns=list('ABCD'))\n",
        "df"
      ],
      "execution_count": 0,
      "outputs": [
        {
          "output_type": "execute_result",
          "data": {
            "text/html": [
              "<div>\n",
              "<style scoped>\n",
              "    .dataframe tbody tr th:only-of-type {\n",
              "        vertical-align: middle;\n",
              "    }\n",
              "\n",
              "    .dataframe tbody tr th {\n",
              "        vertical-align: top;\n",
              "    }\n",
              "\n",
              "    .dataframe thead th {\n",
              "        text-align: right;\n",
              "    }\n",
              "</style>\n",
              "<table border=\"1\" class=\"dataframe\">\n",
              "  <thead>\n",
              "    <tr style=\"text-align: right;\">\n",
              "      <th></th>\n",
              "      <th>A</th>\n",
              "      <th>B</th>\n",
              "      <th>C</th>\n",
              "      <th>D</th>\n",
              "    </tr>\n",
              "  </thead>\n",
              "  <tbody>\n",
              "    <tr>\n",
              "      <th>2018-10-01</th>\n",
              "      <td>-0.488687</td>\n",
              "      <td>0.275360</td>\n",
              "      <td>-0.012762</td>\n",
              "      <td>2.682200</td>\n",
              "    </tr>\n",
              "    <tr>\n",
              "      <th>2018-10-02</th>\n",
              "      <td>-0.426489</td>\n",
              "      <td>-0.387023</td>\n",
              "      <td>-0.430052</td>\n",
              "      <td>0.343308</td>\n",
              "    </tr>\n",
              "    <tr>\n",
              "      <th>2018-10-03</th>\n",
              "      <td>-1.309812</td>\n",
              "      <td>1.730902</td>\n",
              "      <td>-0.521921</td>\n",
              "      <td>0.123106</td>\n",
              "    </tr>\n",
              "    <tr>\n",
              "      <th>2018-10-04</th>\n",
              "      <td>-0.869006</td>\n",
              "      <td>0.661366</td>\n",
              "      <td>-1.051589</td>\n",
              "      <td>1.941724</td>\n",
              "    </tr>\n",
              "    <tr>\n",
              "      <th>2018-10-05</th>\n",
              "      <td>-0.327266</td>\n",
              "      <td>-1.144062</td>\n",
              "      <td>1.071819</td>\n",
              "      <td>1.045782</td>\n",
              "    </tr>\n",
              "    <tr>\n",
              "      <th>2018-10-06</th>\n",
              "      <td>-1.107276</td>\n",
              "      <td>-1.134408</td>\n",
              "      <td>0.403929</td>\n",
              "      <td>-1.697197</td>\n",
              "    </tr>\n",
              "  </tbody>\n",
              "</table>\n",
              "</div>"
            ],
            "text/plain": [
              "                   A         B         C         D\n",
              "2018-10-01 -0.488687  0.275360 -0.012762  2.682200\n",
              "2018-10-02 -0.426489 -0.387023 -0.430052  0.343308\n",
              "2018-10-03 -1.309812  1.730902 -0.521921  0.123106\n",
              "2018-10-04 -0.869006  0.661366 -1.051589  1.941724\n",
              "2018-10-05 -0.327266 -1.144062  1.071819  1.045782\n",
              "2018-10-06 -1.107276 -1.134408  0.403929 -1.697197"
            ]
          },
          "metadata": {
            "tags": []
          },
          "execution_count": 78
        }
      ]
    },
    {
      "cell_type": "code",
      "metadata": {
        "id": "drDYKBHcWjz6",
        "colab_type": "code",
        "outputId": "753d4515-21b3-472b-b2d0-8d9b44d2dddd",
        "colab": {
          "base_uri": "https://localhost:8080/",
          "height": 142
        }
      },
      "source": [
        "df = pd.DataFrame(np.random.randn(3,5), index=['student1','student2','student3'], columns=list('ABCDE'))\n",
        "df"
      ],
      "execution_count": 0,
      "outputs": [
        {
          "output_type": "execute_result",
          "data": {
            "text/html": [
              "<div>\n",
              "<style scoped>\n",
              "    .dataframe tbody tr th:only-of-type {\n",
              "        vertical-align: middle;\n",
              "    }\n",
              "\n",
              "    .dataframe tbody tr th {\n",
              "        vertical-align: top;\n",
              "    }\n",
              "\n",
              "    .dataframe thead th {\n",
              "        text-align: right;\n",
              "    }\n",
              "</style>\n",
              "<table border=\"1\" class=\"dataframe\">\n",
              "  <thead>\n",
              "    <tr style=\"text-align: right;\">\n",
              "      <th></th>\n",
              "      <th>A</th>\n",
              "      <th>B</th>\n",
              "      <th>C</th>\n",
              "      <th>D</th>\n",
              "      <th>E</th>\n",
              "    </tr>\n",
              "  </thead>\n",
              "  <tbody>\n",
              "    <tr>\n",
              "      <th>student1</th>\n",
              "      <td>-0.015358</td>\n",
              "      <td>-0.589986</td>\n",
              "      <td>-0.656000</td>\n",
              "      <td>1.057275</td>\n",
              "      <td>-0.671970</td>\n",
              "    </tr>\n",
              "    <tr>\n",
              "      <th>student2</th>\n",
              "      <td>0.290182</td>\n",
              "      <td>0.356189</td>\n",
              "      <td>0.117866</td>\n",
              "      <td>-0.488573</td>\n",
              "      <td>-1.857918</td>\n",
              "    </tr>\n",
              "    <tr>\n",
              "      <th>student3</th>\n",
              "      <td>1.924772</td>\n",
              "      <td>-0.134525</td>\n",
              "      <td>-0.080163</td>\n",
              "      <td>0.229649</td>\n",
              "      <td>0.653477</td>\n",
              "    </tr>\n",
              "  </tbody>\n",
              "</table>\n",
              "</div>"
            ],
            "text/plain": [
              "                 A         B         C         D         E\n",
              "student1 -0.015358 -0.589986 -0.656000  1.057275 -0.671970\n",
              "student2  0.290182  0.356189  0.117866 -0.488573 -1.857918\n",
              "student3  1.924772 -0.134525 -0.080163  0.229649  0.653477"
            ]
          },
          "metadata": {
            "tags": []
          },
          "execution_count": 79
        }
      ]
    },
    {
      "cell_type": "code",
      "metadata": {
        "id": "_h9inYIvXl6t",
        "colab_type": "code",
        "outputId": "64c3c9b4-7d2e-46d1-99f8-d805555796eb",
        "colab": {
          "base_uri": "https://localhost:8080/",
          "height": 173
        }
      },
      "source": [
        "df2 = pd.DataFrame({ 'A' : 1.,\n",
        "'B' : pd.Timestamp('20181001'),\n",
        "'C' : pd.Series(2.5,index=list(range(4)),dtype='float32'),\n",
        "'D' : np.array([3] * 4,dtype='int32'),\n",
        "'E' : pd.Categorical([\"test\",\"train\",\"test\",\"train\"]),\n",
        "'F' : 'foo' })\n",
        "df2"
      ],
      "execution_count": 0,
      "outputs": [
        {
          "output_type": "execute_result",
          "data": {
            "text/html": [
              "<div>\n",
              "<style scoped>\n",
              "    .dataframe tbody tr th:only-of-type {\n",
              "        vertical-align: middle;\n",
              "    }\n",
              "\n",
              "    .dataframe tbody tr th {\n",
              "        vertical-align: top;\n",
              "    }\n",
              "\n",
              "    .dataframe thead th {\n",
              "        text-align: right;\n",
              "    }\n",
              "</style>\n",
              "<table border=\"1\" class=\"dataframe\">\n",
              "  <thead>\n",
              "    <tr style=\"text-align: right;\">\n",
              "      <th></th>\n",
              "      <th>A</th>\n",
              "      <th>B</th>\n",
              "      <th>C</th>\n",
              "      <th>D</th>\n",
              "      <th>E</th>\n",
              "      <th>F</th>\n",
              "    </tr>\n",
              "  </thead>\n",
              "  <tbody>\n",
              "    <tr>\n",
              "      <th>0</th>\n",
              "      <td>1.0</td>\n",
              "      <td>2018-10-01</td>\n",
              "      <td>2.5</td>\n",
              "      <td>3</td>\n",
              "      <td>test</td>\n",
              "      <td>foo</td>\n",
              "    </tr>\n",
              "    <tr>\n",
              "      <th>1</th>\n",
              "      <td>1.0</td>\n",
              "      <td>2018-10-01</td>\n",
              "      <td>2.5</td>\n",
              "      <td>3</td>\n",
              "      <td>train</td>\n",
              "      <td>foo</td>\n",
              "    </tr>\n",
              "    <tr>\n",
              "      <th>2</th>\n",
              "      <td>1.0</td>\n",
              "      <td>2018-10-01</td>\n",
              "      <td>2.5</td>\n",
              "      <td>3</td>\n",
              "      <td>test</td>\n",
              "      <td>foo</td>\n",
              "    </tr>\n",
              "    <tr>\n",
              "      <th>3</th>\n",
              "      <td>1.0</td>\n",
              "      <td>2018-10-01</td>\n",
              "      <td>2.5</td>\n",
              "      <td>3</td>\n",
              "      <td>train</td>\n",
              "      <td>foo</td>\n",
              "    </tr>\n",
              "  </tbody>\n",
              "</table>\n",
              "</div>"
            ],
            "text/plain": [
              "     A          B    C  D      E    F\n",
              "0  1.0 2018-10-01  2.5  3   test  foo\n",
              "1  1.0 2018-10-01  2.5  3  train  foo\n",
              "2  1.0 2018-10-01  2.5  3   test  foo\n",
              "3  1.0 2018-10-01  2.5  3  train  foo"
            ]
          },
          "metadata": {
            "tags": []
          },
          "execution_count": 80
        }
      ]
    },
    {
      "cell_type": "code",
      "metadata": {
        "id": "eSWQhJ-8XQhB",
        "colab_type": "code",
        "colab": {}
      },
      "source": [
        ""
      ],
      "execution_count": 0,
      "outputs": []
    },
    {
      "cell_type": "code",
      "metadata": {
        "id": "430tyHivTU3O",
        "colab_type": "code",
        "outputId": "8b8f5dec-51c8-473a-8f38-3f60e7abd5a3",
        "colab": {
          "base_uri": "https://localhost:8080/",
          "height": 360
        }
      },
      "source": [
        "! pip install pandas_datareader"
      ],
      "execution_count": 0,
      "outputs": [
        {
          "output_type": "stream",
          "text": [
            "Collecting pandas_datareader\n",
            "\u001b[?25l  Downloading https://files.pythonhosted.org/packages/cc/5c/ea5b6dcfd0f55c5fb1e37fb45335ec01cceca199b8a79339137f5ed269e0/pandas_datareader-0.7.0-py2.py3-none-any.whl (111kB)\n",
            "\u001b[K    100% |████████████████████████████████| 112kB 5.5MB/s \n",
            "\u001b[?25hRequirement already satisfied: requests>=2.3.0 in /usr/local/lib/python3.6/dist-packages (from pandas_datareader) (2.18.4)\n",
            "Collecting lxml (from pandas_datareader)\n",
            "\u001b[?25l  Downloading https://files.pythonhosted.org/packages/03/a4/9eea8035fc7c7670e5eab97f34ff2ef0ddd78a491bf96df5accedb0e63f5/lxml-4.2.5-cp36-cp36m-manylinux1_x86_64.whl (5.8MB)\n",
            "\u001b[K    100% |████████████████████████████████| 5.8MB 6.8MB/s \n",
            "\u001b[?25hRequirement already satisfied: wrapt in /usr/local/lib/python3.6/dist-packages (from pandas_datareader) (1.10.11)\n",
            "Requirement already satisfied: pandas>=0.19.2 in /usr/local/lib/python3.6/dist-packages (from pandas_datareader) (0.22.0)\n",
            "Requirement already satisfied: chardet<3.1.0,>=3.0.2 in /usr/local/lib/python3.6/dist-packages (from requests>=2.3.0->pandas_datareader) (3.0.4)\n",
            "Requirement already satisfied: idna<2.7,>=2.5 in /usr/local/lib/python3.6/dist-packages (from requests>=2.3.0->pandas_datareader) (2.6)\n",
            "Requirement already satisfied: certifi>=2017.4.17 in /usr/local/lib/python3.6/dist-packages (from requests>=2.3.0->pandas_datareader) (2018.10.15)\n",
            "Requirement already satisfied: urllib3<1.23,>=1.21.1 in /usr/local/lib/python3.6/dist-packages (from requests>=2.3.0->pandas_datareader) (1.22)\n",
            "Requirement already satisfied: numpy>=1.9.0 in /usr/local/lib/python3.6/dist-packages (from pandas>=0.19.2->pandas_datareader) (1.14.6)\n",
            "Requirement already satisfied: python-dateutil>=2 in /usr/local/lib/python3.6/dist-packages (from pandas>=0.19.2->pandas_datareader) (2.5.3)\n",
            "Requirement already satisfied: pytz>=2011k in /usr/local/lib/python3.6/dist-packages (from pandas>=0.19.2->pandas_datareader) (2018.7)\n",
            "Requirement already satisfied: six>=1.5 in /usr/local/lib/python3.6/dist-packages (from python-dateutil>=2->pandas>=0.19.2->pandas_datareader) (1.11.0)\n",
            "Installing collected packages: lxml, pandas-datareader\n",
            "Successfully installed lxml-4.2.5 pandas-datareader-0.7.0\n"
          ],
          "name": "stdout"
        }
      ]
    },
    {
      "cell_type": "code",
      "metadata": {
        "id": "x8MVOjNVS6Ib",
        "colab_type": "code",
        "outputId": "d9798231-ac6a-41c9-9ac8-f0c270af8fc0",
        "colab": {
          "base_uri": "https://localhost:8080/",
          "height": 2382
        }
      },
      "source": [
        "# !pip install pandas_datareader\n",
        "import pandas as pd\n",
        "import pandas_datareader.data as web\n",
        "import matplotlib.pyplot as plt\n",
        "import seaborn as sns\n",
        "import datetime as dt\n",
        "%matplotlib inline\n",
        "\n",
        "#Read Stock Data from Yahoo Finance\n",
        "end = dt.datetime.now()\n",
        "#start = dt.datetime(end.year-2, end.month, end.day)\n",
        "start = dt.datetime(2016, 1, 1)\n",
        "df = web.DataReader(\"AAPL\", 'yahoo', start, end)\n",
        "df.to_csv('AAPL.csv')\n",
        "df.from_csv('AAPL.csv')\n",
        "df.tail()\n",
        "\n",
        "df['Adj Close'].plot(legend=True, figsize=(12, 8), title='AAPL', label='Adj Close')\n",
        "plt.figure(figsize=(12,9))\n",
        "top = plt.subplot2grid((12,9), (0, 0), rowspan=10, colspan=9)\n",
        "bottom = plt.subplot2grid((12,9), (10,0), rowspan=2, colspan=9)\n",
        "top.plot(df.index, df['Adj Close'], color='blue') #df.index gives the dates\n",
        "bottom.bar(df.index, df['Volume']) \n",
        " \n",
        "# set the labels\n",
        "top.axes.get_xaxis().set_visible(False)\n",
        "top.set_title('AAPL')\n",
        "top.set_ylabel('Adj Close')\n",
        "bottom.set_ylabel('Volume')\n",
        "\n",
        "plt.figure(figsize=(12,9))\n",
        "sns.distplot(df['Adj Close'].dropna(), bins=50, color='purple')\n",
        "\n",
        "# simple moving averages\n",
        "df['MA05'] = df['Adj Close'].rolling(5).mean() #5 days\n",
        "df['MA20'] = df['Adj Close'].rolling(20).mean() #20 days\n",
        "df['MA60'] = df['Adj Close'].rolling(60).mean() #60 days\n",
        "df2 = pd.DataFrame({'Adj Close': df['Adj Close'],'MA05': df['MA05'],'MA20': df['MA20'], 'MA60': df['MA60']})\n",
        "df2.plot(figsize=(12, 9), legend=True, title='AAPL')\n",
        "df2.to_csv('AAPL_MA.csv')\n",
        "fig = plt.gcf()\n",
        "fig.set_size_inches(12, 9)\n",
        "fig.savefig('AAPL_plot.png', dpi=300)\n",
        "plt.show()\n",
        "print(df.tail())"
      ],
      "execution_count": 0,
      "outputs": [
        {
          "output_type": "stream",
          "text": [
            "/usr/local/lib/python3.6/dist-packages/ipykernel_launcher.py:14: FutureWarning: from_csv is deprecated. Please use read_csv(...) instead. Note that some of the default arguments are different, so please refer to the documentation for from_csv when changing your function calls\n",
            "  \n"
          ],
          "name": "stderr"
        },
        {
          "output_type": "display_data",
          "data": {
            "image/png": "[encoded data removed]",
            "text/plain": [
              "<matplotlib.figure.Figure at 0x7fd8a5a2cb70>"
            ]
          },
          "metadata": {
            "tags": []
          }
        },
        {
          "output_type": "display_data",
          "data": {
            "image/png": "[encoded data removed]",
            "text/plain": [
              "<matplotlib.figure.Figure at 0x7fd8a53a8ba8>"
            ]
          },
          "metadata": {
            "tags": []
          }
        },
        {
          "output_type": "display_data",
          "data": {
            "image/png": "[encoded data removed]",
            "text/plain": [
              "<matplotlib.figure.Figure at 0x7fd8a5a8dc88>"
            ]
          },
          "metadata": {
            "tags": []
          }
        },
        {
          "output_type": "display_data",
          "data": {
            "image/png": "[encoded data removed]",
            "text/plain": [
              "<matplotlib.figure.Figure at 0x7fd8a099aef0>"
            ]
          },
          "metadata": {
            "tags": []
          }
        },
        {
          "output_type": "stream",
          "text": [
            "                  High         Low        Open       Close      Volume  \\\n",
            "Date                                                                     \n",
            "2018-10-26  220.190002  212.669998  215.899994  216.300003  47258400.0   \n",
            "2018-10-29  219.690002  206.089996  219.190002  212.240005  45935500.0   \n",
            "2018-10-30  215.179993  209.270004  211.149994  213.300003  36660000.0   \n",
            "2018-10-31  220.449997  216.619995  216.880005  218.860001  38271400.0   \n",
            "2018-11-01  220.000000  216.809998  219.050003  217.000000   7715451.0   \n",
            "\n",
            "             Adj Close        MA05        MA20        MA60  \n",
            "Date                                                        \n",
            "2018-10-26  216.300003  218.913998  221.752499  219.148073  \n",
            "2018-10-29  212.240005  217.232001  221.001500  219.231021  \n",
            "2018-10-30  213.300003  215.346002  220.202500  219.313699  \n",
            "2018-10-31  218.860001  216.100003  219.542000  219.521596  \n",
            "2018-11-01  217.000000  215.540002  218.992500  219.696167  \n"
          ],
          "name": "stdout"
        }
      ]
    },
    {
      "cell_type": "code",
      "metadata": {
        "id": "JWGDQqObezT8",
        "colab_type": "code",
        "outputId": "c4d4b40f-6d4d-4388-b35a-abfbfcfa2bdd",
        "colab": {
          "base_uri": "https://localhost:8080/",
          "height": 287
        }
      },
      "source": [
        "# !pip install pandas_datareader\n",
        "import pandas as pd\n",
        "import pandas_datareader.data as web\n",
        "import matplotlib.pyplot as plt\n",
        "import seaborn as sns\n",
        "import datetime as dt\n",
        "%matplotlib inline\n",
        "\n",
        "#Read Stock Data from Yahoo Finance\n",
        "end = dt.datetime.now()\n",
        "#start = dt.datetime(end.year-2, end.month, end.day)\n",
        "start = dt.datetime(2016, 1, 1)\n",
        "df = web.DataReader(\"AAPL\", 'yahoo', start, end)\n",
        "df.to_csv('AAPL.csv')\n",
        "df.from_csv('AAPL.csv')\n",
        "df.tail()"
      ],
      "execution_count": 0,
      "outputs": [
        {
          "output_type": "stream",
          "text": [
            "/usr/local/lib/python3.6/dist-packages/ipykernel_launcher.py:14: FutureWarning: from_csv is deprecated. Please use read_csv(...) instead. Note that some of the default arguments are different, so please refer to the documentation for from_csv when changing your function calls\n",
            "  \n"
          ],
          "name": "stderr"
        },
        {
          "output_type": "execute_result",
          "data": {
            "text/html": [
              "<div>\n",
              "<style scoped>\n",
              "    .dataframe tbody tr th:only-of-type {\n",
              "        vertical-align: middle;\n",
              "    }\n",
              "\n",
              "    .dataframe tbody tr th {\n",
              "        vertical-align: top;\n",
              "    }\n",
              "\n",
              "    .dataframe thead th {\n",
              "        text-align: right;\n",
              "    }\n",
              "</style>\n",
              "<table border=\"1\" class=\"dataframe\">\n",
              "  <thead>\n",
              "    <tr style=\"text-align: right;\">\n",
              "      <th></th>\n",
              "      <th>High</th>\n",
              "      <th>Low</th>\n",
              "      <th>Open</th>\n",
              "      <th>Close</th>\n",
              "      <th>Volume</th>\n",
              "      <th>Adj Close</th>\n",
              "    </tr>\n",
              "    <tr>\n",
              "      <th>Date</th>\n",
              "      <th></th>\n",
              "      <th></th>\n",
              "      <th></th>\n",
              "      <th></th>\n",
              "      <th></th>\n",
              "      <th></th>\n",
              "    </tr>\n",
              "  </thead>\n",
              "  <tbody>\n",
              "    <tr>\n",
              "      <th>2018-10-26</th>\n",
              "      <td>220.190002</td>\n",
              "      <td>212.669998</td>\n",
              "      <td>215.899994</td>\n",
              "      <td>216.300003</td>\n",
              "      <td>47258400.0</td>\n",
              "      <td>216.300003</td>\n",
              "    </tr>\n",
              "    <tr>\n",
              "      <th>2018-10-29</th>\n",
              "      <td>219.690002</td>\n",
              "      <td>206.089996</td>\n",
              "      <td>219.190002</td>\n",
              "      <td>212.240005</td>\n",
              "      <td>45935500.0</td>\n",
              "      <td>212.240005</td>\n",
              "    </tr>\n",
              "    <tr>\n",
              "      <th>2018-10-30</th>\n",
              "      <td>215.179993</td>\n",
              "      <td>209.270004</td>\n",
              "      <td>211.149994</td>\n",
              "      <td>213.300003</td>\n",
              "      <td>36660000.0</td>\n",
              "      <td>213.300003</td>\n",
              "    </tr>\n",
              "    <tr>\n",
              "      <th>2018-10-31</th>\n",
              "      <td>220.449997</td>\n",
              "      <td>216.619995</td>\n",
              "      <td>216.880005</td>\n",
              "      <td>218.860001</td>\n",
              "      <td>38271400.0</td>\n",
              "      <td>218.860001</td>\n",
              "    </tr>\n",
              "    <tr>\n",
              "      <th>2018-11-01</th>\n",
              "      <td>219.750000</td>\n",
              "      <td>218.729996</td>\n",
              "      <td>219.050003</td>\n",
              "      <td>219.630005</td>\n",
              "      <td>2302644.0</td>\n",
              "      <td>219.630005</td>\n",
              "    </tr>\n",
              "  </tbody>\n",
              "</table>\n",
              "</div>"
            ],
            "text/plain": [
              "                  High         Low        Open       Close      Volume  \\\n",
              "Date                                                                     \n",
              "2018-10-26  220.190002  212.669998  215.899994  216.300003  47258400.0   \n",
              "2018-10-29  219.690002  206.089996  219.190002  212.240005  45935500.0   \n",
              "2018-10-30  215.179993  209.270004  211.149994  213.300003  36660000.0   \n",
              "2018-10-31  220.449997  216.619995  216.880005  218.860001  38271400.0   \n",
              "2018-11-01  219.750000  218.729996  219.050003  219.630005   2302644.0   \n",
              "\n",
              "             Adj Close  \n",
              "Date                    \n",
              "2018-10-26  216.300003  \n",
              "2018-10-29  212.240005  \n",
              "2018-10-30  213.300003  \n",
              "2018-10-31  218.860001  \n",
              "2018-11-01  219.630005  "
            ]
          },
          "metadata": {
            "tags": []
          },
          "execution_count": 74
        }
      ]
    },
    {
      "cell_type": "code",
      "metadata": {
        "id": "JYzf2vlffe-s",
        "colab_type": "code",
        "outputId": "28ff1a51-437c-4ae2-936b-c9a52ee4b9f3",
        "colab": {
          "base_uri": "https://localhost:8080/",
          "height": 504
        }
      },
      "source": [
        "import pandas as pd\n",
        "import pandas_datareader.data as web\n",
        "df = web.DataReader(\"TSLA\", 'yahoo', '2017-01-01', '2018-10-31')\n",
        "df['Adj Close'].plot(legend=True, figsize=(12, 8), title='TSLA', label='Adj Close')"
      ],
      "execution_count": 0,
      "outputs": [
        {
          "output_type": "execute_result",
          "data": {
            "text/plain": [
              "<matplotlib.axes._subplots.AxesSubplot at 0x7fd8a10cfc50>"
            ]
          },
          "metadata": {
            "tags": []
          },
          "execution_count": 106
        },
        {
          "output_type": "display_data",
          "data": {
            "image/png": "[encoded data removed]",
            "text/plain": [
              "<matplotlib.figure.Figure at 0x7fd8a1058ac8>"
            ]
          },
          "metadata": {
            "tags": []
          }
        }
      ]
    },
    {
      "cell_type": "code",
      "metadata": {
        "id": "OaEdXcXYhCG6",
        "colab_type": "code",
        "outputId": "790ffc81-dd37-4a72-873c-ed118c9c4c9a",
        "colab": {
          "base_uri": "https://localhost:8080/",
          "height": 35
        }
      },
      "source": [
        "!ls"
      ],
      "execution_count": 0,
      "outputs": [
        {
          "output_type": "stream",
          "text": [
            "AAPL.csv  AAPL_MA.csv  AAPL_plot.png  DJI30.csv  sample_data\n"
          ],
          "name": "stdout"
        }
      ]
    },
    {
      "cell_type": "code",
      "metadata": {
        "id": "_aGywoudLSS7",
        "colab_type": "code",
        "outputId": "28ee8d28-2938-46cb-d773-c1a3f9476752",
        "colab": {
          "base_uri": "https://localhost:8080/",
          "height": 428
        }
      },
      "source": [
        "! pip install quandl"
      ],
      "execution_count": 0,
      "outputs": [
        {
          "output_type": "stream",
          "text": [
            "Collecting quandl\n",
            "  Downloading https://files.pythonhosted.org/packages/d3/70/c05e132321ae2375f26428e7097230b3b735a31d6b78077d5f15b3fb0e6b/Quandl-3.4.2-py2.py3-none-any.whl\n",
            "Collecting inflection>=0.3.1 (from quandl)\n",
            "  Downloading https://files.pythonhosted.org/packages/d5/35/a6eb45b4e2356fe688b21570864d4aa0d0a880ce387defe9c589112077f8/inflection-0.3.1.tar.gz\n",
            "Requirement already satisfied: pandas>=0.14 in /usr/local/lib/python3.6/dist-packages (from quandl) (0.22.0)\n",
            "Requirement already satisfied: numpy>=1.8 in /usr/local/lib/python3.6/dist-packages (from quandl) (1.14.6)\n",
            "Requirement already satisfied: six in /usr/local/lib/python3.6/dist-packages (from quandl) (1.11.0)\n",
            "Collecting more-itertools (from quandl)\n",
            "\u001b[?25l  Downloading https://files.pythonhosted.org/packages/79/b1/eace304ef66bd7d3d8b2f78cc374b73ca03bc53664d78151e9df3b3996cc/more_itertools-4.3.0-py3-none-any.whl (48kB)\n",
            "\u001b[K    100% |████████████████████████████████| 51kB 6.3MB/s \n",
            "\u001b[?25hRequirement already satisfied: requests>=2.7.0 in /usr/local/lib/python3.6/dist-packages (from quandl) (2.18.4)\n",
            "Requirement already satisfied: python-dateutil in /usr/local/lib/python3.6/dist-packages (from quandl) (2.5.3)\n",
            "Requirement already satisfied: pytz>=2011k in /usr/local/lib/python3.6/dist-packages (from pandas>=0.14->quandl) (2018.5)\n",
            "Requirement already satisfied: certifi>=2017.4.17 in /usr/local/lib/python3.6/dist-packages (from requests>=2.7.0->quandl) (2018.8.24)\n",
            "Requirement already satisfied: chardet<3.1.0,>=3.0.2 in /usr/local/lib/python3.6/dist-packages (from requests>=2.7.0->quandl) (3.0.4)\n",
            "Requirement already satisfied: urllib3<1.23,>=1.21.1 in /usr/local/lib/python3.6/dist-packages (from requests>=2.7.0->quandl) (1.22)\n",
            "Requirement already satisfied: idna<2.7,>=2.5 in /usr/local/lib/python3.6/dist-packages (from requests>=2.7.0->quandl) (2.6)\n",
            "Building wheels for collected packages: inflection\n",
            "  Running setup.py bdist_wheel for inflection ... \u001b[?25l-\b \b\\\b \bdone\n",
            "\u001b[?25h  Stored in directory: /root/.cache/pip/wheels/9f/5a/d3/6fc3bf6516d2a3eb7e18f9f28b472110b59325f3f258fe9211\n",
            "Successfully built inflection\n",
            "Installing collected packages: inflection, more-itertools, quandl\n",
            "Successfully installed inflection-0.3.1 more-itertools-4.3.0 quandl-3.4.2\n"
          ],
          "name": "stdout"
        }
      ]
    },
    {
      "cell_type": "code",
      "metadata": {
        "id": "MBBO7uvV7Q3v",
        "colab_type": "code",
        "colab": {}
      },
      "source": [
        "pip install quandl"
      ],
      "execution_count": 0,
      "outputs": []
    },
    {
      "cell_type": "code",
      "metadata": {
        "id": "mSDuNrbLK89J",
        "colab_type": "code",
        "outputId": "cb271c1d-d14b-4450-b7e0-7b3a3b2b50a3",
        "colab": {
          "base_uri": "https://localhost:8080/",
          "height": 289
        }
      },
      "source": [
        "# ! pip install quandl\n",
        "import quandl \n",
        "# quandl.ApiConfig.api_key = \"YOURAPIKEY\"\n",
        "df = quandl.get(\"WIKI/AAPL\", start_date=\"2016-01-01\", end_date=\"2017-12-31\")\n",
        "df.to_csv('AAPL.csv')\n",
        "df.from_csv('AAPL.csv')\n",
        "df.tail()"
      ],
      "execution_count": 0,
      "outputs": [
        {
          "output_type": "stream",
          "text": [
            "/usr/local/lib/python3.6/dist-packages/ipykernel_launcher.py:5: FutureWarning: from_csv is deprecated. Please use read_csv(...) instead. Note that some of the default arguments are different, so please refer to the documentation for from_csv when changing your function calls\n",
            "  \"\"\"\n"
          ],
          "name": "stderr"
        },
        {
          "output_type": "execute_result",
          "data": {
            "text/html": [
              "<div>\n",
              "<style scoped>\n",
              "    .dataframe tbody tr th:only-of-type {\n",
              "        vertical-align: middle;\n",
              "    }\n",
              "\n",
              "    .dataframe tbody tr th {\n",
              "        vertical-align: top;\n",
              "    }\n",
              "\n",
              "    .dataframe thead th {\n",
              "        text-align: right;\n",
              "    }\n",
              "</style>\n",
              "<table border=\"1\" class=\"dataframe\">\n",
              "  <thead>\n",
              "    <tr style=\"text-align: right;\">\n",
              "      <th></th>\n",
              "      <th>Open</th>\n",
              "      <th>High</th>\n",
              "      <th>Low</th>\n",
              "      <th>Close</th>\n",
              "      <th>Volume</th>\n",
              "      <th>Ex-Dividend</th>\n",
              "      <th>Split Ratio</th>\n",
              "      <th>Adj. Open</th>\n",
              "      <th>Adj. High</th>\n",
              "      <th>Adj. Low</th>\n",
              "      <th>Adj. Close</th>\n",
              "      <th>Adj. Volume</th>\n",
              "    </tr>\n",
              "    <tr>\n",
              "      <th>Date</th>\n",
              "      <th></th>\n",
              "      <th></th>\n",
              "      <th></th>\n",
              "      <th></th>\n",
              "      <th></th>\n",
              "      <th></th>\n",
              "      <th></th>\n",
              "      <th></th>\n",
              "      <th></th>\n",
              "      <th></th>\n",
              "      <th></th>\n",
              "      <th></th>\n",
              "    </tr>\n",
              "  </thead>\n",
              "  <tbody>\n",
              "    <tr>\n",
              "      <th>2017-12-22</th>\n",
              "      <td>174.68</td>\n",
              "      <td>175.424</td>\n",
              "      <td>174.500</td>\n",
              "      <td>175.01</td>\n",
              "      <td>16052615.0</td>\n",
              "      <td>0.0</td>\n",
              "      <td>1.0</td>\n",
              "      <td>174.68</td>\n",
              "      <td>175.424</td>\n",
              "      <td>174.500</td>\n",
              "      <td>175.01</td>\n",
              "      <td>16052615.0</td>\n",
              "    </tr>\n",
              "    <tr>\n",
              "      <th>2017-12-26</th>\n",
              "      <td>170.80</td>\n",
              "      <td>171.470</td>\n",
              "      <td>169.679</td>\n",
              "      <td>170.57</td>\n",
              "      <td>32968167.0</td>\n",
              "      <td>0.0</td>\n",
              "      <td>1.0</td>\n",
              "      <td>170.80</td>\n",
              "      <td>171.470</td>\n",
              "      <td>169.679</td>\n",
              "      <td>170.57</td>\n",
              "      <td>32968167.0</td>\n",
              "    </tr>\n",
              "    <tr>\n",
              "      <th>2017-12-27</th>\n",
              "      <td>170.10</td>\n",
              "      <td>170.780</td>\n",
              "      <td>169.710</td>\n",
              "      <td>170.60</td>\n",
              "      <td>21672062.0</td>\n",
              "      <td>0.0</td>\n",
              "      <td>1.0</td>\n",
              "      <td>170.10</td>\n",
              "      <td>170.780</td>\n",
              "      <td>169.710</td>\n",
              "      <td>170.60</td>\n",
              "      <td>21672062.0</td>\n",
              "    </tr>\n",
              "    <tr>\n",
              "      <th>2017-12-28</th>\n",
              "      <td>171.00</td>\n",
              "      <td>171.850</td>\n",
              "      <td>170.480</td>\n",
              "      <td>171.08</td>\n",
              "      <td>15997739.0</td>\n",
              "      <td>0.0</td>\n",
              "      <td>1.0</td>\n",
              "      <td>171.00</td>\n",
              "      <td>171.850</td>\n",
              "      <td>170.480</td>\n",
              "      <td>171.08</td>\n",
              "      <td>15997739.0</td>\n",
              "    </tr>\n",
              "    <tr>\n",
              "      <th>2017-12-29</th>\n",
              "      <td>170.52</td>\n",
              "      <td>170.590</td>\n",
              "      <td>169.220</td>\n",
              "      <td>169.23</td>\n",
              "      <td>25643711.0</td>\n",
              "      <td>0.0</td>\n",
              "      <td>1.0</td>\n",
              "      <td>170.52</td>\n",
              "      <td>170.590</td>\n",
              "      <td>169.220</td>\n",
              "      <td>169.23</td>\n",
              "      <td>25643711.0</td>\n",
              "    </tr>\n",
              "  </tbody>\n",
              "</table>\n",
              "</div>"
            ],
            "text/plain": [
              "              Open     High      Low   Close      Volume  Ex-Dividend  \\\n",
              "Date                                                                    \n",
              "2017-12-22  174.68  175.424  174.500  175.01  16052615.0          0.0   \n",
              "2017-12-26  170.80  171.470  169.679  170.57  32968167.0          0.0   \n",
              "2017-12-27  170.10  170.780  169.710  170.60  21672062.0          0.0   \n",
              "2017-12-28  171.00  171.850  170.480  171.08  15997739.0          0.0   \n",
              "2017-12-29  170.52  170.590  169.220  169.23  25643711.0          0.0   \n",
              "\n",
              "            Split Ratio  Adj. Open  Adj. High  Adj. Low  Adj. Close  \\\n",
              "Date                                                                  \n",
              "2017-12-22          1.0     174.68    175.424   174.500      175.01   \n",
              "2017-12-26          1.0     170.80    171.470   169.679      170.57   \n",
              "2017-12-27          1.0     170.10    170.780   169.710      170.60   \n",
              "2017-12-28          1.0     171.00    171.850   170.480      171.08   \n",
              "2017-12-29          1.0     170.52    170.590   169.220      169.23   \n",
              "\n",
              "            Adj. Volume  \n",
              "Date                     \n",
              "2017-12-22   16052615.0  \n",
              "2017-12-26   32968167.0  \n",
              "2017-12-27   21672062.0  \n",
              "2017-12-28   15997739.0  \n",
              "2017-12-29   25643711.0  "
            ]
          },
          "metadata": {
            "tags": []
          },
          "execution_count": 84
        }
      ]
    },
    {
      "cell_type": "markdown",
      "metadata": {
        "id": "eO0ztfRadgRe",
        "colab_type": "text"
      },
      "source": [
        "#Text Analytics and Natural Language Processing (NLP)"
      ]
    },
    {
      "cell_type": "markdown",
      "metadata": {
        "id": "TZxX3oH4jSf1",
        "colab_type": "text"
      },
      "source": [
        "## Jieba 結巴中文分詞\n",
        "Source: https://github.com/fxsjy/jieba"
      ]
    },
    {
      "cell_type": "code",
      "metadata": {
        "id": "zDP2oG64dsjr",
        "colab_type": "code",
        "outputId": "e5b7c621-0c4e-443c-ecf4-21f746c61176",
        "colab": {
          "base_uri": "https://localhost:8080/",
          "height": 34
        }
      },
      "source": [
        "!pip install jieba"
      ],
      "execution_count": 0,
      "outputs": [
        {
          "output_type": "stream",
          "text": [
            "Requirement already satisfied: jieba in /usr/local/lib/python3.6/dist-packages (0.39)\n"
          ],
          "name": "stdout"
        }
      ]
    },
    {
      "cell_type": "code",
      "metadata": {
        "id": "Wk4vXQ8Pu_sq",
        "colab_type": "code",
        "outputId": "7d2f2f4e-1dfe-459e-93f4-f7c930f9f1c4",
        "colab": {
          "base_uri": "https://localhost:8080/",
          "height": 105
        }
      },
      "source": [
        "import jieba\n",
        "\n",
        "seg_list = jieba.cut(\"我来到北京清华大学\", cut_all=True)\n",
        "print(\"全模式 Full Mode: \" + \"/ \".join(seg_list))  # 全模式\n",
        "\n",
        "seg_list = jieba.cut(\"我来到北京清华大学\", cut_all=False)\n",
        "print(\"精确模式 Default Mode: \" + \"/ \".join(seg_list))  # 精确模式\n",
        "\n",
        "seg_list = jieba.cut(\"他来到了网易杭研大厦\")  # 默认是精确模式\n",
        "print(\", \".join(seg_list))\n",
        "\n",
        "seg_list = jieba.cut_for_search(\"小明硕士毕业于中国科学院计算所，后在日本京都大学深造\")  # 搜索引擎模式\n",
        "print(\"搜索引擎模式 cut_for_search: \" + \", \".join(seg_list))"
      ],
      "execution_count": 0,
      "outputs": [
        {
          "output_type": "stream",
          "text": [
            "全模式 Full Mode: 我/ 来到/ 北京/ 清华/ 清华大学/ 华大/ 大学\n",
            "精确模式 Default Mode: 我/ 来到/ 北京/ 清华大学\n",
            "他, 来到, 了, 网易, 杭研, 大厦\n",
            "搜索引擎模式 cut_for_search: 小明, 硕士, 毕业, 于, 中国, 科学, 学院, 科学院, 中国科学院, 计算, 计算所, ，, 后, 在, 日本, 京都, 大学, 日本京都大学, 深造\n"
          ],
          "name": "stdout"
        }
      ]
    },
    {
      "cell_type": "code",
      "metadata": {
        "id": "tBF-zCsMd7jW",
        "colab_type": "code",
        "outputId": "baa3de8c-6212-45de-eb2e-3de0974b742b",
        "colab": {
          "base_uri": "https://localhost:8080/",
          "height": 238
        }
      },
      "source": [
        "import jieba\n",
        "import jieba.posseg as pseg\n",
        "sentence = \"銀行產業正在改變，金融機構欲挖角科技人才\"\n",
        "words = jieba.cut(sentence)\n",
        "print(sentence)\n",
        "print(\" \".join(words))\n",
        "wordspos = pseg.cut(sentence)\n",
        "result = '' \n",
        "for word, pos in wordspos:\n",
        "    print(word + ' (' + pos + ')')\n",
        "    result = result + ' ' + word + '(' + pos + ')'\n",
        "print(result.strip())"
      ],
      "execution_count": 0,
      "outputs": [
        {
          "output_type": "stream",
          "text": [
            "銀行產業正在改變，金融機構欲挖角科技人才\n",
            "銀行 產業 正在 改變 ， 金融 機構 欲 挖角 科技人才\n",
            "銀行 (n)\n",
            "產業 (n)\n",
            "正在 (t)\n",
            "改變 (v)\n",
            "， (x)\n",
            "金融 (n)\n",
            "機構 (n)\n",
            "欲 (d)\n",
            "挖角 (n)\n",
            "科技人才 (n)\n",
            "銀行(n) 產業(n) 正在(t) 改變(v) ，(x) 金融(n) 機構(n) 欲(d) 挖角(n) 科技人才(n)\n"
          ],
          "name": "stdout"
        }
      ]
    },
    {
      "cell_type": "code",
      "metadata": {
        "id": "SNae3FltjANm",
        "colab_type": "code",
        "outputId": "554d650b-d148-4a38-bc9a-9e06383a320a",
        "colab": {
          "base_uri": "https://localhost:8080/",
          "height": 5707
        }
      },
      "source": [
        "import jieba\n",
        "import re\n",
        "text = \"\"\"\n",
        "因應之查核程序：\n",
        "        本會計師對上述關鍵查核事項之主要查核程序包括：\n",
        "    - 取得管理當局提列備抵存貨跌價損失之計算明細表，評估提列備抵存貨跌價損失之方法\n",
        "      及所依據之資料、假設及公式是否合理。\n",
        "    - 針對正常品存貨檢視決算日之前及之後之產品毛利率報表，對於其中毛利率為負數或者\n",
        "      接近損益兩平之存貨項目，詢問管理階層並檢視適當之證實文件，以評估存貨備抵跌價\n",
        "      損失提列水準之適當性。\n",
        "    - 向管理當局取得存貨之庫齡分析表，評估其完整性及正確性，覆核並評估本期備抵存貨\n",
        "      跌價損失佔存貨之比率與前期比較分析，以評估整體存貨備抵跌價損失水準是否適當。\n",
        "\"\"\"\n",
        "print(text)\n",
        "\n",
        "print(\"***** 結巴中文分詞 jieba.cut ******\")\n",
        "words = jieba.cut(text)\n",
        "print(text)\n",
        "print(\" \".join(words))\n",
        "wordspos = pseg.cut(text)\n",
        "result = '' \n",
        "for word, pos in wordspos:\n",
        "    print(word + ' (' + pos + ')')\n",
        "    result = result + ' ' + word + '(' + pos + ')'\n",
        "print(result.strip())\n",
        "\n",
        "\n",
        "text2 = text.replace(\" \", \"\")\n",
        "print(text2)\n",
        "text3 = \"\".join(text.split())\n",
        "print(text3)\n",
        "textdata = text3\n",
        "#sentences = re.split('(。|！|\\!|\\.|？|\\?)', textdata) #斷句\n",
        "sentences = re.split('(，|、|。|：|！|\\!|\\.|？|\\?)', textdata) #斷句 ，、。：\n",
        "print('sentences:', sentences)\n",
        "\n",
        "print('*****使用 re.split 斷句*****')\n",
        "for s in sentences:\n",
        "    print(s)\n",
        "    \n",
        "\n",
        "print('*****斷句含標點符號*****')\n",
        "sents = []\n",
        "for i in range(int(len(sentences)/2)):\n",
        "    sent = sentences[2*i] + sentences[2*i + 1]\n",
        "    sents.append(sent)\n",
        "\n",
        "\n",
        "for i in range(len(sents)):\n",
        "    s = sents[i]\n",
        "    print(s)"
      ],
      "execution_count": 0,
      "outputs": [
        {
          "output_type": "stream",
          "text": [
            "\n",
            "因應之查核程序：\n",
            "        本會計師對上述關鍵查核事項之主要查核程序包括：\n",
            "    - 取得管理當局提列備抵存貨跌價損失之計算明細表，評估提列備抵存貨跌價損失之方法\n",
            "      及所依據之資料、假設及公式是否合理。\n",
            "    - 針對正常品存貨檢視決算日之前及之後之產品毛利率報表，對於其中毛利率為負數或者\n",
            "      接近損益兩平之存貨項目，詢問管理階層並檢視適當之證實文件，以評估存貨備抵跌價\n",
            "      損失提列水準之適當性。\n",
            "    - 向管理當局取得存貨之庫齡分析表，評估其完整性及正確性，覆核並評估本期備抵存貨\n",
            "      跌價損失佔存貨之比率與前期比較分析，以評估整體存貨備抵跌價損失水準是否適當。\n",
            "\n",
            "***** 結巴中文分詞 jieba.cut ******\n",
            "\n",
            "因應之查核程序：\n",
            "        本會計師對上述關鍵查核事項之主要查核程序包括：\n",
            "    - 取得管理當局提列備抵存貨跌價損失之計算明細表，評估提列備抵存貨跌價損失之方法\n",
            "      及所依據之資料、假設及公式是否合理。\n",
            "    - 針對正常品存貨檢視決算日之前及之後之產品毛利率報表，對於其中毛利率為負數或者\n",
            "      接近損益兩平之存貨項目，詢問管理階層並檢視適當之證實文件，以評估存貨備抵跌價\n",
            "      損失提列水準之適當性。\n",
            "    - 向管理當局取得存貨之庫齡分析表，評估其完整性及正確性，覆核並評估本期備抵存貨\n",
            "      跌價損失佔存貨之比率與前期比較分析，以評估整體存貨備抵跌價損失水準是否適當。\n",
            "\n",
            "\n",
            " 因應 之 查核 程序 ： \n",
            "                 本會 計師 對 上述 關鍵 查核 事項 之 主要 查核 程序 包括 ： \n",
            "         -   取得 管理 當局 提列備 抵存 貨跌價 損失 之 計算明 細表 ， 評估 提列備 抵存 貨跌價 損失 之 方法 \n",
            "             及 所 依據 之 資料 、 假設 及 公式 是否 合理 。 \n",
            "         -   針對 正常 品存 貨檢視 決算日 之前 及 之後之產品 毛利率 報表 ， 對 於 其中 毛利率 為 負數 或者 \n",
            "             接近 損益 兩平 之 存貨 項目 ， 詢問 管理 階層 並檢視 適當 之 證實 文件 ， 以評 估存 貨備 抵跌價 \n",
            "             損失 提列 水準 之 適當性 。 \n",
            "         -   向 管理 當局 取得 存貨 之 庫齡 分析 表 ， 評估 其 完整性 及 正 確性 ， 覆核 並評 估 本期 備抵 存貨 \n",
            "             跌價 損失 佔 存貨 之 比率 與 前期 比較 分析 ， 以 評估 整體 存貨備 抵跌 價損 失水 準 是否 適當 。 \n",
            "\n",
            "\n",
            " (x)\n",
            "因應 (n)\n",
            "之 (u)\n",
            "查核 (v)\n",
            "程序 (n)\n",
            "： (x)\n",
            "\n",
            " (x)\n",
            "  (x)\n",
            "  (x)\n",
            "  (x)\n",
            "  (x)\n",
            "  (x)\n",
            "  (x)\n",
            "  (x)\n",
            "  (x)\n",
            "本 (r)\n",
            "會 (v)\n",
            "計師 (n)\n",
            "對 (p)\n",
            "上述 (b)\n",
            "關鍵 (n)\n",
            "查核 (v)\n",
            "事項 (n)\n",
            "之 (u)\n",
            "主要 (b)\n",
            "查核 (v)\n",
            "程序 (n)\n",
            "包括 (v)\n",
            "： (x)\n",
            "\n",
            " (x)\n",
            "  (x)\n",
            "  (x)\n",
            "  (x)\n",
            "  (x)\n",
            "- (x)\n",
            "  (x)\n",
            "取得 (v)\n",
            "管理 (vn)\n",
            "當局 (n)\n",
            "提列 (v)\n",
            "備抵 (v)\n",
            "存貨 (n)\n",
            "跌價 (n)\n",
            "損失 (n)\n",
            "之 (u)\n",
            "計算 (v)\n",
            "明細 (ad)\n",
            "表 (v)\n",
            "， (x)\n",
            "評估 (vn)\n",
            "提列 (v)\n",
            "備抵 (v)\n",
            "存貨 (n)\n",
            "跌價 (n)\n",
            "損失 (n)\n",
            "之 (u)\n",
            "方法 (n)\n",
            "\n",
            " (x)\n",
            "  (x)\n",
            "  (x)\n",
            "  (x)\n",
            "  (x)\n",
            "  (x)\n",
            "  (x)\n",
            "及 (c)\n",
            "所 (u)\n",
            "依據 (n)\n",
            "之 (u)\n",
            "資料 (n)\n",
            "、 (x)\n",
            "假設 (vn)\n",
            "及 (c)\n",
            "公式 (n)\n",
            "是否 (v)\n",
            "合理 (vn)\n",
            "。 (x)\n",
            "\n",
            " (x)\n",
            "  (x)\n",
            "  (x)\n",
            "  (x)\n",
            "  (x)\n",
            "- (x)\n",
            "  (x)\n",
            "針對 (p)\n",
            "正常 (d)\n",
            "品存貨 (n)\n",
            "檢視 (v)\n",
            "決算 (v)\n",
            "日 (m)\n",
            "之前 (f)\n",
            "及之 (c)\n",
            "後 (nr)\n",
            "之 (u)\n",
            "產品 (n)\n",
            "毛利率 (n)\n",
            "報表 (n)\n",
            "， (x)\n",
            "對 (p)\n",
            "於 (nr)\n",
            "其中 (r)\n",
            "毛利率 (n)\n",
            "為 (p)\n",
            "負數 (n)\n",
            "或者 (c)\n",
            "\n",
            " (x)\n",
            "  (x)\n",
            "  (x)\n",
            "  (x)\n",
            "  (x)\n",
            "  (x)\n",
            "  (x)\n",
            "接近 (v)\n",
            "損益 (n)\n",
            "兩平 (n)\n",
            "之 (u)\n",
            "存貨 (n)\n",
            "項目 (n)\n",
            "， (x)\n",
            "詢問 (v)\n",
            "管理 (vn)\n",
            "階層 (n)\n",
            "並 (c)\n",
            "檢視 (v)\n",
            "適當 (a)\n",
            "之 (u)\n",
            "證實 (n)\n",
            "文件 (n)\n",
            "， (x)\n",
            "以 (p)\n",
            "評估 (vn)\n",
            "存貨備 (n)\n",
            "抵跌 (v)\n",
            "價 (n)\n",
            "\n",
            " (x)\n",
            "  (x)\n",
            "  (x)\n",
            "  (x)\n",
            "  (x)\n",
            "  (x)\n",
            "  (x)\n",
            "損失 (n)\n",
            "提列 (v)\n",
            "水準 (n)\n",
            "之 (u)\n",
            "適當 (a)\n",
            "性 (n)\n",
            "。 (x)\n",
            "\n",
            " (x)\n",
            "  (x)\n",
            "  (x)\n",
            "  (x)\n",
            "  (x)\n",
            "- (x)\n",
            "  (x)\n",
            "向 (p)\n",
            "管理 (vn)\n",
            "當 (p)\n",
            "局 (n)\n",
            "取得 (v)\n",
            "存貨 (n)\n",
            "之 (u)\n",
            "庫齡 (n)\n",
            "分析 (vn)\n",
            "表 (v)\n",
            "， (x)\n",
            "評估 (vn)\n",
            "其 (r)\n",
            "完整性 (n)\n",
            "及 (c)\n",
            "正確 (a)\n",
            "性 (n)\n",
            "， (x)\n",
            "覆核 (v)\n",
            "並 (c)\n",
            "評估 (vn)\n",
            "本期 (t)\n",
            "備 (v)\n",
            "抵存 (v)\n",
            "貨 (n)\n",
            "\n",
            " (x)\n",
            "  (x)\n",
            "  (x)\n",
            "  (x)\n",
            "  (x)\n",
            "  (x)\n",
            "  (x)\n",
            "跌價 (n)\n",
            "損失 (v)\n",
            "佔 (v)\n",
            "存貨 (n)\n",
            "之 (u)\n",
            "比率 (n)\n",
            "與 (zg)\n",
            "前期 (f)\n",
            "比較 (d)\n",
            "分析 (vn)\n",
            "， (x)\n",
            "以 (p)\n",
            "評估 (vn)\n",
            "整體 (n)\n",
            "存 (v)\n",
            "貨備 (n)\n",
            "抵跌 (v)\n",
            "價損 (n)\n",
            "失水 (v)\n",
            "準 (zg)\n",
            "是否 (v)\n",
            "適當 (a)\n",
            "。 (x)\n",
            "\n",
            " (x)\n",
            "(x) 因應(n) 之(u) 查核(v) 程序(n) ：(x) \n",
            "(x)  (x)  (x)  (x)  (x)  (x)  (x)  (x)  (x) 本(r) 會(v) 計師(n) 對(p) 上述(b) 關鍵(n) 查核(v) 事項(n) 之(u) 主要(b) 查核(v) 程序(n) 包括(v) ：(x) \n",
            "(x)  (x)  (x)  (x)  (x) -(x)  (x) 取得(v) 管理(vn) 當局(n) 提列(v) 備抵(v) 存貨(n) 跌價(n) 損失(n) 之(u) 計算(v) 明細(ad) 表(v) ，(x) 評估(vn) 提列(v) 備抵(v) 存貨(n) 跌價(n) 損失(n) 之(u) 方法(n) \n",
            "(x)  (x)  (x)  (x)  (x)  (x)  (x) 及(c) 所(u) 依據(n) 之(u) 資料(n) 、(x) 假設(vn) 及(c) 公式(n) 是否(v) 合理(vn) 。(x) \n",
            "(x)  (x)  (x)  (x)  (x) -(x)  (x) 針對(p) 正常(d) 品存貨(n) 檢視(v) 決算(v) 日(m) 之前(f) 及之(c) 後(nr) 之(u) 產品(n) 毛利率(n) 報表(n) ，(x) 對(p) 於(nr) 其中(r) 毛利率(n) 為(p) 負數(n) 或者(c) \n",
            "(x)  (x)  (x)  (x)  (x)  (x)  (x) 接近(v) 損益(n) 兩平(n) 之(u) 存貨(n) 項目(n) ，(x) 詢問(v) 管理(vn) 階層(n) 並(c) 檢視(v) 適當(a) 之(u) 證實(n) 文件(n) ，(x) 以(p) 評估(vn) 存貨備(n) 抵跌(v) 價(n) \n",
            "(x)  (x)  (x)  (x)  (x)  (x)  (x) 損失(n) 提列(v) 水準(n) 之(u) 適當(a) 性(n) 。(x) \n",
            "(x)  (x)  (x)  (x)  (x) -(x)  (x) 向(p) 管理(vn) 當(p) 局(n) 取得(v) 存貨(n) 之(u) 庫齡(n) 分析(vn) 表(v) ，(x) 評估(vn) 其(r) 完整性(n) 及(c) 正確(a) 性(n) ，(x) 覆核(v) 並(c) 評估(vn) 本期(t) 備(v) 抵存(v) 貨(n) \n",
            "(x)  (x)  (x)  (x)  (x)  (x)  (x) 跌價(n) 損失(v) 佔(v) 存貨(n) 之(u) 比率(n) 與(zg) 前期(f) 比較(d) 分析(vn) ，(x) 以(p) 評估(vn) 整體(n) 存(v) 貨備(n) 抵跌(v) 價損(n) 失水(v) 準(zg) 是否(v) 適當(a) 。(x) \n",
            "(x)\n",
            "\n",
            "因應之查核程序：\n",
            "本會計師對上述關鍵查核事項之主要查核程序包括：\n",
            "-取得管理當局提列備抵存貨跌價損失之計算明細表，評估提列備抵存貨跌價損失之方法\n",
            "及所依據之資料、假設及公式是否合理。\n",
            "-針對正常品存貨檢視決算日之前及之後之產品毛利率報表，對於其中毛利率為負數或者\n",
            "接近損益兩平之存貨項目，詢問管理階層並檢視適當之證實文件，以評估存貨備抵跌價\n",
            "損失提列水準之適當性。\n",
            "-向管理當局取得存貨之庫齡分析表，評估其完整性及正確性，覆核並評估本期備抵存貨\n",
            "跌價損失佔存貨之比率與前期比較分析，以評估整體存貨備抵跌價損失水準是否適當。\n",
            "\n",
            "因應之查核程序：本會計師對上述關鍵查核事項之主要查核程序包括：-取得管理當局提列備抵存貨跌價損失之計算明細表，評估提列備抵存貨跌價損失之方法及所依據之資料、假設及公式是否合理。-針對正常品存貨檢視決算日之前及之後之產品毛利率報表，對於其中毛利率為負數或者接近損益兩平之存貨項目，詢問管理階層並檢視適當之證實文件，以評估存貨備抵跌價損失提列水準之適當性。-向管理當局取得存貨之庫齡分析表，評估其完整性及正確性，覆核並評估本期備抵存貨跌價損失佔存貨之比率與前期比較分析，以評估整體存貨備抵跌價損失水準是否適當。\n",
            "sentences: ['因應之查核程序', '：', '本會計師對上述關鍵查核事項之主要查核程序包括', '：', '-取得管理當局提列備抵存貨跌價損失之計算明細表', '，', '評估提列備抵存貨跌價損失之方法及所依據之資料', '、', '假設及公式是否合理', '。', '-針對正常品存貨檢視決算日之前及之後之產品毛利率報表', '，', '對於其中毛利率為負數或者接近損益兩平之存貨項目', '，', '詢問管理階層並檢視適當之證實文件', '，', '以評估存貨備抵跌價損失提列水準之適當性', '。', '-向管理當局取得存貨之庫齡分析表', '，', '評估其完整性及正確性', '，', '覆核並評估本期備抵存貨跌價損失佔存貨之比率與前期比較分析', '，', '以評估整體存貨備抵跌價損失水準是否適當', '。', '']\n",
            "*****使用 re.split 斷句*****\n",
            "因應之查核程序\n",
            "：\n",
            "本會計師對上述關鍵查核事項之主要查核程序包括\n",
            "：\n",
            "-取得管理當局提列備抵存貨跌價損失之計算明細表\n",
            "，\n",
            "評估提列備抵存貨跌價損失之方法及所依據之資料\n",
            "、\n",
            "假設及公式是否合理\n",
            "。\n",
            "-針對正常品存貨檢視決算日之前及之後之產品毛利率報表\n",
            "，\n",
            "對於其中毛利率為負數或者接近損益兩平之存貨項目\n",
            "，\n",
            "詢問管理階層並檢視適當之證實文件\n",
            "，\n",
            "以評估存貨備抵跌價損失提列水準之適當性\n",
            "。\n",
            "-向管理當局取得存貨之庫齡分析表\n",
            "，\n",
            "評估其完整性及正確性\n",
            "，\n",
            "覆核並評估本期備抵存貨跌價損失佔存貨之比率與前期比較分析\n",
            "，\n",
            "以評估整體存貨備抵跌價損失水準是否適當\n",
            "。\n",
            "\n",
            "*****斷句含標點符號*****\n",
            "因應之查核程序：\n",
            "本會計師對上述關鍵查核事項之主要查核程序包括：\n",
            "-取得管理當局提列備抵存貨跌價損失之計算明細表，\n",
            "評估提列備抵存貨跌價損失之方法及所依據之資料、\n",
            "假設及公式是否合理。\n",
            "-針對正常品存貨檢視決算日之前及之後之產品毛利率報表，\n",
            "對於其中毛利率為負數或者接近損益兩平之存貨項目，\n",
            "詢問管理階層並檢視適當之證實文件，\n",
            "以評估存貨備抵跌價損失提列水準之適當性。\n",
            "-向管理當局取得存貨之庫齡分析表，\n",
            "評估其完整性及正確性，\n",
            "覆核並評估本期備抵存貨跌價損失佔存貨之比率與前期比較分析，\n",
            "以評估整體存貨備抵跌價損失水準是否適當。\n"
          ],
          "name": "stdout"
        }
      ]
    },
    {
      "cell_type": "code",
      "metadata": {
        "id": "Jl_2HycVnx3A",
        "colab_type": "code",
        "outputId": "758afc8f-55b7-4b2d-a97c-d66a1d2c6581",
        "colab": {
          "base_uri": "https://localhost:8080/",
          "height": 2721
        }
      },
      "source": [
        "print('*****join sents*****')\n",
        "textstring = ''.join(sents)\n",
        "print('textstring:', textstring)\n",
        "\n",
        "text = textstring\n",
        "print(\"***** 結巴中文分詞 jieba.cut ******\")\n",
        "\n",
        "jieba.suggest_freq('會計師', True)\n",
        "\n",
        "words = jieba.cut(text)\n",
        "print(text)\n",
        "print(\" \".join(words))\n",
        "wordspos = pseg.cut(text)\n",
        "result = '' \n",
        "for word, pos in wordspos:\n",
        "    print(word + ' (' + pos + ')')\n",
        "    result = result + ' ' + word + '(' + pos + ')'\n",
        "print(result.strip())"
      ],
      "execution_count": 0,
      "outputs": [
        {
          "output_type": "stream",
          "text": [
            "*****join sents*****\n",
            "textstring: 因應之查核程序：本會計師對上述關鍵查核事項之主要查核程序包括：-取得管理當局提列備抵存貨跌價損失之計算明細表，評估提列備抵存貨跌價損失之方法及所依據之資料、假設及公式是否合理。-針對正常品存貨檢視決算日之前及之後之產品毛利率報表，對於其中毛利率為負數或者接近損益兩平之存貨項目，詢問管理階層並檢視適當之證實文件，以評估存貨備抵跌價損失提列水準之適當性。-向管理當局取得存貨之庫齡分析表，評估其完整性及正確性，覆核並評估本期備抵存貨跌價損失佔存貨之比率與前期比較分析，以評估整體存貨備抵跌價損失水準是否適當。\n",
            "***** 結巴中文分詞 jieba.cut ******\n",
            "因應之查核程序：本會計師對上述關鍵查核事項之主要查核程序包括：-取得管理當局提列備抵存貨跌價損失之計算明細表，評估提列備抵存貨跌價損失之方法及所依據之資料、假設及公式是否合理。-針對正常品存貨檢視決算日之前及之後之產品毛利率報表，對於其中毛利率為負數或者接近損益兩平之存貨項目，詢問管理階層並檢視適當之證實文件，以評估存貨備抵跌價損失提列水準之適當性。-向管理當局取得存貨之庫齡分析表，評估其完整性及正確性，覆核並評估本期備抵存貨跌價損失佔存貨之比率與前期比較分析，以評估整體存貨備抵跌價損失水準是否適當。\n",
            "因應 之 查核 程序 ： 本 會計師 對 上述 關鍵 查核 事項 之 主要 查核 程序 包括 ： - 取得 管理 當局 提列 備抵 存貨 跌價 損失 之 計算 明細表 ， 評估 提列 備抵 存貨 跌價 損失 之 方法 及 所 依據 之 資料 、 假設 及 公式 是否 合理 。 - 針對 正常 品 存貨 檢視 決算 日 之前 及 之後 之 產品 毛利率 報表 ， 對於 其中 毛利率 為 負數 或者 接近 損益 兩平 之 存貨 項目 ， 詢問 管理 階層 並 檢視 適當 之 證實 文件 ， 以 評估 存貨 備抵 跌價 損失 提列 水準 之 適當 性 。 - 向 管理 當局 取得 存貨 之庫齡 分析 表 ， 評估 其 完整性 及 正確性 ， 覆核 並 評估 本期 備抵 存貨 跌價 損失 佔 存貨 之 比率 與 前期 比較 分析 ， 以 評估 整體 存貨 備抵 跌價 損失 水準 是否 適當 。\n",
            "因應 (x)\n",
            "之 (u)\n",
            "查核 (v)\n",
            "程序 (n)\n",
            "： (x)\n",
            "本 (r)\n",
            "會計師 (x)\n",
            "對 (x)\n",
            "上述 (b)\n",
            "關鍵 (x)\n",
            "查核 (v)\n",
            "事項 (x)\n",
            "之 (u)\n",
            "主要 (b)\n",
            "查核 (v)\n",
            "程序 (n)\n",
            "包括 (v)\n",
            "： (x)\n",
            "- (x)\n",
            "取得 (v)\n",
            "管理 (vn)\n",
            "當局 (x)\n",
            "提列 (v)\n",
            "備抵 (x)\n",
            "存貨 (x)\n",
            "跌價 (x)\n",
            "損失 (x)\n",
            "之 (u)\n",
            "計算 (x)\n",
            "明細表 (x)\n",
            "， (x)\n",
            "評估 (x)\n",
            "提列 (v)\n",
            "備抵 (x)\n",
            "存貨 (x)\n",
            "跌價 (x)\n",
            "損失 (x)\n",
            "之 (u)\n",
            "方法 (n)\n",
            "及所 (c)\n",
            "依據 (x)\n",
            "之 (u)\n",
            "資料 (x)\n",
            "、 (x)\n",
            "假設 (x)\n",
            "及 (c)\n",
            "公式 (n)\n",
            "是否 (v)\n",
            "合理 (vn)\n",
            "。 (x)\n",
            "- (x)\n",
            "針對 (x)\n",
            "正常 (d)\n",
            "品 (v)\n",
            "存貨 (x)\n",
            "檢視 (x)\n",
            "決算 (x)\n",
            "日 (m)\n",
            "之前 (f)\n",
            "及 (c)\n",
            "之後 (x)\n",
            "之 (u)\n",
            "產品 (x)\n",
            "毛利率 (n)\n",
            "報表 (x)\n",
            "， (x)\n",
            "對於 (x)\n",
            "其中 (r)\n",
            "毛利率 (n)\n",
            "為 (zg)\n",
            "負數 (x)\n",
            "或者 (c)\n",
            "接近 (v)\n",
            "損益 (x)\n",
            "兩平之 (m)\n",
            "存貨 (x)\n",
            "項目 (x)\n",
            "， (x)\n",
            "詢問 (x)\n",
            "管理 (vn)\n",
            "階層 (x)\n",
            "並 (zg)\n",
            "檢視 (x)\n",
            "適當 (x)\n",
            "之 (u)\n",
            "證實 (x)\n",
            "文件 (n)\n",
            "， (x)\n",
            "以 (p)\n",
            "評估 (x)\n",
            "存貨 (x)\n",
            "備抵 (x)\n",
            "跌價 (x)\n",
            "損失 (x)\n",
            "提列 (v)\n",
            "水準 (x)\n",
            "之 (u)\n",
            "適當 (x)\n",
            "性 (n)\n",
            "。 (x)\n",
            "- (x)\n",
            "向 (p)\n",
            "管理 (vn)\n",
            "當局 (x)\n",
            "取得 (v)\n",
            "存貨 (x)\n",
            "之 (u)\n",
            "庫齡 (n)\n",
            "分析 (vn)\n",
            "表 (v)\n",
            "， (x)\n",
            "評估 (x)\n",
            "其 (r)\n",
            "完整性 (n)\n",
            "及 (c)\n",
            "正確性 (x)\n",
            "， (x)\n",
            "覆核 (v)\n",
            "並 (zg)\n",
            "評估 (x)\n",
            "本期 (t)\n",
            "備抵 (x)\n",
            "存貨 (x)\n",
            "跌價 (x)\n",
            "損失 (x)\n",
            "佔 (zg)\n",
            "存貨 (x)\n",
            "之 (u)\n",
            "比率 (n)\n",
            "與 (zg)\n",
            "前期 (f)\n",
            "比較 (x)\n",
            "分析 (vn)\n",
            "， (x)\n",
            "以 (p)\n",
            "評估 (x)\n",
            "整體 (x)\n",
            "存貨 (x)\n",
            "備抵 (x)\n",
            "跌價 (x)\n",
            "損失 (x)\n",
            "水準 (x)\n",
            "是否 (v)\n",
            "適當 (x)\n",
            "。 (x)\n",
            "因應(x) 之(u) 查核(v) 程序(n) ：(x) 本(r) 會計師(x) 對(x) 上述(b) 關鍵(x) 查核(v) 事項(x) 之(u) 主要(b) 查核(v) 程序(n) 包括(v) ：(x) -(x) 取得(v) 管理(vn) 當局(x) 提列(v) 備抵(x) 存貨(x) 跌價(x) 損失(x) 之(u) 計算(x) 明細表(x) ，(x) 評估(x) 提列(v) 備抵(x) 存貨(x) 跌價(x) 損失(x) 之(u) 方法(n) 及所(c) 依據(x) 之(u) 資料(x) 、(x) 假設(x) 及(c) 公式(n) 是否(v) 合理(vn) 。(x) -(x) 針對(x) 正常(d) 品(v) 存貨(x) 檢視(x) 決算(x) 日(m) 之前(f) 及(c) 之後(x) 之(u) 產品(x) 毛利率(n) 報表(x) ，(x) 對於(x) 其中(r) 毛利率(n) 為(zg) 負數(x) 或者(c) 接近(v) 損益(x) 兩平之(m) 存貨(x) 項目(x) ，(x) 詢問(x) 管理(vn) 階層(x) 並(zg) 檢視(x) 適當(x) 之(u) 證實(x) 文件(n) ，(x) 以(p) 評估(x) 存貨(x) 備抵(x) 跌價(x) 損失(x) 提列(v) 水準(x) 之(u) 適當(x) 性(n) 。(x) -(x) 向(p) 管理(vn) 當局(x) 取得(v) 存貨(x) 之(u) 庫齡(n) 分析(vn) 表(v) ，(x) 評估(x) 其(r) 完整性(n) 及(c) 正確性(x) ，(x) 覆核(v) 並(zg) 評估(x) 本期(t) 備抵(x) 存貨(x) 跌價(x) 損失(x) 佔(zg) 存貨(x) 之(u) 比率(n) 與(zg) 前期(f) 比較(x) 分析(vn) ，(x) 以(p) 評估(x) 整體(x) 存貨(x) 備抵(x) 跌價(x) 損失(x) 水準(x) 是否(v) 適當(x) 。(x)\n"
          ],
          "name": "stdout"
        }
      ]
    },
    {
      "cell_type": "code",
      "metadata": {
        "id": "OXzTsuV6pJql",
        "colab_type": "code",
        "outputId": "0d314b1c-5250-4a3f-fbb1-a83d741cf07f",
        "colab": {
          "base_uri": "https://localhost:8080/",
          "height": 214
        }
      },
      "source": [
        "from google.colab import drive\n",
        "drive.mount('/content/gdrive')\n",
        "!ls\n",
        "print('ls dir in Google Drive')\n",
        "!ls '/content/gdrive/My Drive/'"
      ],
      "execution_count": 0,
      "outputs": [
        {
          "output_type": "stream",
          "text": [
            "Go to this URL in a browser: https://accounts.google.com/o/oauth2/auth?client_id=947318989803-6bn6qk8qdgf4n4g3pfee6491hc0brc4i.apps.googleusercontent.com&redirect_uri=urn%3Aietf%3Awg%3Aoauth%3A2.0%3Aoob&scope=email%20https%3A%2F%2Fwww.googleapis.com%2Fauth%2Fdocs.test%20https%3A%2F%2Fwww.googleapis.com%2Fauth%2Fdrive%20https%3A%2F%2Fwww.googleapis.com%2Fauth%2Fdrive.photos.readonly%20https%3A%2F%2Fwww.googleapis.com%2Fauth%2Fpeopleapi.readonly&response_type=code\n",
            "\n",
            "Enter your authorization code:\n",
            "··········\n",
            "Mounted at /content/gdrive\n",
            "gdrive\tsample_data\n",
            "ls dir in Google Drive\n",
            " ai\t\t\t     data\t\t     io_test1.txt\n",
            " AssociationAnalysis.ipynb   Hello20181025.ipynb     test\n",
            "'Colab Notebooks'\t     HelloGoogleDoc01.gdoc\n"
          ],
          "name": "stdout"
        }
      ]
    },
    {
      "cell_type": "code",
      "metadata": {
        "id": "JB-E282rpWhF",
        "colab_type": "code",
        "outputId": "ef18160a-11cf-4e00-a38b-3ad41850cf35",
        "colab": {
          "base_uri": "https://localhost:8080/",
          "height": 34
        }
      },
      "source": [
        "!ls '/content/gdrive/My Drive/data/nlp/exceldata/'"
      ],
      "execution_count": 0,
      "outputs": [
        {
          "output_type": "stream",
          "text": [
            "text_mining_kam_e.xlsx\ttext_mining_kam.xlsx\n"
          ],
          "name": "stdout"
        }
      ]
    },
    {
      "cell_type": "code",
      "metadata": {
        "id": "KGnAw0KnpbC0",
        "colab_type": "code",
        "outputId": "26be04fe-2758-42eb-bfda-e51c29fc0691",
        "colab": {
          "base_uri": "https://localhost:8080/",
          "height": 392
        }
      },
      "source": [
        "!pip install xlrd\n",
        "import pandas as pd\n",
        "from pandas import ExcelWriter\n",
        "from pandas import ExcelFile\n",
        " \n",
        "df = pd.read_excel('/content/gdrive/My Drive/data/nlp/exceldata/text_mining_kam_e.xlsx', sheetname='Sheet1')\n",
        "#text_mining_kam_e.xlsx\n",
        "#code\tkam\tprocedure\n",
        "code = df['code']\n",
        "kam = df['kam']\n",
        "procedure = df['procedure']\n",
        "print(code)\n",
        "print(kam)\n",
        "print(procedure)\n",
        "print(len(procedure))"
      ],
      "execution_count": 0,
      "outputs": [
        {
          "output_type": "stream",
          "text": [
            "Collecting xlrd\n",
            "\u001b[?25l  Downloading https://files.pythonhosted.org/packages/07/e6/e95c4eec6221bfd8528bcc4ea252a850bffcc4be88ebc367e23a1a84b0bb/xlrd-1.1.0-py2.py3-none-any.whl (108kB)\n",
            "\u001b[K    100% |████████████████████████████████| 112kB 2.6MB/s \n",
            "\u001b[?25hInstalling collected packages: xlrd\n",
            "Successfully installed xlrd-1.1.0\n"
          ],
          "name": "stdout"
        },
        {
          "output_type": "stream",
          "text": [
            "/usr/local/lib/python3.6/dist-packages/pandas/util/_decorators.py:118: FutureWarning: The `sheetname` keyword is deprecated, use `sheet_name` instead\n",
            "  return func(*args, **kwargs)\n"
          ],
          "name": "stderr"
        },
        {
          "output_type": "stream",
          "text": [
            "0    1210\n",
            "1    1213\n",
            "2    1215\n",
            "Name: code, dtype: int64\n",
            "0            存貨評價\n",
            "1    存貨備抵跌價損失之評估 \n",
            "2       存貨淨變現價值評估\n",
            "Name: kam, dtype: object\n",
            "0     因應之查核程序：\\n        本會計師對上述關鍵查核事項之主要查核程序包括：\\n  ...\n",
            "1      因應之查核程序     本會計師對於超過一定期間貨齡之存貨及個別有過時與毀損存貨之備抵存...\n",
            "2    因應之查核程序     本會計師對上開關鍵查核事項已執行之查核程序及結果彙總說明如下： \\n...\n",
            "Name: procedure, dtype: object\n",
            "3\n"
          ],
          "name": "stdout"
        }
      ]
    },
    {
      "cell_type": "code",
      "metadata": {
        "id": "zuaUiWeSqCbG",
        "colab_type": "code",
        "outputId": "18aa1c5c-106f-4611-c632-a35b3d99429c",
        "colab": {
          "base_uri": "https://localhost:8080/",
          "height": 54
        }
      },
      "source": [
        "'''\n",
        "1210\t存貨評價\t\" 因應之查核程序：\n",
        "        本會計師對上述關鍵查核事項之主要查核程序包括：\n",
        "    - 取得管理當局提列備抵存貨跌價損失之計算明細表，評估提列備抵存貨跌價損失之方法\n",
        "      及所依據之資料、假設及公式是否合理。\n",
        "    - 針對正常品存貨檢視決算日之前及之後之產品毛利率報表，對於其中毛利率為負數或者\n",
        "      接近損益兩平之存貨項目，詢問管理階層並檢視適當之證實文件，以評估存貨備抵跌價\n",
        "      損失提列水準之適當性。\n",
        "    - 向管理當局取得存貨之庫齡分析表，評估其完整性及正確性，覆核並評估本期備抵存貨\n",
        "      跌價損失佔存貨之比率與前期比較分析，以評估整體存貨備抵跌價損失水準是否適當。\"\n",
        "1213\t存貨備抵跌價損失之評估 \t\"  因應之查核程序     本會計師對於超過一定期間貨齡之存貨及個別有過時與毀損存貨之備抵存貨評價損 \n",
        "失已執行之查核程序及結果如下： \n",
        "    1.比較財務報表期間對備抵存貨評價損失之提列政策係一致採用，且評估其提列政 \n",
        "策是否合理。 \n",
        "    2.驗證管理階層用以評價之存貨貨齡報表系統邏輯之適當性，以確認超過一定貨齡 \n",
        "之過時存貨項目是否已列入該報表。 \n",
        "    3.評估管理階層所個別辨認之過時或毀損存貨項目之合理性及相關佐證文件，並與 \n",
        "觀察存貨盤點所獲得資訊核對。 \n",
        "    4.就個別有過時與毀損之存貨項目所評估淨變現價值，與管理階層討論並取得佐證 \n",
        "文件，並加以計算。 \"\n",
        "1215\t存貨淨變現價值評估\t\"因應之查核程序     本會計師對上開關鍵查核事項已執行之查核程序及結果彙總說明如下： \n",
        "    1.依對卜蜂集團營運及其所屬產業之瞭解，評估其存貨淨變現價值所採用之政策及程 \n",
        "序之合理性，並確認於比較財務報導期間已一致採用。 \n",
        "    2.取得財務報導期間結束日之存貨淨變現價值報表，核對淨變現價值所使用之商品售 \n",
        "價或進貨價格等資料來源，並重新計算應計提之存貨備抵跌價損失，以確認此類會計估 \n",
        "計之執行狀況與其政策一致。 \"\n",
        "'''"
      ],
      "execution_count": 0,
      "outputs": [
        {
          "output_type": "execute_result",
          "data": {
            "text/plain": [
              "'\\n1210\\t存貨評價\\t\" 因應之查核程序：\\n        本會計師對上述關鍵查核事項之主要查核程序包括：\\n    - 取得管理當局提列備抵存貨跌價損失之計算明細表，評估提列備抵存貨跌價損失之方法\\n      及所依據之資料、假設及公式是否合理。\\n    - 針對正常品存貨檢視決算日之前及之後之產品毛利率報表，對於其中毛利率為負數或者\\n      接近損益兩平之存貨項目，詢問管理階層並檢視適當之證實文件，以評估存貨備抵跌價\\n      損失提列水準之適當性。\\n    - 向管理當局取得存貨之庫齡分析表，評估其完整性及正確性，覆核並評估本期備抵存貨\\n      跌價損失佔存貨之比率與前期比較分析，以評估整體存貨備抵跌價損失水準是否適當。\"\\n1213\\t存貨備抵跌價損失之評估 \\t\"  因應之查核程序     本會計師對於超過一定期間貨齡之存貨及個別有過時與毀損存貨之備抵存貨評價損 \\n失已執行之查核程序及結果如下： \\n    1.比較財務報表期間對備抵存貨評價損失之提列政策係一致採用，且評估其提列政 \\n策是否合理。 \\n    2.驗證管理階層用以評價之存貨貨齡報表系統邏輯之適當性，以確認超過一定貨齡 \\n之過時存貨項目是否已列入該報表。 \\n    3.評估管理階層所個別辨認之過時或毀損存貨項目之合理性及相關佐證文件，並與 \\n觀察存貨盤點所獲得資訊核對。 \\n    4.就個別有過時與毀損之存貨項目所評估淨變現價值，與管理階層討論並取得佐證 \\n文件，並加以計算。 \"\\n1215\\t存貨淨變現價值評估\\t\"因應之查核程序     本會計師對上開關鍵查核事項已執行之查核程序及結果彙總說明如下： \\n    1.依對卜蜂集團營運及其所屬產業之瞭解，評估其存貨淨變現價值所採用之政策及程 \\n序之合理性，並確認於比較財務報導期間已一致採用。 \\n    2.取得財務報導期間結束日之存貨淨變現價值報表，核對淨變現價值所使用之商品售 \\n價或進貨價格等資料來源，並重新計算應計提之存貨備抵跌價損失，以確認此類會計估 \\n計之執行狀況與其政策一致。 \"\\n'"
            ]
          },
          "metadata": {
            "tags": []
          },
          "execution_count": 44
        }
      ]
    },
    {
      "cell_type": "code",
      "metadata": {
        "id": "mpJCy3ezpmCI",
        "colab_type": "code",
        "outputId": "7ef15f7e-c6d0-4be9-fe1b-f1de32e9a536",
        "colab": {
          "base_uri": "https://localhost:8080/",
          "height": 54
        }
      },
      "source": [
        "text1 = procedure[0]\n",
        "text1"
      ],
      "execution_count": 0,
      "outputs": [
        {
          "output_type": "execute_result",
          "data": {
            "text/plain": [
              "' 因應之查核程序：\\n        本會計師對上述關鍵查核事項之主要查核程序包括：\\n    - 取得管理當局提列備抵存貨跌價損失之計算明細表，評估提列備抵存貨跌價損失之方法\\n      及所依據之資料、假設及公式是否合理。\\n    - 針對正常品存貨檢視決算日之前及之後之產品毛利率報表，對於其中毛利率為負數或者\\n      接近損益兩平之存貨項目，詢問管理階層並檢視適當之證實文件，以評估存貨備抵跌價\\n      損失提列水準之適當性。\\n    - 向管理當局取得存貨之庫齡分析表，評估其完整性及正確性，覆核並評估本期備抵存貨\\n      跌價損失佔存貨之比率與前期比較分析，以評估整體存貨備抵跌價損失水準是否適當。'"
            ]
          },
          "metadata": {
            "tags": []
          },
          "execution_count": 43
        }
      ]
    },
    {
      "cell_type": "code",
      "metadata": {
        "id": "59bANlUFrh6U",
        "colab_type": "code",
        "outputId": "42dfd875-8a9d-4394-cfac-b5313dd07a76",
        "colab": {
          "base_uri": "https://localhost:8080/",
          "height": 390
        }
      },
      "source": [
        "!wget http://mail.tku.edu.tw/myday/data/jieba/jieba_dict/dict.txt.big.txt\n",
        "!head dict.txt.big.txt"
      ],
      "execution_count": 0,
      "outputs": [
        {
          "output_type": "stream",
          "text": [
            "--2018-12-11 00:34:56--  http://mail.tku.edu.tw/myday/data/jieba/jieba_dict/dict.txt.big.txt\n",
            "Resolving mail.tku.edu.tw (mail.tku.edu.tw)... 163.13.1.210\n",
            "Connecting to mail.tku.edu.tw (mail.tku.edu.tw)|163.13.1.210|:80... connected.\n",
            "HTTP request sent, awaiting response... 200 OK\n",
            "Length: 8583143 (8.2M) [text/plain]\n",
            "Saving to: ‘dict.txt.big.txt.2’\n",
            "\n",
            "\rdict.txt.big.txt.2    0%[                    ]       0  --.-KB/s               \rdict.txt.big.txt.2  100%[===================>]   8.18M  --.-KB/s    in 0.1s    \n",
            "\n",
            "2018-12-11 00:34:56 (69.3 MB/s) - ‘dict.txt.big.txt.2’ saved [8583143/8583143]\n",
            "\n",
            "1号店 3 n\n",
            "1號店 3 n\n",
            "4S店 3 n\n",
            "4s店 3 n\n",
            "AA制 3 n\n",
            "AB型 3 n\n",
            "AT&T 3 nz\n",
            "A型 3 n\n",
            "A座 3 n\n",
            "A股 3 n\n"
          ],
          "name": "stdout"
        }
      ]
    },
    {
      "cell_type": "code",
      "metadata": {
        "id": "RkwYWenasGOD",
        "colab_type": "code",
        "outputId": "7d203394-81ac-462d-ed8f-1a57a0889b2c",
        "colab": {
          "base_uri": "https://localhost:8080/",
          "height": 194
        }
      },
      "source": [
        "!tail dict.txt.big.txt"
      ],
      "execution_count": 0,
      "outputs": [
        {
          "output_type": "stream",
          "text": [
            "龟足 5 v\n",
            "龟鉴 2 n\n",
            "龟镜 3 nz\n",
            "龟鳖 3 n\n",
            "龟鹤遐寿 3 l\n",
            "龟龄鹤算 3 n\n",
            "龟龙片甲 3 nz\n",
            "龟龙麟凤 3 ns\n",
            "龠 5 g\n",
            "龢 732 zg\n"
          ],
          "name": "stdout"
        }
      ]
    },
    {
      "cell_type": "code",
      "metadata": {
        "id": "di8uY8zwr0AQ",
        "colab_type": "code",
        "outputId": "b4d2c9e4-5a78-4e2b-e65b-86475f9082b5",
        "colab": {
          "base_uri": "https://localhost:8080/",
          "height": 212
        }
      },
      "source": [
        "!wget 'http://mail.tku.edu.tw/myday/data/jieba/jieba_dict/userdict.txt'"
      ],
      "execution_count": 0,
      "outputs": [
        {
          "output_type": "stream",
          "text": [
            "--2018-12-11 00:34:02--  http://mail.tku.edu.tw/myday/data/jieba/jieba_dict/userdict.txt\n",
            "Resolving mail.tku.edu.tw (mail.tku.edu.tw)... 163.13.1.210\n",
            "Connecting to mail.tku.edu.tw (mail.tku.edu.tw)|163.13.1.210|:80... connected.\n",
            "HTTP request sent, awaiting response... 200 OK\n",
            "Length: 161 [text/plain]\n",
            "Saving to: ‘userdict.txt’\n",
            "\n",
            "\ruserdict.txt          0%[                    ]       0  --.-KB/s               \ruserdict.txt        100%[===================>]     161  --.-KB/s    in 0s      \n",
            "\n",
            "2018-12-11 00:34:02 (19.7 MB/s) - ‘userdict.txt’ saved [161/161]\n",
            "\n"
          ],
          "name": "stdout"
        }
      ]
    },
    {
      "cell_type": "code",
      "metadata": {
        "id": "W3WdZbVEsPLQ",
        "colab_type": "code",
        "outputId": "f0dd36b4-09e9-43f6-fed9-78db456ec96f",
        "colab": {
          "base_uri": "https://localhost:8080/",
          "height": 194
        }
      },
      "source": [
        "!head userdict.txt"
      ],
      "execution_count": 0,
      "outputs": [
        {
          "output_type": "stream",
          "text": [
            "﻿云计算 5\r\n",
            "李小福 2 nr\r\n",
            "创新办 3 i\r\n",
            "easy_install 3 eng\r\n",
            "好用 300\r\n",
            "韩玉赏鉴 3 nz\r\n",
            "八一双鹿 3 nz\r\n",
            "台中\r\n",
            "凱特琳 nz\r\n",
            "Edu Trust认证 2000\r\n"
          ],
          "name": "stdout"
        }
      ]
    },
    {
      "cell_type": "code",
      "metadata": {
        "id": "DxM1UpRDrk3b",
        "colab_type": "code",
        "outputId": "be142fe5-802c-496a-e2e5-acd2cf9652e8",
        "colab": {
          "base_uri": "https://localhost:8080/",
          "height": 212
        }
      },
      "source": [
        "!wget http://mail.tku.edu.tw/myday/data/exceldata/text_mining_kam_e.xlsx"
      ],
      "execution_count": 0,
      "outputs": [
        {
          "output_type": "stream",
          "text": [
            "--2018-12-11 00:33:28--  http://mail.tku.edu.tw/myday/data/exceldata/text_mining_kam_e.xlsx\n",
            "Resolving mail.tku.edu.tw (mail.tku.edu.tw)... 163.13.1.210\n",
            "Connecting to mail.tku.edu.tw (mail.tku.edu.tw)|163.13.1.210|:80... connected.\n",
            "HTTP request sent, awaiting response... 200 OK\n",
            "Length: 9797 (9.6K) [application/vnd.openxmlformats-officedocument.spreadsheetml.sheet]\n",
            "Saving to: ‘text_mining_kam_e.xlsx’\n",
            "\n",
            "\rtext_mining_kam_e.x   0%[                    ]       0  --.-KB/s               \rtext_mining_kam_e.x 100%[===================>]   9.57K  --.-KB/s    in 0.006s  \n",
            "\n",
            "2018-12-11 00:33:28 (1.52 MB/s) - ‘text_mining_kam_e.xlsx’ saved [9797/9797]\n",
            "\n"
          ],
          "name": "stdout"
        }
      ]
    },
    {
      "cell_type": "code",
      "metadata": {
        "id": "SWw_unSfr4Hd",
        "colab_type": "code",
        "outputId": "4c52f383-9c2a-4aa2-d4a2-ea0d400a8275",
        "colab": {
          "base_uri": "https://localhost:8080/",
          "height": 1382
        }
      },
      "source": [
        "!pip install xlrd\n",
        "import pandas as pd\n",
        "from pandas import ExcelWriter\n",
        "from pandas import ExcelFile\n",
        "\n",
        "jieba.set_dictionary(\"dict.txt.big.txt\") #設定使用中文簡體繁體大詞典 dict.txt.big 58萬詞 \n",
        "jieba.suggest_freq('會計師', True)\n",
        "jieba.suggest_freq('假設', True)\n",
        "jieba.suggest_freq('檢視', True)\n",
        "jieba.suggest_freq('詢問', True)\n",
        "jieba.suggest_freq('取得', True)\n",
        "jieba.suggest_freq('覆核', True)\n",
        "jieba.suggest_freq('關鍵查核事項', True)\n",
        "jieba.suggest_freq('計算明細表', True)\n",
        "jieba.suggest_freq('毛利率報表', True)\n",
        "jieba.suggest_freq('證實文件', True)\n",
        "jieba.suggest_freq('庫齡分析表', True)\n",
        "jieba.suggest_freq('淨變現價值', True)\n",
        "jieba.suggest_freq('提列備抵存貨跌價損失', True)\n",
        "\n",
        "#\n",
        "#會 計師\n",
        "#會計師\n",
        "#關鍵 查核 事項\n",
        "#關鍵查核事項\n",
        "#提列備 抵存 貨跌價 損失\n",
        "#提列備抵存貨跌價損失\n",
        "#計算明 細表\n",
        "#計算明細表\n",
        "\n",
        "\n",
        "# !wget http://mail.tku.edu.tw/myday/data/exceldata/text_mining_kam_e.xlsx\n",
        "df = pd.read_excel('/content/gdrive/My Drive/data/nlp/exceldata/text_mining_kam_e.xlsx', sheetname='Sheet1')\n",
        "#text_mining_kam_e.xlsx\n",
        "#code\tkam\tprocedure\n",
        "code = df['code']\n",
        "kam = df['kam']\n",
        "procedure = df['procedure']\n",
        "print(code)\n",
        "print(kam)\n",
        "print(procedure)\n",
        "print(len(procedure))\n",
        "\n",
        "import csv\n",
        "terms = ['假設', '檢視', '詢問', '取得', '覆核', '關鍵查核事項', '計算明細表', '毛利率報表', '證實文件', '庫齡分析表', '淨變現價值', '提列備抵存貨跌價損失', '會計師', '查核', '管理', '存貨', '評價', '跌價', '變現']\n",
        "csvf = open('TermFrequency.csv', 'w', encoding='utf-8', newline = '')\n",
        "writer = csv.writer(csvf)\n",
        "writer.writerow(('假設', '檢視', '詢問', '取得', '覆核', '關鍵查核事項', '計算明細表', '毛利率報表', '證實文件', '庫齡分析表', '淨變現價值','提列備抵存貨跌價損失', '會計師', '查核', '管理', '存貨', '評價', '跌價', '變現'))\n",
        "\n",
        "for text in procedure:\n",
        "    wordlist = jieba.lcut(text)\n",
        "    print(text)\n",
        "    print(\" \".join(wordlist))\n",
        "    line = []\n",
        "    for item in terms:\n",
        "        line.append(wordlist.count(item))\n",
        "    writer.writerow(tuple(line))\n",
        "csvf.close()\n",
        "\n",
        "df = pd.read_csv('TermFrequency.csv', encoding='utf-8')\n",
        "df.head(10)"
      ],
      "execution_count": 0,
      "outputs": [
        {
          "output_type": "stream",
          "text": [
            "Requirement already satisfied: xlrd in /usr/local/lib/python3.6/dist-packages (1.1.0)\n"
          ],
          "name": "stdout"
        },
        {
          "output_type": "stream",
          "text": [
            "Building prefix dict from /content/dict.txt.big.txt ...\n",
            "Loading model from cache /tmp/jieba.u43f464b336de155982df71dc6a2e3f9e.cache\n",
            "Loading model cost 1.563 seconds.\n",
            "Prefix dict has been built succesfully.\n"
          ],
          "name": "stderr"
        },
        {
          "output_type": "stream",
          "text": [
            "0    1210\n",
            "1    1213\n",
            "2    1215\n",
            "Name: code, dtype: int64\n",
            "0            存貨評價\n",
            "1    存貨備抵跌價損失之評估 \n",
            "2       存貨淨變現價值評估\n",
            "Name: kam, dtype: object\n",
            "0     因應之查核程序：\\n        本會計師對上述關鍵查核事項之主要查核程序包括：\\n  ...\n",
            "1      因應之查核程序     本會計師對於超過一定期間貨齡之存貨及個別有過時與毀損存貨之備抵存...\n",
            "2    因應之查核程序     本會計師對上開關鍵查核事項已執行之查核程序及結果彙總說明如下： \\n...\n",
            "Name: procedure, dtype: object\n",
            "3\n",
            " 因應之查核程序：\n",
            "        本會計師對上述關鍵查核事項之主要查核程序包括：\n",
            "    - 取得管理當局提列備抵存貨跌價損失之計算明細表，評估提列備抵存貨跌價損失之方法\n",
            "      及所依據之資料、假設及公式是否合理。\n",
            "    - 針對正常品存貨檢視決算日之前及之後之產品毛利率報表，對於其中毛利率為負數或者\n",
            "      接近損益兩平之存貨項目，詢問管理階層並檢視適當之證實文件，以評估存貨備抵跌價\n",
            "      損失提列水準之適當性。\n",
            "    - 向管理當局取得存貨之庫齡分析表，評估其完整性及正確性，覆核並評估本期備抵存貨\n",
            "      跌價損失佔存貨之比率與前期比較分析，以評估整體存貨備抵跌價損失水準是否適當。\n",
            "  因應 之 查核 程序 ： \n",
            "                 本 會計師 對 上述 關鍵查核事項 之 主要 查核 程序 包括 ： \n",
            "         -   取得 管理 當局 提列備抵存貨跌價損失 之 計算明細表 ， 評估 提列備抵存貨跌價損失 之 方法 \n",
            "             及 所 依據 之 資料 、 假設 及 公式 是否 合理 。 \n",
            "         -   針對 正常 品 存貨 檢視 決算 日 之前 及 之後 之 產品 毛利率報表 ， 對於 其中 毛利率 為 負數 或者 \n",
            "             接近 損益 兩平 之 存貨 項目 ， 詢問 管理 階層 並 檢視 適當 之 證實文件 ， 以 評估 存貨 備抵 跌價 \n",
            "             損失 提列 水準 之 適當 性 。 \n",
            "         -   向 管理 當局 取得 存貨 之 庫齡分析表 ， 評估 其 完整性 及 正確性 ， 覆核 並 評估 本期 備抵 存貨 \n",
            "             跌價 損失 佔 存貨 之 比率 與 前期 比較 分析 ， 以 評估 整體 存貨 備抵 跌價 損失 水準 是否 適當 。\n",
            "  因應之查核程序     本會計師對於超過一定期間貨齡之存貨及個別有過時與毀損存貨之備抵存貨評價損 \n",
            "失已執行之查核程序及結果如下： \n",
            "    1.比較財務報表期間對備抵存貨評價損失之提列政策係一致採用，且評估其提列政 \n",
            "策是否合理。 \n",
            "    2.驗證管理階層用以評價之存貨貨齡報表系統邏輯之適當性，以確認超過一定貨齡 \n",
            "之過時存貨項目是否已列入該報表。 \n",
            "    3.評估管理階層所個別辨認之過時或毀損存貨項目之合理性及相關佐證文件，並與 \n",
            "觀察存貨盤點所獲得資訊核對。 \n",
            "    4.就個別有過時與毀損之存貨項目所評估淨變現價值，與管理階層討論並取得佐證 \n",
            "文件，並加以計算。 \n",
            "    因應 之 查核 程序           本 會計師 對於 超過 一定 期間 貨齡 之 存貨 及 個別 有 過時 與 毀損 存貨 之 備抵 存貨 評價 損   \n",
            " 失已 執行 之 查核 程序 及 結果 如下 ：   \n",
            "         1 . 比較 財務報表 期間 對 備抵 存貨 評價 損失 之 提列 政策 係 一致 採用 ， 且 評估 其 提列政   \n",
            " 策 是否 合理 。   \n",
            "         2 . 驗證 管理 階層 用以 評價 之 存貨 貨齡 報表 系統 邏輯 之 適當 性 ， 以 確認 超過 一定 貨齡   \n",
            " 之 過時 存貨 項目 是否 已 列入 該 報表 。   \n",
            "         3 . 評估 管理 階層 所 個別 辨認 之 過時 或 毀損 存貨 項目 之 合理性 及 相關 佐證 文件 ， 並與   \n",
            " 觀察 存貨 盤點 所 獲得 資訊 核對 。   \n",
            "         4 . 就 個別 有 過時 與 毀損 之 存貨 項目 所 評估 淨變現價值 ， 與 管理 階層 討論 並 取得 佐證   \n",
            " 文件 ， 並 加以 計算 。  \n",
            "因應之查核程序     本會計師對上開關鍵查核事項已執行之查核程序及結果彙總說明如下： \n",
            "    1.依對卜蜂集團營運及其所屬產業之瞭解，評估其存貨淨變現價值所採用之政策及程 \n",
            "序之合理性，並確認於比較財務報導期間已一致採用。 \n",
            "    2.取得財務報導期間結束日之存貨淨變現價值報表，核對淨變現價值所使用之商品售 \n",
            "價或進貨價格等資料來源，並重新計算應計提之存貨備抵跌價損失，以確認此類會計估 \n",
            "計之執行狀況與其政策一致。 \n",
            "因應 之 查核 程序           本 會計師 對 上 開 關鍵查核事項 已 執行 之 查核 程序 及 結果 彙總 說明 如下 ：   \n",
            "         1 . 依對 卜蜂 集團 營運 及其 所屬 產業 之 瞭解 ， 評估 其 存貨 淨變現價值 所 採用 之 政策 及程   \n",
            " 序 之 合理性 ， 並 確認 於 比較 財務 報導 期間 已 一致 採用 。   \n",
            "         2 . 取得 財務 報導 期間 結束 日 之 存貨 淨變現價值 報表 ， 核對 淨變現價值 所 使用 之 商品 售   \n",
            " 價或 進貨價格 等 資料 來源 ， 並 重新 計算 應 計提 之 存貨 備抵 跌價 損失 ， 以 確認 此類 會計 估   \n",
            " 計之 執行 狀況 與其 政策 一致 。  \n"
          ],
          "name": "stdout"
        },
        {
          "output_type": "stream",
          "text": [
            "/usr/local/lib/python3.6/dist-packages/pandas/util/_decorators.py:118: FutureWarning: The `sheetname` keyword is deprecated, use `sheet_name` instead\n",
            "  return func(*args, **kwargs)\n"
          ],
          "name": "stderr"
        },
        {
          "output_type": "execute_result",
          "data": {
            "text/html": [
              "<div>\n",
              "<style scoped>\n",
              "    .dataframe tbody tr th:only-of-type {\n",
              "        vertical-align: middle;\n",
              "    }\n",
              "\n",
              "    .dataframe tbody tr th {\n",
              "        vertical-align: top;\n",
              "    }\n",
              "\n",
              "    .dataframe thead th {\n",
              "        text-align: right;\n",
              "    }\n",
              "</style>\n",
              "<table border=\"1\" class=\"dataframe\">\n",
              "  <thead>\n",
              "    <tr style=\"text-align: right;\">\n",
              "      <th></th>\n",
              "      <th>假設</th>\n",
              "      <th>檢視</th>\n",
              "      <th>詢問</th>\n",
              "      <th>取得</th>\n",
              "      <th>覆核</th>\n",
              "      <th>關鍵查核事項</th>\n",
              "      <th>計算明細表</th>\n",
              "      <th>毛利率報表</th>\n",
              "      <th>證實文件</th>\n",
              "      <th>庫齡分析表</th>\n",
              "      <th>淨變現價值</th>\n",
              "      <th>提列備抵存貨跌價損失</th>\n",
              "      <th>會計師</th>\n",
              "      <th>查核</th>\n",
              "      <th>管理</th>\n",
              "      <th>存貨</th>\n",
              "      <th>評價</th>\n",
              "      <th>跌價</th>\n",
              "      <th>變現</th>\n",
              "    </tr>\n",
              "  </thead>\n",
              "  <tbody>\n",
              "    <tr>\n",
              "      <th>0</th>\n",
              "      <td>1</td>\n",
              "      <td>2</td>\n",
              "      <td>1</td>\n",
              "      <td>2</td>\n",
              "      <td>1</td>\n",
              "      <td>1</td>\n",
              "      <td>1</td>\n",
              "      <td>1</td>\n",
              "      <td>1</td>\n",
              "      <td>1</td>\n",
              "      <td>0</td>\n",
              "      <td>2</td>\n",
              "      <td>1</td>\n",
              "      <td>2</td>\n",
              "      <td>3</td>\n",
              "      <td>7</td>\n",
              "      <td>0</td>\n",
              "      <td>3</td>\n",
              "      <td>0</td>\n",
              "    </tr>\n",
              "    <tr>\n",
              "      <th>1</th>\n",
              "      <td>0</td>\n",
              "      <td>0</td>\n",
              "      <td>0</td>\n",
              "      <td>1</td>\n",
              "      <td>0</td>\n",
              "      <td>0</td>\n",
              "      <td>0</td>\n",
              "      <td>0</td>\n",
              "      <td>0</td>\n",
              "      <td>0</td>\n",
              "      <td>1</td>\n",
              "      <td>0</td>\n",
              "      <td>1</td>\n",
              "      <td>2</td>\n",
              "      <td>3</td>\n",
              "      <td>9</td>\n",
              "      <td>3</td>\n",
              "      <td>0</td>\n",
              "      <td>0</td>\n",
              "    </tr>\n",
              "    <tr>\n",
              "      <th>2</th>\n",
              "      <td>0</td>\n",
              "      <td>0</td>\n",
              "      <td>0</td>\n",
              "      <td>1</td>\n",
              "      <td>0</td>\n",
              "      <td>1</td>\n",
              "      <td>0</td>\n",
              "      <td>0</td>\n",
              "      <td>0</td>\n",
              "      <td>0</td>\n",
              "      <td>3</td>\n",
              "      <td>0</td>\n",
              "      <td>1</td>\n",
              "      <td>2</td>\n",
              "      <td>0</td>\n",
              "      <td>3</td>\n",
              "      <td>0</td>\n",
              "      <td>1</td>\n",
              "      <td>0</td>\n",
              "    </tr>\n",
              "  </tbody>\n",
              "</table>\n",
              "</div>"
            ],
            "text/plain": [
              "   假設  檢視  詢問  取得  覆核  關鍵查核事項  計算明細表  毛利率報表  證實文件  庫齡分析表  淨變現價值  提列備抵存貨跌價損失  \\\n",
              "0   1   2   1   2   1       1      1      1     1      1      0           2   \n",
              "1   0   0   0   1   0       0      0      0     0      0      1           0   \n",
              "2   0   0   0   1   0       1      0      0     0      0      3           0   \n",
              "\n",
              "   會計師  查核  管理  存貨  評價  跌價  變現  \n",
              "0    1   2   3   7   0   3   0  \n",
              "1    1   2   3   9   3   0   0  \n",
              "2    1   2   0   3   0   1   0  "
            ]
          },
          "metadata": {
            "tags": []
          },
          "execution_count": 74
        }
      ]
    },
    {
      "cell_type": "code",
      "metadata": {
        "id": "Gkq1Fbtez3IC",
        "colab_type": "code",
        "colab": {}
      },
      "source": [
        "#14 Terms\n",
        "#1600 Companies\n",
        "'''\n",
        "\t會計師\t查核\t管理\t存貨\t評價\t跌價\t變現\n",
        "0\t1\t2\t3\t9\t0\t5\t0\n",
        "1\t1\t2\t3\t9\t3\t0\t1\n",
        "2\t1\t2\t0\t3\t0\t1\t3\n",
        "'''"
      ],
      "execution_count": 0,
      "outputs": []
    },
    {
      "cell_type": "markdown",
      "metadata": {
        "id": "o-tCYs5uisQG",
        "colab_type": "text"
      },
      "source": [
        "## Natural Language Toolkit (NLTK)\n",
        "Source: https://www.nltk.org/"
      ]
    },
    {
      "cell_type": "code",
      "metadata": {
        "id": "A1Q241ife2AK",
        "colab_type": "code",
        "outputId": "00b2deab-aca3-4d27-c6b5-147f6b171295",
        "colab": {
          "base_uri": "https://localhost:8080/",
          "height": 52
        }
      },
      "source": [
        "!pip install nltk"
      ],
      "execution_count": 0,
      "outputs": [
        {
          "output_type": "stream",
          "text": [
            "Requirement already satisfied: nltk in /usr/local/lib/python3.6/dist-packages (3.2.5)\n",
            "Requirement already satisfied: six in /usr/local/lib/python3.6/dist-packages (from nltk) (1.11.0)\n"
          ],
          "name": "stdout"
        }
      ]
    },
    {
      "cell_type": "code",
      "metadata": {
        "id": "SoAja_pxeanc",
        "colab_type": "code",
        "outputId": "700beb94-48e5-4fc2-854d-390e41bc73f3",
        "colab": {
          "base_uri": "https://localhost:8080/",
          "height": 1065
        }
      },
      "source": [
        "import nltk\n",
        "nltk.download(\"popular\")\n",
        "sentence = \"At eight o'clock on Thursday morning Arthur didn't feel very good.\"\n",
        "tokens = nltk.word_tokenize(sentence)\n",
        "tokens"
      ],
      "execution_count": 0,
      "outputs": [
        {
          "output_type": "stream",
          "text": [
            "[nltk_data] Downloading collection 'popular'\n",
            "[nltk_data]    | \n",
            "[nltk_data]    | Downloading package cmudict to /root/nltk_data...\n",
            "[nltk_data]    |   Unzipping corpora/cmudict.zip.\n",
            "[nltk_data]    | Downloading package gazetteers to /root/nltk_data...\n",
            "[nltk_data]    |   Unzipping corpora/gazetteers.zip.\n",
            "[nltk_data]    | Downloading package genesis to /root/nltk_data...\n",
            "[nltk_data]    |   Unzipping corpora/genesis.zip.\n",
            "[nltk_data]    | Downloading package gutenberg to /root/nltk_data...\n",
            "[nltk_data]    |   Unzipping corpora/gutenberg.zip.\n",
            "[nltk_data]    | Downloading package inaugural to /root/nltk_data...\n",
            "[nltk_data]    |   Unzipping corpora/inaugural.zip.\n",
            "[nltk_data]    | Downloading package movie_reviews to\n",
            "[nltk_data]    |     /root/nltk_data...\n",
            "[nltk_data]    |   Unzipping corpora/movie_reviews.zip.\n",
            "[nltk_data]    | Downloading package names to /root/nltk_data...\n",
            "[nltk_data]    |   Unzipping corpora/names.zip.\n",
            "[nltk_data]    | Downloading package shakespeare to /root/nltk_data...\n",
            "[nltk_data]    |   Unzipping corpora/shakespeare.zip.\n",
            "[nltk_data]    | Downloading package stopwords to /root/nltk_data...\n",
            "[nltk_data]    |   Unzipping corpora/stopwords.zip.\n",
            "[nltk_data]    | Downloading package treebank to /root/nltk_data...\n",
            "[nltk_data]    |   Unzipping corpora/treebank.zip.\n",
            "[nltk_data]    | Downloading package twitter_samples to\n",
            "[nltk_data]    |     /root/nltk_data...\n",
            "[nltk_data]    |   Unzipping corpora/twitter_samples.zip.\n",
            "[nltk_data]    | Downloading package omw to /root/nltk_data...\n",
            "[nltk_data]    |   Unzipping corpora/omw.zip.\n",
            "[nltk_data]    | Downloading package wordnet to /root/nltk_data...\n",
            "[nltk_data]    |   Unzipping corpora/wordnet.zip.\n",
            "[nltk_data]    | Downloading package wordnet_ic to /root/nltk_data...\n",
            "[nltk_data]    |   Unzipping corpora/wordnet_ic.zip.\n",
            "[nltk_data]    | Downloading package words to /root/nltk_data...\n",
            "[nltk_data]    |   Unzipping corpora/words.zip.\n",
            "[nltk_data]    | Downloading package maxent_ne_chunker to\n",
            "[nltk_data]    |     /root/nltk_data...\n",
            "[nltk_data]    |   Unzipping chunkers/maxent_ne_chunker.zip.\n",
            "[nltk_data]    | Downloading package punkt to /root/nltk_data...\n",
            "[nltk_data]    |   Unzipping tokenizers/punkt.zip.\n",
            "[nltk_data]    | Downloading package snowball_data to\n",
            "[nltk_data]    |     /root/nltk_data...\n",
            "[nltk_data]    | Downloading package averaged_perceptron_tagger to\n",
            "[nltk_data]    |     /root/nltk_data...\n",
            "[nltk_data]    |   Unzipping taggers/averaged_perceptron_tagger.zip.\n",
            "[nltk_data]    | \n",
            "[nltk_data]  Done downloading collection popular\n"
          ],
          "name": "stdout"
        },
        {
          "output_type": "execute_result",
          "data": {
            "text/plain": [
              "['At',\n",
              " 'eight',\n",
              " \"o'clock\",\n",
              " 'on',\n",
              " 'Thursday',\n",
              " 'morning',\n",
              " 'Arthur',\n",
              " 'did',\n",
              " \"n't\",\n",
              " 'feel',\n",
              " 'very',\n",
              " 'good',\n",
              " '.']"
            ]
          },
          "metadata": {
            "tags": []
          },
          "execution_count": 8
        }
      ]
    },
    {
      "cell_type": "code",
      "metadata": {
        "id": "_ZpyqDaXgG-b",
        "colab_type": "code",
        "outputId": "09799721-2d7c-4eeb-8aab-b13fcbf1f361",
        "colab": {
          "base_uri": "https://localhost:8080/",
          "height": 123
        }
      },
      "source": [
        "tagged = nltk.pos_tag(tokens)\n",
        "tagged[0:6]"
      ],
      "execution_count": 0,
      "outputs": [
        {
          "output_type": "execute_result",
          "data": {
            "text/plain": [
              "[('At', 'IN'),\n",
              " ('eight', 'CD'),\n",
              " (\"o'clock\", 'NN'),\n",
              " ('on', 'IN'),\n",
              " ('Thursday', 'NNP'),\n",
              " ('morning', 'NN')]"
            ]
          },
          "metadata": {
            "tags": []
          },
          "execution_count": 11
        }
      ]
    },
    {
      "cell_type": "code",
      "metadata": {
        "id": "Nrdw_vBWgMiD",
        "colab_type": "code",
        "outputId": "857cd174-63dd-4b0d-96e6-11762d4f941e",
        "colab": {
          "base_uri": "https://localhost:8080/",
          "height": 247
        }
      },
      "source": [
        "tagged"
      ],
      "execution_count": 0,
      "outputs": [
        {
          "output_type": "execute_result",
          "data": {
            "text/plain": [
              "[('At', 'IN'),\n",
              " ('eight', 'CD'),\n",
              " (\"o'clock\", 'NN'),\n",
              " ('on', 'IN'),\n",
              " ('Thursday', 'NNP'),\n",
              " ('morning', 'NN'),\n",
              " ('Arthur', 'NNP'),\n",
              " ('did', 'VBD'),\n",
              " (\"n't\", 'RB'),\n",
              " ('feel', 'VB'),\n",
              " ('very', 'RB'),\n",
              " ('good', 'JJ'),\n",
              " ('.', '.')]"
            ]
          },
          "metadata": {
            "tags": []
          },
          "execution_count": 12
        }
      ]
    },
    {
      "cell_type": "code",
      "metadata": {
        "id": "FRSnPwlagfJD",
        "colab_type": "code",
        "outputId": "4a7518be-48d6-4318-abb0-368d42681509",
        "colab": {
          "base_uri": "https://localhost:8080/",
          "height": 54
        }
      },
      "source": [
        "print(tagged)"
      ],
      "execution_count": 0,
      "outputs": [
        {
          "output_type": "stream",
          "text": [
            "[('At', 'IN'), ('eight', 'CD'), (\"o'clock\", 'NN'), ('on', 'IN'), ('Thursday', 'NNP'), ('morning', 'NN'), ('Arthur', 'NNP'), ('did', 'VBD'), (\"n't\", 'RB'), ('feel', 'VB'), ('very', 'RB'), ('good', 'JJ'), ('.', '.')]\n"
          ],
          "name": "stdout"
        }
      ]
    },
    {
      "cell_type": "code",
      "metadata": {
        "id": "IJm3e-yQhP6E",
        "colab_type": "code",
        "outputId": "c337362b-99ad-4b38-ec1d-3e3da8eb5ad9",
        "colab": {
          "base_uri": "https://localhost:8080/",
          "height": 265
        }
      },
      "source": [
        "entities = nltk.chunk.ne_chunk(tagged)\n",
        "print(entities)"
      ],
      "execution_count": 0,
      "outputs": [
        {
          "output_type": "stream",
          "text": [
            "(S\n",
            "  At/IN\n",
            "  eight/CD\n",
            "  o'clock/NN\n",
            "  on/IN\n",
            "  Thursday/NNP\n",
            "  morning/NN\n",
            "  (PERSON Arthur/NNP)\n",
            "  did/VBD\n",
            "  n't/RB\n",
            "  feel/VB\n",
            "  very/RB\n",
            "  good/JJ\n",
            "  ./.)\n"
          ],
          "name": "stdout"
        }
      ]
    },
    {
      "cell_type": "code",
      "metadata": {
        "id": "gjDhZ3yYgj_Y",
        "colab_type": "code",
        "outputId": "7782a5bb-2a4f-404e-adaa-590721006102",
        "colab": {
          "base_uri": "https://localhost:8080/",
          "height": 265
        }
      },
      "source": [
        "from nltk.corpus import treebank\n",
        "t = treebank.parsed_sents('wsj_0001.mrg')[0]\n",
        "print(t)"
      ],
      "execution_count": 0,
      "outputs": [
        {
          "output_type": "stream",
          "text": [
            "(S\n",
            "  (NP-SBJ\n",
            "    (NP (NNP Pierre) (NNP Vinken))\n",
            "    (, ,)\n",
            "    (ADJP (NP (CD 61) (NNS years)) (JJ old))\n",
            "    (, ,))\n",
            "  (VP\n",
            "    (MD will)\n",
            "    (VP\n",
            "      (VB join)\n",
            "      (NP (DT the) (NN board))\n",
            "      (PP-CLR (IN as) (NP (DT a) (JJ nonexecutive) (NN director)))\n",
            "      (NP-TMP (NNP Nov.) (CD 29))))\n",
            "  (. .))\n"
          ],
          "name": "stdout"
        }
      ]
    }
  ]
}