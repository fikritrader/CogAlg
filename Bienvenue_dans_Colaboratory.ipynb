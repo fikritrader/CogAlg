{
  "nbformat": 4,
  "nbformat_minor": 0,
  "metadata": {
    "colab": {
      "name": "Bienvenue dans Colaboratory",
      "version": "0.3.2",
      "provenance": [],
      "collapsed_sections": [],
      "toc_visible": true,
      "include_colab_link": true
    },
    "kernelspec": {
      "display_name": "Python 3",
      "name": "python3"
    }
  },
  "cells": [
    {
      "cell_type": "markdown",
      "metadata": {
        "id": "view-in-github",
        "colab_type": "text"
      },
      "source": [
        "<a href=\"https://colab.research.google.com/github/fikritrader/CogAlg/blob/master/Bienvenue_dans_Colaboratory.ipynb\" target=\"_parent\"><img src=\"https://colab.research.google.com/assets/colab-badge.svg\" alt=\"Open In Colab\"/></a>"
      ]
    },
    {
      "cell_type": "markdown",
      "metadata": {
        "colab_type": "text",
        "id": "9J7p406abzgl"
      },
      "source": [
        "<p><img height=\"45px\" src=\"https://colab.research.google.com/img/colab_favicon.ico\" align=\"left\" hspace=\"10px\" vspace=\"0px\"></p>\n",
        "\n",
        "<h1>Bienvenue dans Colaboratory !</h1>\n",
        "\n",
        "\n",
        "Colaboratory est un environnement de notebook Jupyter qui ne nécessite aucune configuration et qui s'exécute entièrement dans le cloud.\n",
        "\n",
        "Il vous permet d'écrire et d'exécuter du code, de sauvegarder et partager vos analyses, et d'accéder à de puissantes ressources informatiques. Tout cela gratuitement, depuis votre navigateur."
      ]
    },
    {
      "cell_type": "code",
      "metadata": {
        "cellView": "form",
        "colab_type": "code",
        "id": "xitplqMNk_Hc",
        "outputId": "ed4f60d2-878d-4056-c438-352dac39a112",
        "colab": {
          "height": 420
        }
      },
      "source": [
        "#@title Présentation de Colaboratory\n",
        "#@markdown Cette vidéo de trois minutes offre un aperçu des fonctionnalités principales de Colaboratory :\n",
        "from IPython.display import YouTubeVideo\n",
        "YouTubeVideo('inN8seMm7UI', width=600, height=400)"
      ],
      "execution_count": 0,
      "outputs": [
        {
          "output_type": "execute_result",
          "data": {
            "text/html": [
              "\n",
              "        <iframe\n",
              "            width=\"600\"\n",
              "            height=\"400\"\n",
              "            src=\"https://www.youtube.com/embed/inN8seMm7UI\"\n",
              "            frameborder=\"0\"\n",
              "            allowfullscreen\n",
              "        ></iframe>\n",
              "        "
            ],
            "text/plain": [
              "<IPython.lib.display.YouTubeVideo at 0x7f956e9dda50>"
            ]
          },
          "metadata": {
            "tags": []
          },
          "execution_count": 0
        }
      ]
    },
    {
      "cell_type": "markdown",
      "metadata": {
        "colab_type": "text",
        "id": "GJBs_flRovLc"
      },
      "source": [
        "## Premiers pas\n",
        "\n",
        "Le document que vous consultez est un [notebook Jupyter](https://jupyter.org), hébergé dans Colaboratory. Il ne s'agit pas d'une page statique, mais d'un environnement interactif qui vous permet d'écrire et d'exécuter du code en Python ou dans un autre langage.\n",
        "\n",
        "\n",
        "Voici par exemple une **cellule de code** avec un bref script en Python qui calcule une valeur, l'enregistre dans une variable et imprime le résultat :"
      ]
    },
    {
      "cell_type": "code",
      "metadata": {
        "colab_type": "code",
        "id": "gJr_9dXGpJ05",
        "outputId": "5626194c-e802-4293-942d-2908885c3c1f",
        "colab": {
          "height": 35
        }
      },
      "source": [
        "secondes_dans_une_journée = 24 * 60 * 60\n",
        "secondes_dans_une_journée"
      ],
      "execution_count": 0,
      "outputs": [
        {
          "output_type": "execute_result",
          "data": {
            "text/plain": [
              "86400"
            ]
          },
          "metadata": {
            "tags": []
          },
          "execution_count": 0
        }
      ]
    },
    {
      "cell_type": "markdown",
      "metadata": {
        "colab_type": "text",
        "id": "2fhs6GZ4qFMx"
      },
      "source": [
        "Pour exécuter le code dans la cellule ci-dessus, sélectionnez-le en cliquant dessus, puis cliquez sur le bouton ▷ à gauche du code, ou utilisez le raccourci clavier \"⌘/Ctrl+Entrée\".\n",
        "\n",
        "Toutes les cellules modifient le même état général. Les variables que vous définissez en exécutant une cellule peuvent donc être utilisées dans d'autres cellules :"
      ]
    },
    {
      "cell_type": "code",
      "metadata": {
        "colab_type": "code",
        "id": "-gE-Ez1qtyIA",
        "outputId": "8d2e4259-4682-4e19-b683-7b9087f28820",
        "colab": {
          "height": 35
        }
      },
      "source": [
        "secondes_dans_une_semaine = 7 * secondes_dans_une_journée\n",
        "secondes_dans_une_semaine"
      ],
      "execution_count": 0,
      "outputs": [
        {
          "output_type": "execute_result",
          "data": {
            "text/plain": [
              "604800"
            ]
          },
          "metadata": {
            "tags": []
          },
          "execution_count": 0
        }
      ]
    },
    {
      "cell_type": "markdown",
      "metadata": {
        "colab_type": "text",
        "id": "-Rh3-Vt9Nev9"
      },
      "source": [
        "## Autres ressources\n",
        "\n",
        "Découvrez comment optimiser votre utilisation de Python, Jupyter, Colaboratory et d'autres outils associés à l'aide des ressources suivantes :\n",
        "\n",
        "### Cours d'initiation au Machine Learning\n",
        "Il s'agit de quelques-uns des notebooks de la formation Google en ligne sur le machine learning. Consultez [la formation complète en ligne](https://developers.google.com/machine-learning/crash-course/) pour en savoir plus.\n",
        "- [Présentation rapide de Pandas](/notebooks/mlcc/intro_to_pandas.ipynb)\n",
        "- [Concepts de programmation de TensorFlow](/notebooks/mlcc/tensorflow_programming_concepts.ipynb)\n",
        "- [Premiers pas avec TensorFlow](/notebooks/mlcc/first_steps_with_tensor_flow.ipynb)\n",
        "- [Introduction aux réseaux de neurones](/notebooks/mlcc/intro_to_neural_nets.ipynb)\n",
        "- [Introduction aux données rares et aux représentations vectorielles continues](/notebooks/mlcc/intro_to_sparse_data_and_embeddings.ipynb)\n",
        "\n",
        "### Exemples de machine learning : projet Seedbank\n",
        "\n",
        "Pour voir des exemples de bout en bout des analyses interactives de machine learning rendues possibles par Colaboratory, découvrez le projet [Seedbank](https://research.google.com/seedbank/).\n",
        "\n",
        "Voici quelques exemples :\n",
        "\n",
        "- [Neural Style Transfer](https://research.google.com/seedbank/seed/neural_style_transfer_with_tfkeras): Utiliser le deep learning pour transférer un style d'une image à une autre.\n",
        "- [EZ NSynth](https://research.google.com/seedbank/seed/ez_nsynth): Synthétiser des sons avec les auto-encodeurs WaveNet.\n",
        "- [Fashion MNIST with Keras and TPUs](https://research.google.com/seedbank/seed/fashion_mnist_with_keras_and_tpus): Classer des images liées à la mode en utilisant le deep learning.\n",
        "- [DeepDream](https://research.google.com/seedbank/seed/deepdream): Produire des images DeepDream à partir de vos propres photos.\n",
        "- [Convolutional VAE](https://research.google.com/seedbank/seed/convolutional_vae): Créer un modèle génératif de chiffres écrits à la main."
      ]
    },
    {
      "cell_type": "code",
      "metadata": {
        "id": "IGytHMdUz7V3",
        "colab_type": "code",
        "colab": {}
      },
      "source": [
        "\"\"\"\n",
        "Pairs Trading with Kalman Filters\n",
        "\n",
        "Author: David Edwards \n",
        "\n",
        "This algorithm extends the Kalman Filtering pairs trading algorithm from a\n",
        "previous lecture to support multiple pairs. In order to extend the idea,\n",
        "the previous algorithm was factored into a class so several instances can be\n",
        "created with different assets.\n",
        "\n",
        "\n",
        "This algorithm was developed by David Edwards as part of \n",
        "Quantopian's 2015 summer lecture series. Please direct any \n",
        "questions, feedback, or corrections to dedwards@quantopian.com\n",
        "\"\"\"\n",
        "\n",
        "\n",
        "import numpy as np\n",
        "import pandas as pd\n",
        "from pykalman import KalmanFilter\n",
        "import statsmodels.api as sm\n",
        "\n",
        "\n",
        "def initialize(context):\n",
        "    # Quantopian backtester specific variables\n",
        "    set_slippage(slippage.FixedSlippage(spread=0))\n",
        "    set_commission(commission.PerShare(cost=0.01, min_trade_cost=1.0))\n",
        "    set_symbol_lookup_date('2014-01-01')\n",
        "    \n",
        "    context.pairs = [\n",
        "        KalmanPairTrade(symbol('STX'), symbol('WDC'),\n",
        "                        initial_bars=300, freq='1m', delta=1e-3, maxlen=300),\n",
        "        KalmanPairTrade(symbol('CBI'), symbol('JEC'),\n",
        "                        initial_bars=300, freq='1m', delta=1e-3, maxlen=300),\n",
        "        KalmanPairTrade(symbol('MAS'), symbol('VMC'),\n",
        "                        initial_bars=300, freq='1m', delta=1e-3, maxlen=300),\n",
        "        KalmanPairTrade(symbol('JPM'), symbol('C'),\n",
        "                        initial_bars=300, freq='1m', delta=1e-3, maxlen=300),\n",
        "        KalmanPairTrade(symbol('AON'), symbol('MMC'),\n",
        "                        initial_bars=300, freq='1m', delta=1e-3, maxlen=300),\n",
        "        KalmanPairTrade(symbol('COP'), symbol('CVX'),\n",
        "                        initial_bars=300, freq='1m', delta=1e-3, maxlen=300),\n",
        "       \n",
        "    ]\n",
        "    \n",
        "    weight = 1.8 / len(context.pairs)\n",
        "    for pair in context.pairs:\n",
        "        pair.leverage = weight\n",
        "        \n",
        "    for minute in range(10, 390, 90):\n",
        "        for pair in context.pairs:\n",
        "            schedule_function(pair.trading_logic,\n",
        "                              time_rule=time_rules.market_open(minutes=minute))\n",
        "    \n",
        "\n",
        "class KalmanPairTrade(object):\n",
        "\n",
        "    def __init__(self, y, x, leverage=1.0, initial_bars=10, \n",
        "                 freq='1d', delta=1e-3, maxlen=3000):\n",
        "        self._y = y\n",
        "        self._x = x\n",
        "        self.maxlen = maxlen\n",
        "        self.initial_bars = initial_bars\n",
        "        self.freq = freq\n",
        "        self.delta = delta\n",
        "        self.leverage = leverage\n",
        "        self.Y = KalmanMovingAverage(self._y, maxlen=self.maxlen)\n",
        "        self.X = KalmanMovingAverage(self._x, maxlen=self.maxlen)\n",
        "        self.kf = None\n",
        "        self.entry_dt = pd.Timestamp('1900-01-01', tz='utc')\n",
        "        \n",
        "    @property\n",
        "    def name(self):\n",
        "        return \"{}~{}\".format(self._y.symbol, self._x.symbol)\n",
        "\n",
        "    def trading_logic(self, context, data):\n",
        "        try:\n",
        "            if self.kf is None:\n",
        "                self.initialize_filters(context, data)\n",
        "                return\n",
        "            self.update()\n",
        "            if get_open_orders(sid=self._x) or get_open_orders(sid=self._y):\n",
        "                return\n",
        "            spreads = self.mean_spread()\n",
        "\n",
        "            zscore = (spreads[-1] - spreads.mean()) / spreads.std()\n",
        "\n",
        "            reference_pos = context.portfolio.positions[self._y].amount\n",
        "\n",
        "            now = get_datetime()\n",
        "            if reference_pos:\n",
        "                if (now - self.entry_dt).days > 20:\n",
        "                    order_target(self._y, 0.0)\n",
        "                    order_target(self._x, 0.0)\n",
        "                    return\n",
        "                # Do a PNL check to make sure a reversion at least covered trading costs\n",
        "                # I do this because parameter drift often causes trades to be exited\n",
        "                # before the original spread has become profitable.\n",
        "                pnl = self.get_pnl(context, data)\n",
        "                if zscore > -0.0 and reference_pos > 0 and pnl > 0:\n",
        "                    order_target(self._y, 0.0)\n",
        "                    order_target(self._x, 0.0)\n",
        "\n",
        "                elif zscore < 0.0 and reference_pos < 0 and pnl > 0:\n",
        "                    order_target(self._y, 0.0)\n",
        "                    order_target(self._x, 0.0)\n",
        "\n",
        "            else:\n",
        "                if zscore > 1.5:\n",
        "                    order_target_percent(self._y, -self.leverage / 2.)\n",
        "                    order_target_percent(self._x, self.leverage / 2.)\n",
        "                    self.entry_dt = now\n",
        "                if zscore < -1.5:\n",
        "                    order_target_percent(self._y, self.leverage / 2.)\n",
        "                    order_target_percent(self._x, -self.leverage / 2.)\n",
        "                    self.entry_dt = now\n",
        "        except Exception as e:\n",
        "            log.debug(\"[{}] {}\".format(self.name, str(e)))\n",
        "\n",
        "    def update(self):\n",
        "        prices = np.log(history(bar_count=1, frequency='1m', field='price'))\n",
        "        self.X.update(prices)\n",
        "        self.Y.update(prices)\n",
        "        self.kf.update(self.means_frame().iloc[-1])\n",
        "\n",
        "    def mean_spread(self):\n",
        "        means = self.means_frame()\n",
        "        beta, alpha = self.kf.state_mean\n",
        "        return means[self._y] - (beta * means[self._x] + alpha)\n",
        "\n",
        "\n",
        "    def means_frame(self):\n",
        "        mu_Y = self.Y.state_means\n",
        "        mu_X = self.X.state_means\n",
        "        return pd.DataFrame([mu_Y, mu_X]).T\n",
        "\n",
        "            \n",
        "    def initialize_filters(self, context, data):\n",
        "        prices = np.log(history(self.initial_bars, self.freq, 'price'))\n",
        "        self.X.update(prices)\n",
        "        self.Y.update(prices)\n",
        "\n",
        "        # Drops the initial 0 mean value from the kalman filter\n",
        "        self.X.state_means = self.X.state_means.iloc[-self.initial_bars:]\n",
        "        self.Y.state_means = self.Y.state_means.iloc[-self.initial_bars:]\n",
        "        self.kf = KalmanRegression(self.Y.state_means, self.X.state_means,\n",
        "                                   delta=self.delta, maxlen=self.maxlen)\n",
        "    \n",
        "    def get_pnl(self, context, data):\n",
        "        x = self._x\n",
        "        y = self._y\n",
        "        prices = history(1, '1d', 'price').iloc[-1]\n",
        "        positions = context.portfolio.positions\n",
        "        dx = prices[x] - positions[x].cost_basis\n",
        "        dy = prices[y] - positions[y].cost_basis\n",
        "        return (positions[x].amount * dx +\n",
        "                positions[y].amount * dy)\n",
        "    \n",
        "    \n",
        "    \n",
        "def handle_data(context, data):\n",
        "    record(market_exposure=context.account.net_leverage,\n",
        "           leverage=context.account.leverage)\n",
        "    \n",
        "    \n",
        "class KalmanMovingAverage(object):\n",
        "    \"\"\"\n",
        "    Estimates the moving average of a price process \n",
        "    via Kalman Filtering. \n",
        "    \n",
        "    See http://pykalman.github.io/ for docs on the \n",
        "    filtering process. \n",
        "    \"\"\"\n",
        "    \n",
        "    def __init__(self, asset, observation_covariance=1.0, initial_value=0,\n",
        "                 initial_state_covariance=1.0, transition_covariance=0.05, \n",
        "                 initial_window=20, maxlen=3000, freq='1d'):\n",
        "        \n",
        "        self.asset = asset\n",
        "        self.freq = freq\n",
        "        self.initial_window = initial_window\n",
        "        self.maxlen = maxlen\n",
        "        self.kf = KalmanFilter(transition_matrices=[1],\n",
        "                               observation_matrices=[1],\n",
        "                               initial_state_mean=initial_value,\n",
        "                               initial_state_covariance=initial_state_covariance,\n",
        "                               observation_covariance=observation_covariance,\n",
        "                               transition_covariance=transition_covariance)\n",
        "        self.state_means = pd.Series([self.kf.initial_state_mean], name=self.asset)\n",
        "        self.state_vars = pd.Series([self.kf.initial_state_covariance], name=self.asset)\n",
        "        \n",
        "        \n",
        "    def update(self, observations):\n",
        "        for dt, observation in observations[self.asset].iterkv():\n",
        "            self._update(dt, observation)\n",
        "        \n",
        "    def _update(self, dt, observation):\n",
        "        mu, cov = self.kf.filter_update(self.state_means.iloc[-1],\n",
        "                                        self.state_vars.iloc[-1],\n",
        "                                        observation)\n",
        "        self.state_means[dt] = mu.flatten()[0]\n",
        "        self.state_vars[dt] = cov.flatten()[0]\n",
        "        if self.state_means.shape[0] > self.maxlen:\n",
        "            self.state_means = self.state_means.iloc[-self.maxlen:]\n",
        "        if self.state_vars.shape[0] > self.maxlen:\n",
        "            self.state_vars = self.state_vars.iloc[-self.maxlen:]\n",
        "        \n",
        "        \n",
        "class KalmanRegression(object):\n",
        "    \"\"\"\n",
        "    Uses a Kalman Filter to estimate regression parameters \n",
        "    in an online fashion.\n",
        "    \n",
        "    Estimated model: y ~ beta * x + alpha\n",
        "    \"\"\"\n",
        "    \n",
        "    def __init__(self, initial_y, initial_x, delta=1e-5, maxlen=3000):\n",
        "        self._x = initial_x.name\n",
        "        self._y = initial_y.name\n",
        "        self.maxlen = maxlen\n",
        "        trans_cov = delta / (1 - delta) * np.eye(2)\n",
        "        obs_mat = np.expand_dims(\n",
        "            np.vstack([[initial_x], [np.ones(initial_x.shape[0])]]).T, axis=1)\n",
        "        \n",
        "        self.kf = KalmanFilter(n_dim_obs=1, n_dim_state=2,\n",
        "                               initial_state_mean=np.zeros(2),\n",
        "                               initial_state_covariance=np.ones((2, 2)),\n",
        "                               transition_matrices=np.eye(2),\n",
        "                               observation_matrices=obs_mat,\n",
        "                               observation_covariance=1.0,\n",
        "                               transition_covariance=trans_cov)\n",
        "        state_means, state_covs = self.kf.filter(initial_y.values)\n",
        "        self.means = pd.DataFrame(state_means, \n",
        "                                  index=initial_y.index, \n",
        "                                  columns=['beta', 'alpha'])\n",
        "        self.state_cov = state_covs[-1]\n",
        "        \n",
        "    def update(self, observations):\n",
        "        x = observations[self._x]\n",
        "        y = observations[self._y]\n",
        "        mu, self.state_cov = self.kf.filter_update(\n",
        "            self.state_mean, self.state_cov, y, \n",
        "            observation_matrix=np.array([[x, 1.0]]))\n",
        "        mu = pd.Series(mu, index=['beta', 'alpha'], \n",
        "                       name=observations.name)\n",
        "        self.means = self.means.append(mu)\n",
        "        if self.means.shape[0] > self.maxlen:\n",
        "            self.means = self.means.iloc[-self.maxlen:]\n",
        "        \n",
        "    def get_spread(self, observations):\n",
        "        x = observations[self._x]\n",
        "        y = observations[self._y]\n",
        "        return y - (self.means.beta[-1] * x + self.means.alpha[-1])"
      ],
      "execution_count": 0,
      "outputs": []
    }
  ]
}